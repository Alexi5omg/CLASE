{
  "cells": [
    {
      "cell_type": "markdown",
      "metadata": {
        "id": "HSCoRcapCjpd"
      },
      "source": [
        "<h1 align=\"center\">Física Computacional</h1>\n",
        "<h1 align=\"center\">Semestre 2025-4</h1>\n",
        "\n",
        "<h2>Sergio A. Alcalá Corona</h2>\n",
        "<h2>Rodrigo Vega Vilchis</h2>\n",
        "\n",
        "---\n",
        "### Alumno: Juan Alexis Hernández Hernández\n",
        "---"
      ]
    },
    {
      "cell_type": "markdown",
      "metadata": {
        "id": "4ZpV8qNcCjpg"
      },
      "source": [
        "<h1 align=\"center\">Práctica 2. Graficación en Python e integración numérica</h1>"
      ]
    },
    {
      "cell_type": "code",
      "execution_count": null,
      "metadata": {
        "id": "Kc1nohd36a2-"
      },
      "outputs": [],
      "source": [
        "import math as mt\n",
        "import numpy as np"
      ]
    },
    {
      "cell_type": "markdown",
      "source": [
        "### Graficación en Python"
      ],
      "metadata": {
        "id": "9GdaGuX-jPO3"
      }
    },
    {
      "cell_type": "markdown",
      "metadata": {
        "id": "ANd_ljcICjpi"
      },
      "source": [
        "#### **1. Gráfica de datos experimentales**: El archivo $\\texttt{manchasolares.txt}$ (adjunto), contiene el número observado de manchas solares en el Sol en cada mes desde enero de 1749. El archivo contiene dos columnas de números, la primera es el mes y la segunda el número de manchas solares."
      ]
    },
    {
      "cell_type": "markdown",
      "metadata": {
        "id": "ySSZqA4UCjpi"
      },
      "source": [
        "#### **(a)** Escribe un programa que lea los datos y haga una gráfica de las manchas solares en función del tiempo."
      ]
    },
    {
      "cell_type": "code",
      "source": [],
      "metadata": {
        "id": "j4-rzYVDkq_m"
      },
      "execution_count": null,
      "outputs": []
    },
    {
      "cell_type": "markdown",
      "metadata": {
        "id": "pAFNnVjfCjpo"
      },
      "source": [
        "#### **(b)** Modifica tu programa para mostrar solo los primeros $1000$ datos (experimentales) en la gráfica."
      ]
    },
    {
      "cell_type": "code",
      "source": [],
      "metadata": {
        "id": "VihxGlmXk74K"
      },
      "execution_count": null,
      "outputs": []
    },
    {
      "cell_type": "markdown",
      "metadata": {
        "id": "wZJR9zlGCjpu"
      },
      "source": [
        "#### **(c)** Modifica nuevamente tu programa para calcular y graficar la media (promedio) móvil de los datos, definida por:\n",
        "\n",
        "$$y_k = \\frac{1}{2r+1}\\sum_{m=-r}^{r}y_{k+m}$$\n",
        "\n",
        "#### donde $r=5$ (en este caso) y $y_k$ son los números de manchas solares. El programa debe graficar tanto los datos originales como la media móvil en el mismo gráfico, sólo sobre los primeros $1000$ datos."
      ]
    },
    {
      "cell_type": "code",
      "source": [],
      "metadata": {
        "id": "d-caRdEgm_-J"
      },
      "execution_count": null,
      "outputs": []
    },
    {
      "cell_type": "markdown",
      "metadata": {
        "id": "zCIidQNoCjpv"
      },
      "source": [
        "#### **2. Gráfica de curvas**: Aunque la función $\\texttt{plot}$ está diseñada principalmente para hacer gráficos $xy$ estándar, se puede adaptar para otros tipos de gráficas también."
      ]
    },
    {
      "cell_type": "markdown",
      "metadata": {
        "id": "coqT9KEXNMVs"
      },
      "source": [
        "#### **(a)** Grafica la llamada curva *deltoide*, definida paramétricamente por las ecuaciones:\n",
        "\n",
        "$$x = 2Cos\\theta + Cos(2\\theta) \\hspace{2cm} y = 2Sen\\theta - Sen(2\\theta)$$\n",
        "\n",
        "#### donde $0\\leqθ<2\\pi$. Toma un conjunto de valores para $\\theta$ entre $0$ y $2\\pi$ y calcula $x(θ)$ e $y(θ)$ usando las ecuaciones anteriores, para posteriormente graficar $y$ como función de $x$."
      ]
    },
    {
      "cell_type": "code",
      "source": [],
      "metadata": {
        "id": "-AgGUMtSneLw"
      },
      "execution_count": null,
      "outputs": []
    },
    {
      "cell_type": "markdown",
      "metadata": {
        "id": "bf48xHfdLwUD"
      },
      "source": [
        "#### **(b)** Usando este mismo enfoque, se puede hacer una gráfica polar $r = f(θ)$ para alguna función $f$ calculando $r$ para un rango de valores de $θ$ y luego convirtiendo $r$ y $θ$ a coordenadas cartesianas usando las ecuaciones estándar:\n",
        "\n",
        "$$x = rCos\\theta \\hspace{2cm} y = rSen\\theta$$\n",
        "\n",
        "#### Utiliza este método para trazar la *espiral Galileana* $r = \\theta^2$ para $0\\leqθ\\leq10\\pi$."
      ]
    },
    {
      "cell_type": "code",
      "source": [],
      "metadata": {
        "id": "bOPPmAv6ptE3"
      },
      "execution_count": null,
      "outputs": []
    },
    {
      "cell_type": "markdown",
      "metadata": {
        "id": "2TwfhUrbCjpx"
      },
      "source": [
        "#### Con el mismo método, haz una gráfica polar de la *función de Fey*\n",
        "\n",
        "$$r = e^{Cos\\theta} - 2Cos(4\\theta) + Sen^{5}(\\frac{\\theta}{12})$$\n",
        "\n",
        "#### en el rango $0\\leq\\theta\\leq24\\pi$."
      ]
    },
    {
      "cell_type": "code",
      "source": [],
      "metadata": {
        "id": "KhTe3rPyqPMk"
      },
      "execution_count": null,
      "outputs": []
    },
    {
      "cell_type": "markdown",
      "metadata": {
        "id": "mryJ9f_GCjpy"
      },
      "source": [
        "#### **3. La gráfica de Feigenbaum (caos determinista)**: En un especial *halloween* de los Simpsons, Homero viaja al pasado a la era Jurásica y por un pequeño descuido cambia el curso de toda la historia en el futuro. Lo anterior es una referencia al cuento *A Sound of Thunder* de 1952 del escritor de ciencia ficción Ray Bradbury en donde lo que se destruye en el pasado es una mariposa. Esta idea fue retomada y popularizada por el físico Edward Lorenz en 1972 cuando dio una conferencia en la Asociación Estadounidense para el Avance de la Ciencia (*American Association for the Advancement of Science*) titulada “¿El aleteo de una mariposa en Brasil puede provocar un tornado en Texas?\". Dando paso al concepto del *efecto mariposa*, del cual probablemente hayas oído hablar y que es el ejemplo clásico de *caos determinista* en sistemas climáticos. El caos determinista también aparece en muchos sistemas físicos más complejos, incluyendo especialmente la dináamica de fluidos. Debido a su naturaleza aparentemente aleatoria, el comportamiento de los sistemas caóticos es difícil de predecir y se ve fuertemente afectado por pequeñas perturbaciones en las condiciones iniciales. Uno de los ejemplos más famosos del fenómeno del caos determinista es sin duda el *mapeo logístico*, que es un sistema matemático muy simple, definido por la ecuación:\n",
        "\n",
        "$$x_{n+1} = rx_n(1-x_n)$$\n",
        "\n",
        "#### Para un valor dado de la constante $r$, se toma un valor de $x_n$ (digamos $x = \\frac{1}{2}$) y se introduce en el lado derecho de esta ecuación y regresa un valor de $x_{n+1}$. Luego se toma ese valor y se vuelve a introducir en el lado derecho, lo que da otro valor, y así sucesivamente. Esto es un *mapeo iterativo*. Se continúa haciendo la misma operación una y otra vez sobre su valor de $x_n$, y entonces sucede una de las tres siguientes situaciones:\n",
        "\n",
        "1. #### El valor se establece en un número fijo y permanece allí. Esto se llama *punto fijo*. Por ejemplo, $x_n = 0$ es siempre un punto fijo del mapeo logístico. (Si se pone $x_n = 0$ en el lado derecho se obtiene $x_{n+1} = 0$ en el lado izquierdo).\n",
        "2. #### No se establece en un solo valor, sino que se establece en un patrón periódico, rotando alrededor de un conjunto de valores, digamos cuatro valores, repitiéndose en secuencia una y otra vez. Esto se llama **órbita** (en este caso de periodo 4) o *ciclo límite*.\n",
        "3. #### Todo enloquece. El mapeo genera una secuencia **aparentemente aleatoria** de números que parecen no tener ni patrón ni razón (*ni ton ni son*). Esto es el ***caos determinista***. “Caos” porque realmente parece caótico, y “determinista” porque, aunque los valores parecen aleatorios, **no lo son**. Son a todas luces totalmente predecibles, porque se obtienen mediante una simple ecuación y el comportamiento está **determinado**, aunque no lo parezca.\n",
        "\n",
        "#### Responde a las siguientes preguntas:"
      ]
    },
    {
      "cell_type": "markdown",
      "metadata": {
        "id": "alMLo8XuNY2x"
      },
      "source": [
        "#### **(a)** Apóyate en el programa que vimos en clase y **escribe un programa que muestre el comportamiento del mapeo logístico** mediante una gráfica."
      ]
    },
    {
      "cell_type": "code",
      "source": [],
      "metadata": {
        "id": "bSfO0NJwqWB4"
      },
      "execution_count": null,
      "outputs": []
    },
    {
      "cell_type": "markdown",
      "metadata": {
        "id": "StniBsLeCjpz"
      },
      "source": [
        "#### **(b)** De acuerdo a tu gráfica, ¿a qué valor de $r$ el sistema pasa de un comportamiento ordenado (puntos fijos o ciclos límite) a un comportamiento caótico? A este punto a veces se le llama “el borde del caos”.\n",
        "\n",
        "#### **Hint**: Esto es lo que debes hacer para hacer tu programa:\n",
        "#### Para un valor dado de $r$, comienza con $x_n = \\frac{1}{2}$ e itera la ecuación del mapeo logístico mil veces. Eso le dará la oportunidad de establecerse en un punto fijo o en una órbita de algún periodo. Luego ejecuta otras mil iteraciones y grafica los puntos $(r, x_\\infty)$ en una gráfica donde el eje horizontal es $r$ y el eje vertical es $x_\\infty$. Puedes usar la función $\\texttt{plot}$ con las opciones \"ko\" o \"k.\" para dibujar una gráfica con puntos, uno para cada valor, o puedes usar la función $\\texttt{scatter}$ para dibujar un diagrama de dispersión (que siempre usa puntos). Repite todo el cálculo para valores de $r$ desde $1$ hasta $4$ en pasos de $0.01$, graficando los puntos para todos los valores de $r$ en la misma figura. Tu programa debería generar la distintiva gráfica que parece un árbol inclinado hacia un lado. Esta famosa imagen se llama *Gráfica de Feigenbaum*, en honor a su descubridor Mitchell Feigenbaum."
      ]
    },
    {
      "cell_type": "code",
      "source": [],
      "metadata": {
        "id": "vGZFaVpeqX9_"
      },
      "execution_count": null,
      "outputs": []
    },
    {
      "cell_type": "markdown",
      "metadata": {
        "id": "eSFHmNQ8Cjpz"
      },
      "source": [
        "#### **(c)** ** **Opcional (para 1.5 puntos extra)**: Hay otra forma para calcular el diagrama de Feigenbaum, que puede ser más clara y rápida, dado que hace uso de la capacidad de Python para realizar aritmética con arreglos completos. Crea un arreglo $r$ que contenga cada valor distinto de $r$, $\\texttt{[1.0, 1.01, 1.02, ...]}$. Crea otro arreglo $x$ del mismo tamaño para guardar los valores correspondientes de $x$, establecidos inicialmente en $0.5$; finalmente, realiza una iteración del mapeo logístico para todos los valores de $r$ a la vez, con una sola instrucción de la forma $\\texttt{x = r*x*(1-x)}$ y compárala con tu programa anterior.\n"
      ]
    },
    {
      "cell_type": "code",
      "source": [],
      "metadata": {
        "id": "Vya0OLfzqb_h"
      },
      "execution_count": null,
      "outputs": []
    },
    {
      "cell_type": "markdown",
      "metadata": {
        "id": "SSGdJ_MLIkqu"
      },
      "source": [
        "#### **4. El conjunto de Mandelbrot**: El conjunto de Mandelbrot, llamado así por su descubridor, el matemático francés Benoît Mandelbrot, es un *fractal*; un objeto matemático infinitamente ramificado que contiene estructura dentro de estructura dentro de estructura, tan profundamente como queramos mirar. La definición del conjunto de Mandelbrot en términos de números complejos es la siguiente. Consideremos la ecuación:\n",
        "\n",
        "$$z_{n+1} = z_n^2 + c \\hspace{2cm} z_n,c\\in\\mathbb{C}$$\n",
        "\n",
        "#### De manera muy similar al *mapeo logístico*, la definición del *conjunto de Mandelbrot* implica la iteración repetida de esta ecuación para cualquier valor dado de $c$. La ecuación convierte un número de entrada $z_n$ en un número de salida $z_{n+1}$; de tal manera que se toma un valor inicial de $z_0$ y se introduce en la ecuación para obtener un nuevo valor $z_1$, luego tomamos ese valor y lo volvemos a introducir para obtener $z_2$, y así sucesivamente.\n",
        "\n",
        "#### Así, el conjunto de Mandelbrot es el conjunto de puntos del plano complejo que satisface la siguiente definición:\n",
        "\n",
        "#### *Para un valor dado de $c$ y la condición inicial $z_0 = 0$; si al iterar repetidamente la ecuación la magnitud del valor resultante es mayor a dos (i.e. $|z_\\infty| > 2$), entonces el punto del plano complejo para ese valor de $c$ \\textbf{no} está en el conjunto de Mandelbrot; de lo contrario, sí está en el conjunto.*\n",
        "\n",
        "#### Para utilizar esta definición, en principio habría que iterar infinitas veces para demostrar que un punto está en el conjunto de Mandelbrot, ya que un punto pertenece al conjunto solo si la iteración nunca sobrepasa $|z_n| = 2$. Sin embargo, en la práctica, simplemente se realiza una gran cantidad de iteraciones (digamos 100), y si $|z_n|$ no ha excedido $2$ en ese momento, entonces lo consideramos suficientemente bueno."
      ]
    },
    {
      "cell_type": "markdown",
      "metadata": {
        "id": "hFB0EpfZNlkx"
      },
      "source": [
        "#### **(a)** **Escribe un programa para crear una imagen del conjunto de Mandelbrot** realizando la iteración para todos los valores de $c = x + iy$ en una cuadrícula de $N \\times N$ que abarque la región donde $-2 \\leq x \\leq 2$ y $-2 \\leq y \\leq 2$. Haz una gráfica de densidad (*density plot*) en el que los puntos de la cuadrícula dentro del conjunto de Mandelbrot estén coloreados en negro y los de afuera estén coloreados en blanco.\n",
        "\n",
        "#### ***Sugerencia***: Probablemente te resulte útil comenzar con una cuadrícula muy simple, es decir, con un valor pequeño de $N$ (quizás $N = 100$), para que tu programa se ejecute rápidamente mientras lo pruebas. Una vez que te asegures de que funciona correctamente, aumenta el valor de $N$ para producir una imagen final de alta calidad de la forma del conjunto."
      ]
    },
    {
      "cell_type": "code",
      "source": [],
      "metadata": {
        "id": "5BZ0YqMVqjHm"
      },
      "execution_count": null,
      "outputs": []
    },
    {
      "cell_type": "markdown",
      "metadata": {
        "id": "6hkS33XFPAVV"
      },
      "source": [
        "#### **(b)** ** **Opcional (para 1.5 puntos extra)**: Si te aburrió lo anterior (o te resultó demasiado fácil), puedes programar otra variante del mismo ejercicio que puede producir imágenes sorprendentes. En lugar de colorear los puntos solo en blanco o negro, colorea los puntos de acuerdo con el número de iteraciones de la ecuación antes de que $|z_n|$ sea mayor que $2$ (o bien el número máximo de iteraciones si es que $|z_n|$ nunca llega a ser mayor que $2$). Si usas alguno de los esquemas más coloridos que Python proporciona para las gráficas de densidad, como $\\texttt{\"hot\"}$ o $\\texttt{\"jet\"}$, puedes crear algunas imágenes muy espectaculares. Otra variante interesante es colorear según el logaritmo del número de iteraciones, lo que ayuda a revelar parte de la estructura más fina fuera del conjunto."
      ]
    },
    {
      "cell_type": "code",
      "source": [],
      "metadata": {
        "id": "0ec2W-DvqkhQ"
      },
      "execution_count": null,
      "outputs": []
    },
    {
      "cell_type": "markdown",
      "source": [
        "### Integración numérica"
      ],
      "metadata": {
        "id": "7msRaQMRjix5"
      }
    },
    {
      "cell_type": "markdown",
      "metadata": {
        "id": "hCi2XuGuP6Kt"
      },
      "source": [
        "#### **1. Regla del trapecio**: El archivo $\\texttt{velocidades.txt}$ (adjunto) contiene dos columnas de números la primera representa el tiempo $t$ en segundos y la segunda la $x$-velocidad en metros por segundo de una partícula, medida una vez por segundo desde el tiempo $t = 0$ hasta $t = 100$. Las primeras líneas se ven así:\n",
        "\n",
        "$\\texttt{0 0}$\n",
        "\n",
        "$\\texttt{1 0.069478}$\n",
        "\n",
        "$\\texttt{2 0.137694}$\n",
        "\n",
        "$\\texttt{3 0.204332}$\n",
        "\n",
        "$\\texttt{4 0.269083}$\n",
        "\n",
        "$\\texttt{5 0.331656}$\n",
        "\n",
        "#### Escribe un programa para hacer lo siguiente:"
      ]
    },
    {
      "cell_type": "markdown",
      "source": [
        "#### **(a)** Lee los datos y, usando la **regla del trapecio**, calcula a partir de ellos la distancia aproximada recorrida por la partícula en la dirección $x$ como una función del tiempo.\n",
        "\n",
        "\n"
      ],
      "metadata": {
        "id": "0154A5MQq2z2"
      }
    },
    {
      "cell_type": "code",
      "source": [],
      "metadata": {
        "id": "s-LfV1oFqzuu"
      },
      "execution_count": null,
      "outputs": []
    },
    {
      "cell_type": "markdown",
      "source": [
        "#### **(b)** Extiende tu programa para hacer una gráfica que muestre, en el mismo gráfico, tanto la curva de velocidad original como la distancia recorrida como una función del tiempo.\n"
      ],
      "metadata": {
        "id": "Z4QN64seq6un"
      }
    },
    {
      "cell_type": "code",
      "source": [],
      "metadata": {
        "id": "Gc79Be9fq48N"
      },
      "execution_count": null,
      "outputs": []
    },
    {
      "cell_type": "markdown",
      "metadata": {
        "id": "LLe76PEkUoxI"
      },
      "source": [
        "#### **2. Integración numérica**"
      ]
    },
    {
      "cell_type": "markdown",
      "metadata": {
        "id": "mAAfxhMtWZ5I"
      },
      "source": [
        "#### **(a)** Escribe un programa para calcular un valor aproximado para la integral\n",
        "\n",
        "$$\\int_0^2 (x^4-2x+1)\\,dx$$\n",
        "\n",
        "#### utilizando tanto la **regla del trapecio** como la **regla de Simpson** con 10 divisiones."
      ]
    },
    {
      "cell_type": "code",
      "source": [],
      "metadata": {
        "id": "omgU0e1LrFF2"
      },
      "execution_count": null,
      "outputs": []
    },
    {
      "cell_type": "markdown",
      "metadata": {
        "id": "iWzaEE8oW545"
      },
      "source": [
        "#### **(b)** Ejecuta el programa y compara tu resultado con el valor correcto conocido de $4,4$. ¿Cuál es el error en tu cálculo?"
      ]
    },
    {
      "cell_type": "code",
      "source": [],
      "metadata": {
        "id": "d9cQ0lsPrI0Q"
      },
      "execution_count": null,
      "outputs": []
    },
    {
      "cell_type": "markdown",
      "metadata": {
        "id": "R5H5eGnjX6K2"
      },
      "source": [
        "#### **(c)** Modifica el programa para utilizar 100 divisiones y luego 1000. ¿Cómo mejora el resultado?. ¿Cómo se comparan los resultados entre ambas reglas al usar la misma cantidad de divisiones?"
      ]
    },
    {
      "cell_type": "code",
      "source": [],
      "metadata": {
        "id": "JiJ-b1-UrKds"
      },
      "execution_count": null,
      "outputs": []
    },
    {
      "cell_type": "markdown",
      "metadata": {
        "id": "owvmxpReYx3I"
      },
      "source": [
        "#### **3. Recursión**: Una característica muy útil de las funciones que podemos definir es la ***recursividad***, es decir, la capacidad de una función de llamarse a sí misma. Por ejemplo, considere la siguiente definición del factorial $n!$ de un entero positivo $n$:\n",
        "\n",
        "$$n! =\n",
        "\\begin{cases}\n",
        "1 &\\text{si $n = 1$}\\\\\n",
        "n\\times(n-1)! &\\text{si $n > 1$}\n",
        "\\end{cases}$$\n",
        "\n",
        "#### Esto constituye una definición completa del factorial que nos permite calcular el valor de $n!$ para cualquier entero positivo. Podemos emplear esta definición directamente para crear una función para calcular factoriales, como esta (en Python):\n",
        "\n",
        "```python\n",
        "def factorial(n):\n",
        "    if n == 1:\n",
        "        return 1\n",
        "    else:\n",
        "        return n * factorial(n - 1)\n",
        "```\n",
        "\n",
        "#### Nota cómo si $n$ no es igual a $1$, la función se llama a sí misma para calcular el factorial de $n−1$, de tal manera que al pedir $\\texttt{print(factorial(5))}$ el interprete de Python imprimirá correctamente la respuesta $120$."
      ]
    },
    {
      "cell_type": "markdown",
      "metadata": {
        "id": "GDb_kWE-befQ"
      },
      "source": [
        "#### **(a)** Anteriormente, en clase encontramos los **números de Catalán $C_n$**. Si hacemos una pequeña modificación, la definición de $C_n$ se puede reescribir de la siguiente forma:\n",
        "\n",
        "$$C_n =\n",
        "\\begin{cases}\n",
        "1 &\\text{si n = 0}\\\\\n",
        "\\frac{4n-2}{n+1}C_{n-1} &\\text{si n > 0}\n",
        "\\end{cases}$$\n",
        "\n",
        "#### Escribe una función, usando recursividad, que calcule $C_n$ y utilízala para calcular e imprimir $C_{100}$"
      ]
    },
    {
      "cell_type": "code",
      "source": [],
      "metadata": {
        "id": "BWYs2B6frWX_"
      },
      "execution_count": null,
      "outputs": []
    },
    {
      "cell_type": "markdown",
      "metadata": {
        "id": "RAPjFFqqc3TZ"
      },
      "source": [
        "#### **(b)** Euclides demostró que el máximo común divisor $g(m,n)$ de dos enteros no negativos $m$ y $n$ satisface que:\n",
        "\n",
        "$$g(m,n) =\n",
        "\\begin{cases}\n",
        "m &\\text{si n = 0}\\\\\n",
        "g(n,m \\text{ mod } n) &\\text{si n > 0}\n",
        "\\end{cases}$$\n",
        "\n",
        "#### Usando esta fórmula escribe una función $g(m,n)$ que emplee **recursividad** para calcular el máximo común divisor de $m$ y $n$. Usa tu función para calcular e imprimir el máximo común divisor de $108$ y $192$.\n",
        "\n",
        "#### Comparando el cálculo de los números de Catalán del inciso $7. (a)$, con lo hecho en clase, vemos que es posible hacer el cálculo de dos maneras, ya sea directamente o usando **recursividad**. En la mayoría de los casos, si una cantidad se puede calcular ***sin*** **recursividad**, será más rápido y normalmente se recomienda hacerlo así, si es posible. Sin embargo, hay algunos cálculos que son esencialmente imposibles (o al menos mucho más difíciles) sin **recursividad**."
      ]
    },
    {
      "cell_type": "code",
      "source": [],
      "metadata": {
        "id": "sYGjR8snrW4o"
      },
      "execution_count": null,
      "outputs": []
    },
    {
      "cell_type": "markdown",
      "source": [
        "#### **(c)**"
      ],
      "metadata": {
        "id": "lVAz9b2urbRw"
      }
    },
    {
      "cell_type": "code",
      "source": [],
      "metadata": {
        "id": "Ca0ob1w6rdAS"
      },
      "execution_count": null,
      "outputs": []
    },
    {
      "cell_type": "markdown",
      "source": [
        "#### **4. Recursión**:"
      ],
      "metadata": {
        "id": "EkZOs1MJrh6I"
      }
    },
    {
      "cell_type": "markdown",
      "source": [
        "#### **(a)**"
      ],
      "metadata": {
        "id": "F15W5lA-rlJm"
      }
    },
    {
      "cell_type": "code",
      "source": [],
      "metadata": {
        "id": "JRl98GXirzmy"
      },
      "execution_count": null,
      "outputs": []
    },
    {
      "cell_type": "markdown",
      "source": [
        "#### **(b)**"
      ],
      "metadata": {
        "id": "qzuzHqtsrz7C"
      }
    },
    {
      "cell_type": "code",
      "source": [],
      "metadata": {
        "id": "WxAS8d-tr0-m"
      },
      "execution_count": null,
      "outputs": []
    },
    {
      "cell_type": "markdown",
      "source": [
        "#### **5. Atracción gravitacional de una lámina uniforme**:"
      ],
      "metadata": {
        "id": "HjlNoFRGr1iY"
      }
    },
    {
      "cell_type": "markdown",
      "source": [
        "#### **(a)**"
      ],
      "metadata": {
        "id": "VOOXieknr-6u"
      }
    },
    {
      "cell_type": "code",
      "source": [],
      "metadata": {
        "id": "w8F_yRrfsAOX"
      },
      "execution_count": null,
      "outputs": []
    },
    {
      "cell_type": "markdown",
      "source": [
        "#### **(b)**"
      ],
      "metadata": {
        "id": "8wcRRLKosApP"
      }
    },
    {
      "cell_type": "code",
      "source": [],
      "metadata": {
        "id": "1-FexohNsBks"
      },
      "execution_count": null,
      "outputs": []
    },
    {
      "cell_type": "markdown",
      "source": [
        "#### **(c)**"
      ],
      "metadata": {
        "id": "aEtZ5bAxsCMX"
      }
    },
    {
      "cell_type": "code",
      "source": [],
      "metadata": {
        "id": "-6U0THy7sDIT"
      },
      "execution_count": null,
      "outputs": []
    }
  ],
  "metadata": {
    "@webio": {
      "lastCommId": null,
      "lastKernelId": null
    },
    "colab": {
      "collapsed_sections": [
        "4ZpV8qNcCjpg"
      ],
      "name": "Práctica 1.ipynb",
      "provenance": []
    },
    "kernelspec": {
      "display_name": "Python 3 (ipykernel)",
      "language": "python",
      "name": "python3"
    },
    "language_info": {
      "codemirror_mode": {
        "name": "ipython",
        "version": 3
      },
      "file_extension": ".py",
      "mimetype": "text/x-python",
      "name": "python",
      "nbconvert_exporter": "python",
      "pygments_lexer": "ipython3",
      "version": "3.13.3"
    }
  },
  "nbformat": 4,
  "nbformat_minor": 0
}