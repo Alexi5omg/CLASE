{
  "cells": [
    {
      "cell_type": "markdown",
      "metadata": {
        "id": "HSCoRcapCjpd"
      },
      "source": [
        "<h1 align=\"center\">Física Computacional</h1>\n",
        "<h1 align=\"center\">Semestre 2025-4</h1>\n",
        "\n",
        "<h2>Sergio A. Alcalá Corona</h2>\n",
        "<h2>Rodrigo Vega Vilchis</h2>\n",
        "\n",
        "---\n",
        "### Alumno: Juan Alexis Hernández Hernández\n",
        "---"
      ]
    },
    {
      "cell_type": "markdown",
      "metadata": {
        "id": "4ZpV8qNcCjpg"
      },
      "source": [
        "<h1 align=\"center\">Práctica 1. Programación básica para la física computacional</h1>"
      ]
    },
    {
      "cell_type": "code",
      "source": [
        "import math as mt"
      ],
      "metadata": {
        "id": "Kc1nohd36a2-"
      },
      "execution_count": 1,
      "outputs": []
    },
    {
      "cell_type": "markdown",
      "metadata": {
        "id": "ANd_ljcICjpi"
      },
      "source": [
        "### **EJERCICIOS**:\n",
        "\n",
        "$\\;$\n",
        "\n",
        "#### **1. Altitud de un satélite**: se va a lanzar un satélite en una órbita circular alrededor de la Tierra de modo que orbite el planeta una vez cada $T$ segundos."
      ]
    },
    {
      "cell_type": "markdown",
      "metadata": {
        "id": "ySSZqA4UCjpi"
      },
      "source": [
        "#### **(a)** Demuestre que la altitud $h$ sobre la superficie de la Tierra que debe tener el satélite es:\n",
        "\n",
        "$$h = \\biggl( {GMT^2\\over4\\pi^2} \\biggr)^{1/3} - R$$\n",
        "\n",
        "donde $G = 6,67\\times 10^{−11}\\,m^3 kg^{−1}s^{−2}$ es la constante gravitatoria de Newton, $M = 5,97\\times 10^{24}\\,kg$ es la masa de la Tierra, y $R = 6371\\,km$ es su radio.\n",
        "\n",
        "\n"
      ]
    },
    {
      "cell_type": "code",
      "execution_count": null,
      "metadata": {
        "id": "hbdlJCNbCjpo"
      },
      "outputs": [],
      "source": []
    },
    {
      "cell_type": "markdown",
      "metadata": {
        "id": "pAFNnVjfCjpo"
      },
      "source": [
        "#### **(b)** Escribe un programa que le pida al usuario que ingrese el valor deseado de $T$ y luego calcule e imprima la altura correcta en metros.\n"
      ]
    },
    {
      "cell_type": "code",
      "execution_count": 36,
      "metadata": {
        "id": "fx2ZdmrGCjpu",
        "colab": {
          "base_uri": "https://localhost:8080/"
        },
        "outputId": "003c5849-054a-4c62-d4f9-4e4382895b5e"
      },
      "outputs": [
        {
          "output_type": "stream",
          "name": "stdout",
          "text": [
            "Por favor, ingrese el tiempo en segundos que tarda el satélite en orbitar la tierra 1 vez: 45555\n",
            "El satélite se encuentra a  21188468.863310583  metros de la superficie de la Tierra.\n"
          ]
        }
      ],
      "source": [
        "# Primero definimos las constantes dadas\n",
        "G = 6.67*(10**(-11))\n",
        "M = 5.97*(10**(24))\n",
        "R = 6371000 # en lugar de km lo ponemos en m para mantener la misma dimensión de unidades\n",
        "\n",
        "# Le solicitamos al usuario que ingrese T\n",
        "T = float(input(\"Por favor, ingrese el tiempo en segundos que tarda el satélite en orbitar la tierra 1 vez: \"))\n",
        "\n",
        "# Definimos la función que calcula la altura h\n",
        "h = ( (G*M*(T**2)) / (4*(mt.pi**2)) )**(1/3) - R\n",
        "\n",
        "if h < 0:# Aplicamos un criterio para que el valor sea coherente; no hay altura negativa\n",
        "  print(\"Revise el tiempo ingresado, es imposible que el satélite pueda orbitar la Tierra en ese tiempo.\")\n",
        "else:\n",
        "# Imprimimos el cálculo\n",
        "  print(\"El satélite se encuentra a \",h,\" metros de la superficie de la Tierra.\")"
      ]
    },
    {
      "cell_type": "markdown",
      "metadata": {
        "id": "wZJR9zlGCjpu"
      },
      "source": [
        "#### **(c)** Utiliza tu programa para calcular las altitudes de los satélites que orbitan la Tierra una vez al día (la llamada *órbita \"geosincrónica\"*), una vez cada **90 minutos** y una vez cada **45 minutos**.\n",
        "#### ¿Qué concluyes del último de estos cálculos?"
      ]
    },
    {
      "cell_type": "markdown",
      "source": [
        "24 horas:"
      ],
      "metadata": {
        "id": "LWxEGO3__q58"
      }
    },
    {
      "cell_type": "code",
      "execution_count": 37,
      "metadata": {
        "id": "lyUyFn99Cjpv",
        "colab": {
          "base_uri": "https://localhost:8080/"
        },
        "outputId": "2d266c65-afa6-43b6-ea69-6fd93eaae622"
      },
      "outputs": [
        {
          "output_type": "stream",
          "name": "stdout",
          "text": [
            "El satélite se encuentra a  35855910.17617497  metros de la superficie de la Tierra.\n"
          ]
        }
      ],
      "source": [
        "G = 6.67*(10**(-11))\n",
        "M = 5.97*(10**(24))\n",
        "R = 6371000\n",
        "T = 24*60*60 # De horas a minutos y de minutos a segundos\n",
        "\n",
        "h = ( (G*M*(T**2)) / (4*(mt.pi**2)) )**(1/3) - R\n",
        "\n",
        "print(\"El satélite se encuentra a \",h,\" metros de la superficie de la Tierra.\")"
      ]
    },
    {
      "cell_type": "markdown",
      "source": [
        "90 minutos:"
      ],
      "metadata": {
        "id": "4RbBYksfARGC"
      }
    },
    {
      "cell_type": "code",
      "source": [
        "G = 6.67*(10**(-11))\n",
        "M = 5.97*(10**(24))\n",
        "R = 6371000\n",
        "T = 90*60 # De minutos a segundos\n",
        "\n",
        "h = ( (G*M*(T**2)) / (4*(mt.pi**2)) )**(1/3) - R\n",
        "\n",
        "print(\"El satélite se encuentra a \",h,\" metros de la superficie de la Tierra.\")"
      ],
      "metadata": {
        "colab": {
          "base_uri": "https://localhost:8080/"
        },
        "id": "4GlXM-1jAXt7",
        "outputId": "229952fd-c20b-46c7-df5e-0437886d618d"
      },
      "execution_count": 38,
      "outputs": [
        {
          "output_type": "stream",
          "name": "stdout",
          "text": [
            "El satélite se encuentra a  279321.62537285965  metros de la superficie de la Tierra.\n"
          ]
        }
      ]
    },
    {
      "cell_type": "markdown",
      "source": [
        "45 minutos:"
      ],
      "metadata": {
        "id": "DGL0E6mNAec9"
      }
    },
    {
      "cell_type": "code",
      "source": [
        "G = 6.67*(10**(-11))\n",
        "M = 5.97*(10**(24))\n",
        "R = 6371000\n",
        "T = 45*60 # De minutos a segundos\n",
        "\n",
        "h = ( (G*M*(T**2)) / (4*(mt.pi**2)) )**(1/3) - R\n",
        "\n",
        "print(\"El satélite se encuentra a \",h,\" metros de la superficie de la Tierra.\")"
      ],
      "metadata": {
        "colab": {
          "base_uri": "https://localhost:8080/"
        },
        "id": "Gj1CKWr8AhYY",
        "outputId": "bf0d71d0-6f9c-4648-8d79-c844e303d170"
      },
      "execution_count": 39,
      "outputs": [
        {
          "output_type": "stream",
          "name": "stdout",
          "text": [
            "El satélite se encuentra a  -2181559.8978108233  metros de la superficie de la Tierra.\n"
          ]
        }
      ]
    },
    {
      "cell_type": "markdown",
      "source": [
        "**Conclusión**. El satélite orbita la Tierra más rápido a menores alturas de la superficie terrestre; en el último caso sale una altura negativa de aproximadamente $2000\\,km$, o sea, ya dentro del planeta mismo (pues cae dentro del rango del radio del planeta), lo que nos lleva a decir que la velocidad en el que orbita la Tierra se debe a la atracción gravitacional del mismo planeta y se sigue aplicando que a menores distancias de la Tierra más rápido le da vuelta, pero este caso de altura negativa pues es imposible."
      ],
      "metadata": {
        "id": "kDeuBFKlAsBV"
      }
    },
    {
      "cell_type": "markdown",
      "metadata": {
        "id": "zCIidQNoCjpv"
      },
      "source": [
        "#### **2. Relatividad especial:** Una nave espacial viaja desde la Tierra en línea recta a una velocidad relativista $v$ a otro planeta a $x$ años luz de distancia.\n",
        "\n",
        "#### Escribe un programa que le pida al usuario el valor de $x$ y la velocidad $v$ como una fracción de la velocidad de la luz $c$, y que imprima el tiempo en años que tarda la nave espacial en llegar a su destino"
      ]
    },
    {
      "cell_type": "markdown",
      "source": [
        "\n",
        "#### **(a)** en el marco de reposo de un observador en la Tierra y"
      ],
      "metadata": {
        "id": "coqT9KEXNMVs"
      }
    },
    {
      "cell_type": "markdown",
      "source": [
        "Dado que está en línea recta entonces solo tenemos una dimensión espacial.\n",
        "\n",
        "Ocuparemos la definción de intervalo $\\tau$:\n",
        "$$\\tau^2 = (\\Delta t)^2 - (\\Delta x)^2$$\n",
        "\n",
        "Y tomando la Tierra como una posición inicial $0$ y también a tiempo inicial $0$\n",
        "$$\\Rightarrow \\Delta x = x-0 = x \\,\\,\\,\\text{ y }\\,\\,\\, \\Delta t = t - 0$$\n",
        "entonces para la velocidad simplemente\n",
        "$$v = \\frac{\\Delta x}{\\Delta t} = \\frac{x}{t} \\Rightarrow t = \\frac{x}{v}$$"
      ],
      "metadata": {
        "id": "2YQB6eO9FLPI"
      }
    },
    {
      "cell_type": "code",
      "execution_count": 49,
      "metadata": {
        "id": "H_2Z97hxCjpw",
        "colab": {
          "base_uri": "https://localhost:8080/"
        },
        "outputId": "1e79cd28-1b6f-4f42-fdf6-ae0bed851844"
      },
      "outputs": [
        {
          "output_type": "stream",
          "name": "stdout",
          "text": [
            "Por favor ingrese la distancia en años luz a la que se encuentra el otro plantea: 2500000\n",
            "Por favor ingrese la velocidad en fracción de la velocidad de la luz a la que viaja la nave: 0.9960\n",
            "Desde la tierra, pasaron  2510040.1606425704  años para que la nave llegara al otro planeta.\n"
          ]
        }
      ],
      "source": [
        "# Le solicitamos al usuario que ingrese x y v\n",
        "x = float(input(\"Por favor ingrese la distancia en años luz a la que se encuentra el otro plantea: \"))\n",
        "v = float(input(\"Por favor ingrese la velocidad en fracción de la velocidad de la luz a la que viaja la nave: \"))\n",
        "\n",
        "# Calculamos e imprimimos el tiempo t\n",
        "t = x/v\n",
        "print(\"Desde la tierra, pasaron \",t,\" años para que la nave llegara al otro planeta.\")"
      ]
    },
    {
      "cell_type": "markdown",
      "source": [
        "#### **(c)** cómo lo percibiría un pasajero a bordo de la nave."
      ],
      "metadata": {
        "id": "bf48xHfdLwUD"
      }
    },
    {
      "cell_type": "markdown",
      "source": [
        "De igual manera, tomando en la nave una posición inicial $0$ y tiempo inicial $0$\n",
        "\n",
        "$$\\Delta x' = x' \\,\\,\\,\\text{ y }\\,\\,\\, \\Delta t' = t'$$\n",
        "\n",
        "pero como el sistema de referencia de la nave no cambia (pues uno dentro de la nave sigue estando dentro de la nave a pesar de que se mueva), entonces\n",
        "\n",
        "$$\\Delta x' = 0$$\n",
        "$$\\Rightarrow \\tau'^2 = (\\Delta t')^2-0 = t'^2$$\n",
        "\n",
        "y sabemos que ante el mismo evento, el intervalo es invariante para todos los sistemas, entonces\n",
        "\n",
        "$$t^2-x^2 = \\tau^2 = \\tau'^2 = t'^2$$\n",
        "$$\\Rightarrow t' = \\sqrt{t^2-x^2}$$"
      ],
      "metadata": {
        "id": "C-21weuLL-OH"
      }
    },
    {
      "cell_type": "code",
      "source": [
        "# Calculamos el tiempo T ya tomando en cuenta las variables x y t del inciso anterior\n",
        "T = mt.sqrt((t**2)-(x**2))\n",
        "print(\"El tiempo transcurrido en el sistema de la nave fue de \",T,\" años\")"
      ],
      "metadata": {
        "colab": {
          "base_uri": "https://localhost:8080/"
        },
        "id": "53LOSJHPQDTp",
        "outputId": "f349fa10-0848-4271-ffb6-d0b3aa1b584c"
      },
      "execution_count": 48,
      "outputs": [
        {
          "output_type": "stream",
          "name": "stdout",
          "text": [
            "El tiempo transcurrido en el sistema de la nave fue de  224280.19983623183  años\n"
          ]
        }
      ]
    },
    {
      "cell_type": "markdown",
      "metadata": {
        "id": "2TwfhUrbCjpx"
      },
      "source": [
        "#### Usa tu programa para calcular las respuestas para un planeta a 10 años luz de distancia con $v = 0.99\\,c$"
      ]
    },
    {
      "cell_type": "code",
      "execution_count": 52,
      "metadata": {
        "id": "ZwjGJS3YCjpy",
        "colab": {
          "base_uri": "https://localhost:8080/"
        },
        "outputId": "18ec1e80-f09b-4a6b-96ed-5feb2467d1de"
      },
      "outputs": [
        {
          "output_type": "stream",
          "name": "stdout",
          "text": [
            "Desde la tierra, pasaron  10.1010101010101  años para que la nave llegara al otro planeta.\n",
            "El tiempo transcurrido en el sistema de la nave fue de  1.4249228262288722  años\n"
          ]
        }
      ],
      "source": [
        "# En el sistema Tierra\n",
        "x = 10\n",
        "v = 0.99\n",
        "t = x/v\n",
        "\n",
        "print(\"Desde la tierra, pasaron \",t,\" años para que la nave llegara al otro planeta.\")\n",
        "\n",
        "# En el sistema nave\n",
        "T = mt.sqrt((t**2)-(x**2))\n",
        "print(\"El tiempo transcurrido en el sistema de la nave fue de \",T,\" años\")"
      ]
    },
    {
      "cell_type": "markdown",
      "metadata": {
        "id": "mryJ9f_GCjpy"
      },
      "source": [
        "#### **3. Órbitas planetarias**: En el espacio, la órbita de un cuerpo alrededor de otro (como un planeta alrededor del Sol), no necesariamente es circular. En general, toma la forma de una elipse, con el cuerpo a veces más cerca y otras más lejos. Si tenemos la distancia $\\ell_1$ de máxima aproximación de un planeta al Sol (su $\\textit{perihelio}$), y su velocidad lineal $v_1$ en el perihelio, entonces cualquier otra propiedad de la órbita se puede calcular a partir de estas dos cantidades de la siguiente manera:"
      ]
    },
    {
      "cell_type": "markdown",
      "source": [
        "#### **(a)** La segunda ley de Kepler nos dice que la distancia $\\ell_2$ y la velocidad $v_2$ del planeta en su punto más distante, o $\\textit{afelio}$, satisfacen que $\\ell_2 v_2 = \\ell_1 v_1$.  Al mismo tiempo, la energía total, cinética más la gravitatoria, de un planeta con velocidad $v$ y distancia $r$ del Sol está dada por:\n",
        "\n",
        "<h3 align=\"center\">$E = \\frac{1}{2} m v^2 - G {mM\\over r}$,</h3>\n",
        "       \n",
        "#### donde $m$ es la masa del planeta, $M=1.9891\\times10^{30}\\,kg$ es la masa del Sol y $G=6.6738\\times10^{-11}\\,m^3\\,kg^{-1}\\,s^{-2}$ es la constante gravitatoria de Newton. Dado que la energía debe conservarse, demuestre que $v_2$ es la raíz más pequeña de la ecuación cuadrática:\n",
        "\n",
        "<h3 align=\"center\">$v_2^2 - {2GM\\over v_1\\ell_1} v_2 - \\biggl[ v_1^2 - {2GM\\over\\ell_1} \\biggr] = 0$.</h3>\n",
        "\n",
        "#### Una vez que tenemos $v_2$ podemos calcular $\\ell_2$  usando la relación $\\ell_2 = \\ell_1 v_1/v_2$."
      ],
      "metadata": {
        "id": "alMLo8XuNY2x"
      }
    },
    {
      "cell_type": "code",
      "execution_count": null,
      "metadata": {
        "id": "4Rb2aIsUCjpz"
      },
      "outputs": [],
      "source": []
    },
    {
      "cell_type": "markdown",
      "metadata": {
        "id": "StniBsLeCjpz"
      },
      "source": [
        "#### **(b)**  Dados los valores de $v_1$, $\\ell_1$, y $\\ell_2$; otros parámetros de la órbita se obtienen mediante fórmulas simples que pueden derivarse de las leyes de Kepler y del hecho de que la órbita es una elipse:\n",
        "\n",
        "<h4 align=\"center\"><b>Semieje mayor</b>: $\\; \\; \\; a = \\frac{1}{2}(\\ell_1+\\ell_2),$</h3>\n",
        "\n",
        "<h4 align=\"center\"><b>Semieje menor</b>: $\\; \\; b = \\sqrt{\\ell_1\\ell_2},$</h3>\n",
        "\n",
        "<h4 align=\"center\"><b>Período orbital</b>: $\\; \\; T = {2\\pi ab\\over\\ell_1 v_1},$</h3>\n",
        "\n",
        "<h4 align=\"center\"><b>Excentricidad orbital</b>: $\\; \\; e = {\\ell_2-\\ell_1\\over\\ell_2+\\ell_1},$</h3>\n",
        "\n",
        "#### Escribe un programa que le pida al usuario que ingrese la distancia al Sol y la velocidad en el perihelio; para que calcule e imprima las cantidades $\\ell_2$, $v_2$, $T$ y $e$.\n"
      ]
    },
    {
      "cell_type": "code",
      "execution_count": 65,
      "metadata": {
        "id": "k93rb7UVCjpz",
        "colab": {
          "base_uri": "https://localhost:8080/"
        },
        "outputId": "7336dd5c-8747-4eff-80ea-428b1a374325"
      },
      "outputs": [
        {
          "output_type": "stream",
          "name": "stdout",
          "text": [
            "Por favor ingrese en metros la distancia al Sol en el perihelio: 13000\n",
            "Por favor ingrese en metros por segundo la velocidad en el perihelio: 35000\n",
            "La velocidad en el afelio (v2) es:  35000.0  m/s.\n",
            "La distancia al afelio (l2) es de:  13000.0  m.\n",
            "El periodo orbital (T) es de:  2.3337545426667035  s.\n",
            "La excentricidad orbital (e) es de:  0.0  m.\n"
          ]
        }
      ],
      "source": [
        "# Le solicitamos al usuario que ingrese l1 y v1\n",
        "l1 = float(input(\"Por favor ingrese en metros la distancia al Sol en el perihelio: \"))\n",
        "v1 = float(input(\"Por favor ingrese en metros por segundo la velocidad en el perihelio: \"))\n",
        "\n",
        "# Definamos las constantes\n",
        "M = 1.9891*(10**(30))\n",
        "G = 6.6738*(10**(-11))\n",
        "\n",
        "# Resolvemos v2\n",
        "a = 1\n",
        "b = -(2*G*M)/(v1*l1)\n",
        "c = -(v1**2)+(2*G*M)/(l1)\n",
        "\n",
        "v2 = (-b-((b**2)-(4*a*c))**(1/2)) / (2*a)\n",
        "print(\"La velocidad en el afelio (v2) es: \",v2,\" m/s.\")\n",
        "\n",
        "# Calculamos l2\n",
        "l2 = (l1*v1)/v2\n",
        "print(\"La distancia al afelio (l2) es de: \",l2,\" m.\")\n",
        "\n",
        "# Calculamos T\n",
        "A = (1/2)*(l1+l2)\n",
        "B = (l1*l2)**(1/2)\n",
        "T = (2*mt.pi*A*B)/(l1*v1)\n",
        "print(\"El periodo orbital (T) es de: \",T,\" s.\")\n",
        "\n",
        "# Calculamos e\n",
        "e = (l2-l1)/(l2+l1)\n",
        "print(\"La excentricidad orbital (e) es de: \",e,\" m.\")"
      ]
    },
    {
      "cell_type": "markdown",
      "metadata": {
        "id": "eSFHmNQ8Cjpz"
      },
      "source": [
        "#### **(c)** Prueba tu programa haciendo que calcule las propiedades de las órbitas de la Tierra (para las cuales $\\ell_1=1.4710\\times10^{11}\\,m$ y $v_1=3.0287\\times10^4\\,ms^{-1}$)  y del cometa Halley ($\\ell_1=8.7830\\times10^{10}\\,m$ y $v_1=5.4529\\times10^4\\,m\\,s^{-1}$). Entre otras cosas, deberías encontrar que el período orbitar que el período orbital de la Tierra es de un año ($31.536\\times10^6$ segundos) y el del cometa Halley es de unos 76 años ($2.396736\\times10^9$ segundos)."
      ]
    },
    {
      "cell_type": "markdown",
      "source": [
        "Para la Tierra:"
      ],
      "metadata": {
        "id": "w-iJUOB2cuTg"
      }
    },
    {
      "cell_type": "code",
      "execution_count": 61,
      "metadata": {
        "id": "fp-l1pDtCjp6",
        "colab": {
          "base_uri": "https://localhost:8080/"
        },
        "outputId": "0e371fdf-f910-4f1e-fd88-3875ece94697"
      },
      "outputs": [
        {
          "output_type": "stream",
          "name": "stdout",
          "text": [
            "La velocidad en el afelio (v2) es:  29305.399177261148  m/s.\n",
            "La distancia al afelio (l2) es de:  152027197208.66058  m.\n",
            "El periodo orbital (T) es de:  31543060.20788706  s.\n",
            "La excentricidad orbital (e) es de:  0.016471913134744297  m.\n"
          ]
        }
      ],
      "source": [
        "l1 = 1.4710*(10**11)\n",
        "v1 = 3.0287*(10**4)\n",
        "\n",
        "# Definamos las constantes\n",
        "M = 1.9891*(10**(30))\n",
        "G = 6.6738*(10**(-11))\n",
        "\n",
        "# Resolvemos v2\n",
        "a = 1\n",
        "b = -(2*G*M)/(v1*l1)\n",
        "c = -(v1**2)-(2*G*M)/(l1)\n",
        "a = 1\n",
        "b = -(2*G*M)/(v1*l1)\n",
        "c = -(v1**2)+(2*G*M)/(l1)\n",
        "\n",
        "v2 = (-b-((b**2)-(4*a*c))**(1/2)) / (2*a)\n",
        "print(\"La velocidad en el afelio (v2) es: \",v2,\" m/s.\")\n",
        "\n",
        "# Calculamos l2\n",
        "l2 = (l1*v1)/v2\n",
        "print(\"La distancia al afelio (l2) es de: \",l2,\" m.\")\n",
        "\n",
        "# Calculamos T\n",
        "A = (1/2)*(l1+l2)\n",
        "B = (l1*l2)**(1/2)\n",
        "T = (2*mt.pi*A*B)/(l1*v1)\n",
        "print(\"El periodo orbital (T) es de: \",T,\" s.\")\n",
        "\n",
        "# Calculamos e\n",
        "e = (l2-l1)/(l2+l1)\n",
        "print(\"La excentricidad orbital (e) es de: \",e,\" m.\")"
      ]
    },
    {
      "cell_type": "markdown",
      "source": [
        "Para el cometa Halley:"
      ],
      "metadata": {
        "id": "JKa2RoX5cwUn"
      }
    },
    {
      "cell_type": "code",
      "source": [
        "l1 = 8.7830*(10**10)\n",
        "v1 = 5.4529*(10**4)\n",
        "\n",
        "# Definamos las constantes\n",
        "M = 1.9891*(10**(30))\n",
        "G = 6.6738*(10**(-11))\n",
        "\n",
        "# Resolvemos v2\n",
        "a = 1\n",
        "b = -(2*G*M)/(v1*l1)\n",
        "c = -(v1**2)-(2*G*M)/(l1)\n",
        "a = 1\n",
        "b = -(2*G*M)/(v1*l1)\n",
        "c = -(v1**2)+(2*G*M)/(l1)\n",
        "\n",
        "v2 = (-b-((b**2)-(4*a*c))**(1/2)) / (2*a)\n",
        "print(\"La velocidad en el afelio (v2) es: \",v2,\" m/s.\")\n",
        "\n",
        "# Calculamos l2\n",
        "l2 = (l1*v1)/v2\n",
        "print(\"La distancia al afelio (l2) es de: \",l2,\" m.\")\n",
        "\n",
        "# Calculamos T\n",
        "A = (1/2)*(l1+l2)\n",
        "B = (l1*l2)**(1/2)\n",
        "T = (2*mt.pi*A*B)/(l1*v1)\n",
        "print(\"El periodo orbital (T) es de: \",T,\" s.\")\n",
        "\n",
        "# Calculamos e\n",
        "e = (l2-l1)/(l2+l1)\n",
        "print(\"La excentricidad orbital (e) es de: \",e,\" m.\")"
      ],
      "metadata": {
        "colab": {
          "base_uri": "https://localhost:8080/"
        },
        "id": "K98ZOXw_eb-a",
        "outputId": "5f378449-3a48-4854-f626-ad6fe66c2aa3"
      },
      "execution_count": 64,
      "outputs": [
        {
          "output_type": "stream",
          "name": "stdout",
          "text": [
            "La velocidad en el afelio (v2) es:  906.6806969191493  m/s.\n",
            "La distancia al afelio (l2) es de:  5282214660876.441  m.\n",
            "El periodo orbital (T) es de:  2399312511.8451877  s.\n",
            "La excentricidad orbital (e) es de:  0.9672889126454061  m.\n"
          ]
        }
      ]
    },
    {
      "cell_type": "markdown",
      "source": [
        "#### **4. La fórmula semiempírica de la masa (FSM)**: En fíısica nuclear, la **fórmula de Weizsäcker** (conocida también como fórmula semiempírica) sirve para evaluar la masa y otras propiedades de un núcleo atómico; está basada parcialmente en mediciones empíricas.\n",
        "\n",
        "#### En particular, la fórmula se usa para calcular la ***energía de enlace nuclear aproximada $B$***, de un núcleo atómico con número atómico $Z$ y un número de masa $A$:\n",
        "\n",
        "$$B = a_1A - a_2A^{2/3} - a_3\\frac{Z^2}{A^{1/3}} - a_4\\frac{(A-2Z)^2}{A} + \\frac{a_5}{A^{1/5}}$$\n",
        "\n",
        "#### donde, en unidades de millones de electrón-volts, las constantes son $a_1 = 15.8$, $a_2 = 18.3$, $a_3 = 0.714$, $a_4 = 23.2$ y\n",
        "\n",
        "$$a_5 =\n",
        "\\begin{cases}\n",
        "  0 & \\text{si $A$ es impar}\\\\\n",
        "  12.0 & \\text{si $A$ y $Z$ son pares}\\\\\n",
        "  -12.0 & \\text{si $A$ es par y $Z$ es impar}\\\\\n",
        "\\end{cases}$$"
      ],
      "metadata": {
        "id": "SSGdJ_MLIkqu"
      }
    },
    {
      "cell_type": "markdown",
      "source": [
        "#### **(a)** Escribe un programa que tome como entrada los valores de $A$ y $Z$, e imprima la energía de enlace $B$ para el átomo correspondiente. Usa tu programa para encontrar la energía de un átomo con $A = 58$ y $Z = 28$ (Hint: la respuesta correcta es alrededor de los $490\\,MeV$)."
      ],
      "metadata": {
        "id": "hFB0EpfZNlkx"
      }
    },
    {
      "cell_type": "code",
      "source": [
        "# Definimos las constantes dadas\n",
        "a1 = 15.8\n",
        "a2 = 18.3\n",
        "a3 = 0.714\n",
        "a4 = 23.2\n",
        "\n",
        "# Le solicitamos al usuario los valores A y Z\n",
        "A = float(input(\"Por favor ingrese el número de masa del átomo: \"))\n",
        "Z = float(input(\"Por favor ingrese el número atómico del átomo: \"))\n",
        "\n",
        "# Definimos a B como una función\n",
        "def B(A,Z):\n",
        "  return a1*A - a2*(A**(2/3)) - a3*((Z**2)/(A**(1/3))) - a4*(((A-2*Z)**2)/(A)) + a5/(A**(1/5))\n",
        "\n",
        "# Definimos los casos\n",
        "if A == 0: # Para el caso indefinido\n",
        "  print(\"No se pueden tomar una masa 0.\")\n",
        "elif A%2 == 1: # A impar\n",
        "  a5 = 0\n",
        "elif A%2 == 0 and Z%2 == 0: # A y Z pares\n",
        "  a5 = 12.0\n",
        "elif A%2 == 0 and Z%2 == 1: # A par y Z impar\n",
        "  a5 = -12.0\n",
        "\n",
        "print(\"La energía de enlace nuclear aproximada es:\",B(A,Z),\"MeV.\") # La función se evalúa directamente en el print"
      ],
      "metadata": {
        "id": "Auire71wPBA-",
        "colab": {
          "base_uri": "https://localhost:8080/"
        },
        "outputId": "32000e68-6b26-4e71-df9c-05ab61465f1a"
      },
      "execution_count": 151,
      "outputs": [
        {
          "output_type": "stream",
          "name": "stdout",
          "text": [
            "Por favor ingrese el número de masa del átomo: 58\n",
            "Por favor ingrese el número atómico del átomo: 28\n",
            "La energía de enlace nuclear aproximada es: 501.3135022802647 MeV.\n"
          ]
        }
      ]
    },
    {
      "cell_type": "markdown",
      "source": [
        "#### **(b)** Modifica el programa del inciso anterior para escribir una segunda versión que no imprima la energía de enlace total $B$, sino la energía de unión por nucleón, que es $B/A$."
      ],
      "metadata": {
        "id": "6hkS33XFPAVV"
      }
    },
    {
      "cell_type": "code",
      "source": [
        "# Definimos las constantes dadas\n",
        "a1 = 15.8\n",
        "a2 = 18.3\n",
        "a3 = 0.714\n",
        "a4 = 23.2\n",
        "\n",
        "# Le solicitamos al usuario los valores A y Z\n",
        "A = float(input(\"Por favor ingrese el número de masa del átomo: \"))\n",
        "Z = float(input(\"Por favor ingrese el número atómico del átomo: \"))\n",
        "\n",
        "# Definimos a B como una función\n",
        "def B(A,Z):\n",
        "  return a1*A - a2*(A**(2/3)) - a3*((Z**2)/(A**(1/3))) - a4*(((A-2*Z)**2)/(A)) + a5/(A**(1/5))\n",
        "\n",
        "# Definimos los casos\n",
        "if A == 0: # Para el caso indefinido\n",
        "  print(\"No se pueden tomar una masa 0.\")\n",
        "elif A%2 == 1: # A impar\n",
        "  a5 = 0\n",
        "elif A%2 == 0 and Z%2 == 0: # A y Z pares\n",
        "  a5 = 12.0\n",
        "elif A%2 == 0 and Z%2 == 1: # A par y Z impar\n",
        "  a5 = -12.0\n",
        "\n",
        "N = B(A,Z)/A\n",
        "print(\"La energía de unión por nucleón es:\",N,\"MeV.\")"
      ],
      "metadata": {
        "id": "nUk2-aVCPBTs",
        "colab": {
          "base_uri": "https://localhost:8080/"
        },
        "outputId": "398784a4-1b60-4693-d6ef-79590b97edb9"
      },
      "execution_count": 154,
      "outputs": [
        {
          "output_type": "stream",
          "name": "stdout",
          "text": [
            "Por favor ingrese el número de masa del átomo: 28\n",
            "Por favor ingrese el número atómico del átomo: 58\n",
            "La energía de unión por nucleón es: -247.4150573798093 MeV, que es el el núcleo más estable con el número de masa: 28.0\n"
          ]
        }
      ]
    },
    {
      "cell_type": "markdown",
      "source": [
        "#### **(c)** Escribe una tercera versión del programa para que tome como entrada solo un valor del número atómico $Z$ y luego pase por todos los valores de $A$ desde $A = Z$ hasta $A = 3Z$, para encontrar el que tiene la mayor energía de enlace por nucleón. Este es el núcleo más estable con el número atómico dado. Haz que tu programa imprima el valor de $A$ para este núcleo más estable y el valor de la energía de enlace por nucleón."
      ],
      "metadata": {
        "id": "Na2_ijVXPZra"
      }
    },
    {
      "cell_type": "code",
      "source": [
        "# Definimos las constantes dadas\n",
        "a1 = 15.8\n",
        "a2 = 18.3\n",
        "a3 = 0.714\n",
        "a4 = 23.2\n",
        "\n",
        "# Le solicitamos al usuario el valor Z\n",
        "Z = int(input(\"Por favor ingrese el número atómico del átomo: \"))\n",
        "\n",
        "# Definimos a B como una función\n",
        "def B(A,Z):\n",
        "  return a1*A - a2*(A**(2/3)) - a3*((Z**2)/(A**(1/3))) - a4*(((A-2*Z)**2)/(A)) + a5/(A**(1/5))\n",
        "\n",
        "# Configuramos el rango de A\n",
        "for A in range(Z,3*Z+1):\n",
        "#Configuramos los casos\n",
        "  if A == 0: # Para el caso indefinido\n",
        "    print(\"No se pueden tomar una masa 0.\")\n",
        "  elif A%2 == 1: # A impar\n",
        "    a5 = 0\n",
        "  elif A%2 == 0 and Z%2 == 0: # A y Z pares\n",
        "    a5 = 12.0\n",
        "  elif A%2 == 0 and Z%2 == 1: # A par y Z impar\n",
        "    a5 = -12.0\n",
        "\n",
        "  N = B(A,Z)/A\n",
        "\n",
        "# Para ver si hay otra cantidad más grande, analizamos el caso que sigue (A+1)\n",
        "  A1 = A+1\n",
        "  if A1%2 == 1: # A impar\n",
        "    a5 = 0\n",
        "  elif A1%2 == 0 and Z%2 == 0: # A y Z pares\n",
        "    a5 = 12.0\n",
        "  elif A1%2 == 0 and Z%2 == 1: # A par y Z impar\n",
        "    a5 = -12.0\n",
        "\n",
        "  N1 = B(A1,Z)/A1\n",
        "  if N<N1:\n",
        "    continue\n",
        "  else:\n",
        "    print(\"La energía de unión por nucleón es:\",N,\"MeV, que es el el núcleo más estable con el número de masa:\",A)\n",
        "    break"
      ],
      "metadata": {
        "id": "1YGPwxq9qvdG",
        "outputId": "2a9fc238-d74c-4fe7-c1b7-ce0eff188e24",
        "colab": {
          "base_uri": "https://localhost:8080/"
        }
      },
      "execution_count": 155,
      "outputs": [
        {
          "output_type": "stream",
          "name": "stdout",
          "text": [
            "Por favor ingrese el número atómico del átomo: 28\n",
            "La energía de unión por nucleón es:  8.499818219298357  MeV, que es el el núcleo más estable con el número de masa: 56\n"
          ]
        }
      ]
    },
    {
      "cell_type": "markdown",
      "source": [
        "Imprimamos todos los resultados para ver que, efectivamente, es el valor más grande:"
      ],
      "metadata": {
        "id": "Dzelw6fo3Jmt"
      }
    },
    {
      "cell_type": "code",
      "source": [
        "# Definimos las constantes dadas\n",
        "a1 = 15.8\n",
        "a2 = 18.3\n",
        "a3 = 0.714\n",
        "a4 = 23.2\n",
        "\n",
        "# Le solicitamos al usuario el valor Z\n",
        "Z = int(input(\"Por favor ingrese el número atómico del átomo: \"))\n",
        "\n",
        "# Definimos a B como una función\n",
        "def B(A,Z):\n",
        "  return a1*A - a2*(A**(2/3)) - a3*((Z**2)/(A**(1/3))) - a4*(((A-2*Z)**2)/(A)) + a5/(A**(1/5))\n",
        "\n",
        "# Configuramos el rango de A\n",
        "for A in range(Z,3*Z+1):\n",
        "#Configuramos los casos\n",
        "  if A == 0: # Para el caso indefinido\n",
        "    print(\"No se pueden tomar una masa 0.\")\n",
        "  elif A%2 == 1: # A impar\n",
        "    a5 = 0\n",
        "  elif A%2 == 0 and Z%2 == 0: # A y Z pares\n",
        "    a5 = 12.0\n",
        "  elif A%2 == 0 and Z%2 == 1: # A par y Z impar\n",
        "    a5 = -12.0\n",
        "\n",
        "  N = B(A,Z)/A\n",
        "  print(\"La energía de unión por nucleón es:\",N,\"MeV, que es el el núcleo más estable con el número de masa:\",A)"
      ],
      "metadata": {
        "id": "KxGbD6ybrJYp",
        "outputId": "10d116db-9ddb-49f6-f2b7-d4575d7dc8c9",
        "colab": {
          "base_uri": "https://localhost:8080/"
        }
      },
      "execution_count": 156,
      "outputs": [
        {
          "output_type": "stream",
          "name": "stdout",
          "text": [
            "Por favor ingrese el número atómico del átomo: 28\n",
            "La energía de unión por nucleón es: -19.790116302445284 MeV, que es el el núcleo más estable con el número de masa: 28\n",
            "La energía de unión por nucleón es: -16.549518982830094 MeV, que es el el núcleo más estable con el número de masa: 29\n",
            "La energía de unión por nucleón es: -13.317751258638392 MeV, que es el el núcleo más estable con el número de masa: 30\n",
            "La energía de unión por nucleón es: -10.862115491290764 MeV, que es el el núcleo más estable con el número de masa: 31\n",
            "La energía de unión por nucleón es: -8.336588534721798 MeV, que es el el núcleo más estable con el número de masa: 32\n",
            "La energía de unión por nucleón es: -6.463563286438533 MeV, que es el el núcleo más estable con el número de masa: 33\n",
            "La energía de unión por nucleón es: -4.470066342485569 MeV, que es el el núcleo más estable con el número de masa: 34\n",
            "La energía de unión por nucleón es: -3.0359207610018877 MeV, que es el el núcleo más estable con el número de masa: 35\n",
            "La energía de unión por nucleón es: -1.4490941554568582 MeV, que es el el núcleo más estable con el número de masa: 36\n",
            "La energía de unión por nucleón es: -0.3498196453876887 MeV, que es el el núcleo más estable con el número de masa: 37\n",
            "La energía de unión por nucleón es: 0.9221570444095459 MeV, que es el el núcleo más estable con el número de masa: 38\n",
            "La energía de unión por nucleón es: 1.7630669229582758 MeV, que es el el núcleo más estable con el número de masa: 39\n",
            "La energía de unión por nucleón es: 2.7885130304743484 MeV, que es el el núcleo más estable con el número de masa: 40\n",
            "La energía de unión por nucleón es: 3.428156778902067 MeV, que es el el núcleo más estable con el número de masa: 41\n",
            "La energía de unión por nucleón es: 4.258622751178362 MeV, que es el el núcleo más estable con el número de masa: 42\n",
            "La energía de unión por nucleón es: 4.740168115520128 MeV, que es el el núcleo más estable con el número de masa: 43\n",
            "La energía de unión por nucleón es: 5.415043127868614 MeV, que es el el núcleo más estable con el número de masa: 44\n",
            "La energía de unión por nucleón es: 5.771504961521414 MeV, que es el el núcleo más estable con el número de masa: 45\n",
            "La energía de unión por nucleón es: 6.32122845507257 MeV, que es el el núcleo más estable con el número de masa: 46\n",
            "La energía de unión por nucleón es: 6.578119723261759 MeV, que es el el núcleo más estable con el número de masa: 47\n",
            "La energía de unión por nucleón es: 7.026457025209041 MeV, que es el el núcleo más estable con el número de masa: 48\n",
            "La energía de unión por nucleón es: 7.203678258426828 MeV, que es el el núcleo más estable con el número de masa: 49\n",
            "La energía de unión por nucleón es: 7.569357302599818 MeV, que es el el núcleo más estable con el número de masa: 50\n",
            "La energía de unión por nucleón es: 7.682562453980263 MeV, que es el el núcleo más estable con el número de masa: 51\n",
            "La energía de unión por nucleón es: 7.980467116124418 MeV, que es el el núcleo más estable con el número de masa: 52\n",
            "La energía de unión por nucleón es: 8.042063743722697 MeV, que es el el núcleo más estable con el número de masa: 53\n",
            "La energía de unión por nucleón es: 8.284114811703265 MeV, que es el el núcleo más estable con el número de masa: 54\n",
            "La energía de unión por nucleón es: 8.304005192282375 MeV, que es el el núcleo más estable con el número de masa: 55\n",
            "La energía de unión por nucleón es: 8.499818219298357 MeV, que es el el núcleo más estable con el número de masa: 56\n",
            "La energía de unión por nucleón es: 8.485954491961913 MeV, que es el el núcleo más estable con el número de masa: 57\n",
            "La energía de unión por nucleón es: 8.64333624621146 MeV, que es el el núcleo más estable con el número de masa: 58\n",
            "La energía de unión por nucleón es: 8.602140432775034 MeV, que es el el núcleo más estable con el número de masa: 59\n",
            "La energía de unión por nucleón es: 8.727467211757425 MeV, que es el el núcleo más estable con el número de masa: 60\n",
            "La energía de unión por nucleón es: 8.664151954207181 MeV, que es el el núcleo más estable con el número de masa: 61\n",
            "La energía de unión por nucleón es: 8.762660490048285 MeV, que es el el núcleo más estable con el número de masa: 62\n",
            "La energía de unión por nucleón es: 8.681476079276997 MeV, que es el el núcleo más estable con el número de masa: 63\n",
            "La energía de unión por nucleón es: 8.757489115309014 MeV, que es el el núcleo más estable con el número de masa: 64\n",
            "La energía de unión por nucleón es: 8.661915268514873 MeV, que es el el núcleo más estable con el número de masa: 65\n",
            "La energía de unión por nucleón es: 8.719017850011683 MeV, que es el el núcleo más estable con el número de masa: 66\n",
            "La energía de unión por nucleón es: 8.611913699496283 MeV, que es el el núcleo más estable con el número de masa: 67\n",
            "La energía de unión por nucleón es: 8.65309195527657 MeV, que es el el núcleo más estable con el número de masa: 68\n",
            "La energía de unión por nucleón es: 8.536814165675183 MeV, que es el el núcleo más estable con el número de masa: 69\n",
            "La energía de unión por nucleón es: 8.564565308951359 MeV, que es el el núcleo más estable con el número de masa: 70\n",
            "La energía de unión por nucleón es: 8.441061695748864 MeV, que es el el núcleo más estable con el número de masa: 71\n",
            "La energía de unión por nucleón es: 8.457481771704273 MeV, que es el el núcleo más estable con el número de masa: 72\n",
            "La energía de unión por nucleón es: 8.328365949964313 MeV, que es el el núcleo más estable con el número de masa: 73\n",
            "La energía de unión por nucleón es: 8.33522025293891 MeV, que es el el núcleo más estable con el número de masa: 74\n",
            "La energía de unión por nucleón es: 8.201831496153922 MeV, que es el el núcleo más estable con el número de masa: 75\n",
            "La energía de unión por nucleón es: 8.200611398702037 MeV, que es el el núcleo más estable con el número de masa: 76\n",
            "La energía de unión por nucleón es: 8.064062891975894 MeV, que es el el núcleo más estable con el número de masa: 77\n",
            "La energía de unión por nucleón es: 8.056031951888151 MeV, que es el el núcleo más estable con el número de masa: 78\n",
            "La energía de unión por nucleón es: 7.917249882620846 MeV, que es el el núcleo más estable con el número de masa: 79\n",
            "La energía de unión por nucleón es: 7.903481438471681 MeV, que es el el núcleo más estable con el número de masa: 80\n",
            "La energía de unión por nucleón es: 7.76323681186056 MeV, que es el el núcleo más estable con el número de masa: 81\n",
            "La energía de unión por nucleón es: 7.744644783418341 MeV, que es el el núcleo más estable con el número de masa: 82\n",
            "La energía de unión por nucleón es: 7.603579430048542 MeV, que es el el núcleo más estable con el número de masa: 83\n",
            "La energía de unión por nucleón es: 7.580943664565756 MeV, que es el el núcleo más estable con el número de masa: 84\n"
          ]
        }
      ]
    },
    {
      "cell_type": "markdown",
      "source": [
        "#### **(d)** Finalmente, escribe una cuarta versión del programa que, en lugar de tomar $Z$ como entrada, se ejecute a través de todos los valores de $Z$ de $1$ a $100$ e imprima el valor más estable de $A$ para cada uno. ¿A qué valor de $Z$ se produce la energía de enlace máxima por nucleón? (La respuesta correcta, en la vida real, es $Z = 28$, que corresponde al Níquel)."
      ],
      "metadata": {
        "id": "6pfW-iEwP1nf"
      }
    },
    {
      "cell_type": "code",
      "source": [
        "# Definimos las constantes dadas\n",
        "a1 = 15.8\n",
        "a2 = 18.3\n",
        "a3 = 0.714\n",
        "a4 = 23.2\n",
        "\n",
        "# Definimos a B como una función\n",
        "def B(A,Z):\n",
        "  return a1*A - a2*(A**(2/3)) - a3*((Z**2)/(A**(1/3))) - a4*(((A-2*Z)**2)/(A)) + a5/(A**(1/5))\n",
        "\n",
        "# Configuramos el rango de Z\n",
        "for Z in range(1,101):\n",
        "# Configuramos el rango de A\n",
        "  for A in range(Z,3*Z+1):\n",
        "#Configuramos los casos\n",
        "    if A == 0: # Para el caso indefinido\n",
        "      print(\"No se pueden tomar una masa 0.\")\n",
        "    elif A%2 == 1: # A impar\n",
        "      a5 = 0\n",
        "    elif A%2 == 0 and Z%2 == 0: # A y Z pares\n",
        "      a5 = 12.0\n",
        "    elif A%2 == 0 and Z%2 == 1: # A par y Z impar\n",
        "      a5 = -12.0\n",
        "\n",
        "    N = B(A,Z)/A\n",
        "\n",
        "# Para ver si hay otra cantidad más grande, analizamos el caso que sigue (A+1)\n",
        "    A1 = A+1\n",
        "    if A1%2 == 1: # A impar\n",
        "      a5 = 0\n",
        "    elif A1%2 == 0 and Z%2 == 0: # A y Z pares\n",
        "      a5 = 12.0\n",
        "    elif A1%2 == 0 and Z%2 == 1: # A par y Z impar\n",
        "      a5 = -12.0\n",
        "\n",
        "    N1 = B(A1,Z)/A1\n",
        "    if N<N1:\n",
        "      continue\n",
        "    else:\n",
        "      print(\"La energía de unión por nucleón es:\",N,\"MeV, que es el el núcleo más estable con el número de masa:\",A)\n",
        "      break"
      ],
      "metadata": {
        "id": "IKnYVlvlP5y9",
        "colab": {
          "base_uri": "https://localhost:8080/"
        },
        "outputId": "400ffb68-da4b-4ae8-8f7a-e0004a0f2261"
      },
      "execution_count": 157,
      "outputs": [
        {
          "output_type": "stream",
          "name": "stdout",
          "text": [
            "La energía de unión por nucleón es: 0.36869091831015827 MeV, que es el el núcleo más estable con el número de masa: 3\n",
            "La energía de unión por nucleón es: 6.095505428415038 MeV, que es el el núcleo más estable con el número de masa: 4\n",
            "La energía de unión por nucleón es: 5.280168164356119 MeV, que es el el núcleo más estable con el número de masa: 7\n",
            "La energía de unión por nucleón es: 6.925630933079672 MeV, que es el el núcleo más estable con el número de masa: 8\n",
            "La energía de unión por nucleón es: 5.762370652112939 MeV, que es el el núcleo más estable con el número de masa: 9\n",
            "La energía de unión por nucleón es: 7.479498411823497 MeV, que es el el núcleo más estable con el número de masa: 12\n",
            "La energía de unión por nucleón es: 6.735353586949277 MeV, que es el el núcleo más estable con el número de masa: 13\n",
            "La energía de unión por nucleón es: 7.834997719264082 MeV, que es el el núcleo más estable con el número de masa: 16\n",
            "La energía de unión por nucleón es: 7.279574084651339 MeV, que es el el núcleo más estable con el número de masa: 17\n",
            "La energía de unión por nucleón es: 8.07259127546531 MeV, que es el el núcleo más estable con el número de masa: 20\n",
            "La energía de unión por nucleón es: 7.623211063420492 MeV, que es el el núcleo más estable con el número de masa: 21\n",
            "La energía de unión por nucleón es: 8.23537045029484 MeV, que es el el núcleo más estable con el número de masa: 24\n",
            "La energía de unión por nucleón es: 7.853680374509768 MeV, que es el el núcleo más estable con el número de masa: 25\n",
            "La energía de unión por nucleón es: 8.347660966349315 MeV, que es el el núcleo más estable con el número de masa: 28\n",
            "La energía de unión por nucleón es: 8.012909638745295 MeV, que es el el núcleo más estable con el número de masa: 29\n",
            "La energía de unión por nucleón es: 8.424193937481077 MeV, que es el el núcleo más estable con el número de masa: 32\n",
            "La energía de unión por nucleón es: 8.123934928121166 MeV, que es el el núcleo más estable con el número de masa: 33\n",
            "La energía de unión por nucleón es: 8.474432484248949 MeV, que es el el núcleo más estable con el número de masa: 36\n",
            "La energía de unión por nucleón es: 8.200627708131316 MeV, que es el el núcleo más estable con el número de masa: 37\n",
            "La energía de unión por nucleón es: 8.504751748954975 MeV, que es el el núcleo más estable con el número de masa: 40\n",
            "La energía de unión por nucleón es: 8.251913045246146 MeV, que es el el núcleo más estable con el número de masa: 41\n",
            "La energía de unión por nucleón es: 8.519615223314897 MeV, que es el el núcleo más estable con el número de masa: 44\n",
            "La energía de unión por nucleón es: 8.28382929760652 MeV, que es el el núcleo más estable con el número de masa: 45\n",
            "La energía de unión por nucleón es: 8.52224837866015 MeV, que es el el núcleo más estable con el número de masa: 48\n",
            "La energía de unión por nucleón es: 8.300626187701269 MeV, que es el el núcleo más estable con el número de masa: 49\n",
            "La energía de unión por nucleón es: 8.515044256613297 MeV, que es el el núcleo más estable con el número de masa: 52\n",
            "La energía de unión por nucleón es: 8.491754055137488 MeV, que es el el núcleo más estable con el número de masa: 55\n",
            "La energía de unión por nucleón es: 8.499818219298357 MeV, que es el el núcleo más estable con el número de masa: 56\n",
            "La energía de unión por nucleón es: 8.478269324563687 MeV, que es el el núcleo más estable con el número de masa: 59\n",
            "La energía de unión por nucleón es: 8.477973809376515 MeV, que es el el núcleo más estable con el número de masa: 60\n",
            "La energía de unión por nucleón es: 8.457911008978327 MeV, que es el el núcleo más estable con el número de masa: 63\n",
            "La energía de unión por nucleón es: 8.450614115309014 MeV, que es el el núcleo más estable con el número de masa: 64\n",
            "La energía de unión por nucleón es: 8.431835377339146 MeV, que es el el núcleo más estable con el número de masa: 67\n",
            "La energía de unión por nucleón es: 8.418618568034645 MeV, que es el el núcleo más estable con el número de masa: 68\n",
            "La energía de unión por nucleón es: 8.40096119547833 MeV, que es el el núcleo más estable con el número de masa: 71\n",
            "La energía de unión por nucleón es: 8.514272086041041 MeV, que es el el núcleo más estable con el número de masa: 74\n",
            "La energía de unión por nucleón es: 8.36602815006285 MeV, que es el el núcleo más estable con el número de masa: 75\n",
            "La energía de unión por nucleón es: 8.472406919347653 MeV, que es el el núcleo más estable con el número de masa: 78\n",
            "La energía de unión por nucleón es: 8.327638674184891 MeV, que es el el núcleo más estable con el número de masa: 79\n",
            "La energía de unión por nucleón es: 8.427817302847009 MeV, que es el el núcleo más estable con el número de masa: 82\n",
            "La energía de unión por nucleón es: 8.39751473607684 MeV, que es el el núcleo más estable con el número de masa: 85\n",
            "La energía de unión por nucleón es: 8.380891880398439 MeV, que es el el núcleo más estable con el número de masa: 86\n",
            "La energía de unión por nucleón es: 8.352488013093918 MeV, que es el el núcleo más estable con el número de masa: 89\n",
            "La energía de unión por nucleón es: 8.331954882090939 MeV, que es el el núcleo más estable con el número de masa: 90\n",
            "La energía de unión por nucleón es: 8.305244415041612 MeV, que es el el núcleo más estable con el número de masa: 93\n",
            "La energía de unión por nucleón es: 8.28127891719493 MeV, que es el el núcleo más estable con el número de masa: 94\n",
            "La energía de unión por nucleón es: 8.256086683357509 MeV, que es el el núcleo más estable con el número de masa: 97\n",
            "La energía de unión por nucleón es: 8.323871664262983 MeV, que es el el núcleo más estable con el número de masa: 100\n",
            "La energía de unión por nucleón es: 8.205270322073236 MeV, que es el el núcleo más estable con el número de masa: 101\n",
            "La energía de unión por nucleón es: 8.270122656888876 MeV, que es el el núcleo más estable con el número de masa: 104\n",
            "La energía de unión por nucleón es: 8.238753813709938 MeV, que es el el núcleo más estable con el número de masa: 107\n",
            "La energía de unión por nucleón es: 8.21515675432146 MeV, que es el el núcleo más estable con el número de masa: 108\n",
            "La energía de unión por nucleón es: 8.185407535720385 MeV, que es el el núcleo más estable con el número de masa: 111\n",
            "La energía de unión por nucleón es: 8.159135109480612 MeV, que es el el núcleo más estable con el número de masa: 112\n",
            "La energía de unión por nucleón es: 8.130864957898599 MeV, que es el el núcleo más estable con el número de masa: 115\n",
            "La energía de unión por nucleón es: 8.179498473475697 MeV, que es el el núcleo más estable con el número de masa: 118\n",
            "La energía de unión por nucleón es: 8.075281020460261 MeV, que es el el núcleo más estable con el número de masa: 119\n",
            "La energía de unión por nucleón es: 8.122211661996664 MeV, que es el el núcleo más estable con el número de masa: 122\n",
            "La energía de unión por nucleón es: 8.0905504 MeV, que es el el núcleo más estable con el número de masa: 125\n",
            "La energía de unión por nucleón es: 8.064125226413962 MeV, que es el el núcleo más estable con el número de masa: 126\n",
            "La energía de unión por nucleón es: 8.033875723427709 MeV, que es el el núcleo más estable con el número de masa: 129\n",
            "La energía de unión por nucleón es: 8.005345047488422 MeV, que es el el núcleo más estable con el número de masa: 130\n",
            "La energía de unión por nucleón es: 7.976402922204728 MeV, que es el el núcleo más estable con el número de masa: 133\n",
            "La energía de unión por nucleón es: 8.0126460744983 MeV, que es el el núcleo más estable con el número de masa: 136\n",
            "La energía de unión por nucleón es: 7.918234441708701 MeV, que es el el núcleo más estable con el número de masa: 137\n",
            "La energía de unión por nucleón es: 7.953423291872523 MeV, que es el el núcleo más estable con el número de masa: 140\n",
            "La energía de unión por nucleón es: 7.9224643285047085 MeV, que es el el núcleo más estable con el número de masa: 143\n",
            "La energía de unión por nucleón es: 7.893651384575593 MeV, que es el el núcleo más estable con el número de masa: 144\n",
            "La energía de unión por nucleón es: 7.863899263456218 MeV, que es el el núcleo más estable con el número de masa: 147\n",
            "La energía de unión por nucleón es: 7.892319977386901 MeV, que es el el núcleo más estable con el número de masa: 150\n",
            "La energía de unión por nucleón es: 7.804781447180245 MeV, que es el el núcleo más estable con el número de masa: 151\n",
            "La energía de unión por nucleón es: 7.832486414016399 MeV, que es el el núcleo más estable con el número de masa: 154\n",
            "La energía de unión por nucleón es: 7.801496033338627 MeV, que es el el núcleo más estable con el número de masa: 157\n",
            "La energía de unión por nucleón es: 7.772206361339615 MeV, que es el el núcleo más estable con el número de masa: 158\n",
            "La energía de unión por nucleón es: 7.742311316367851 MeV, que es el el núcleo más estable con el número de masa: 161\n",
            "La energía de unión por nucleón es: 7.76481846951064 MeV, que es el el núcleo más estable con el número de masa: 164\n",
            "La energía de unión por nucleón es: 7.733120081183287 MeV, que es el el núcleo más estable con el número de masa: 167\n",
            "La energía de unión por nucleón es: 7.704690427747465 MeV, que es el el núcleo más estable con el número de masa: 168\n",
            "La energía de unión por nucleón es: 7.6740361883142185 MeV, que es el el núcleo más estable con el número de masa: 171\n",
            "La energía de unión por nucleón es: 7.69231385554319 MeV, que es el el núcleo más estable con el número de masa: 174\n",
            "La energía de unión por nucleón es: 7.614527646582421 MeV, que es el el núcleo más estable con el número de masa: 175\n",
            "La energía de unión por nucleón es: 7.632446308142856 MeV, que es el el núcleo más estable con el número de masa: 178\n",
            "La energía de unión por nucleón es: 7.601388387850678 MeV, que es el el núcleo más estable con el número de masa: 181\n",
            "La energía de unión por nucleón es: 7.572223548987883 MeV, que es el el núcleo más estable con el número de masa: 182\n",
            "La energía de unión por nucleón es: 7.542102789266417 MeV, que es el el núcleo más estable con el número de masa: 185\n",
            "La energía de unión por nucleón es: 7.556632865604622 MeV, que es el el núcleo más estable con el número de masa: 188\n",
            "La energía de unión por nucleón es: 7.52541975956834 MeV, que es el el núcleo más estable con el número de masa: 191\n",
            "La energía de unión por nucleón es: 7.496744911508954 MeV, que es el el núcleo más estable con el número de masa: 192\n",
            "La energía de unión por nucleón es: 7.466415152158993 MeV, que es el el núcleo más estable con el número de masa: 195\n",
            "La energía de unión por nucleón es: 7.478109095540275 MeV, que es el el núcleo más estable con el número de masa: 198\n",
            "La energía de unión por nucleón es: 7.407072091529428 MeV, que es el el núcleo más estable con el número de masa: 199\n",
            "La energía de unión por nucleón es: 7.418588457386354 MeV, que es el el núcleo más estable con el número de masa: 202\n",
            "La energía de unión por nucleón es: 7.388224787339885 MeV, que es el el núcleo más estable con el número de masa: 205\n",
            "La energía de unión por nucleón es: 7.358778616015984 MeV, que es el el núcleo más estable con el número de masa: 206\n",
            "La energía de unión por nucleón es: 7.329209979203051 MeV, que es el el núcleo más estable con el número de masa: 209\n",
            "La energía de unión por nucleón es: 7.338382858708464 MeV, que es el el núcleo más estable con el número de masa: 212\n",
            "La energía de unión por nucleón es: 7.308110182080692 MeV, que es el el núcleo más estable con el número de masa: 215\n",
            "La energía de unión por nucleón es: 7.2789647317555355 MeV, que es el el núcleo más estable con el número de masa: 216\n",
            "La energía de unión por nucleón es: 7.249440128171783 MeV, que es el el núcleo más estable con el número de masa: 219\n",
            "La energía de unión por nucleón es: 7.256609731915831 MeV, que es el el núcleo más estable con el número de masa: 222\n"
          ]
        }
      ]
    },
    {
      "cell_type": "markdown",
      "source": [
        "### **5. La constante de Madelung**: En física de la materia condensada, *la constante de Madelung* da el potencial eléctrico total que siente un átomo en un sólido; y depende de las cargas de los otros átomos cercanos y de sus ubicaciones. Por ejemplo, el cristal de cloruro de sodio sólido (la sal de mesa) tiene átomos dispuestos en una red cúbica, con átomos de sodio y cloro alternados, teniendo los de sodio una carga positiva $+e$ y los de cloro una negativa $−e$, (donde $e$ es la carga del electrón).\n",
        "\n",
        "### Si etiquetamos cada posicióon en la red con tres coordenadas enteras ($i$, $j$, $k$), entonces los átomos de sodio caen en posiciones donde $i+j+k$ es par, y los átomos de cloro en posiciones donde $i+j+k$ es impar.\n",
        "\n",
        "### Consideremos un átomo de sodio en el origen, i.e., $i=j=k=0$, y calculemos la *constante de Madelung*. Si el espaciado de los átomos en la red es $a$, entonces la distancia desde el origen al átomo en la posición ($i$, $j$, $k$) es:\n",
        "\n",
        "$$\\sqrt{(ia)^2 + (ja)^2 + (ka)^2} = a\\sqrt{i^2 + j^2 + k^2}$$\n",
        "\n",
        "### y el potencial en el origen creado por tal átomo es:\n",
        "\n",
        "$$V(i,j,k) = \\pm\\frac{e}{4\\pi\\epsilon_0a\\sqrt{i^2+j^2+k^2}}$$\n",
        "\n",
        "### siendo $\\epsilon_0$ la permitividad del vacío y el signo de la expresión se toma dependiendo de si $i+j+k$ es par o impar. Así entonces, el potencial total que siente el átomo de sodio es la suma de esta cantidad sobre todos los demás átomos. Supongamos una caja cúbica alrededor del átomo de sodio en el origen, con $L$ átomos en todas las direcciones, entonces:\n",
        "\n",
        "$$V_{total} = \\sum_{\\substack{i,j,k=-L\\\\i,j,k\\neq0}}^{L} V(i,j,k) = \\frac{e}{4\\pi\\epsilon_0a}M$$\n",
        "\n",
        "### donde $M$ es la *constante de Madelung* (al menos aproximadamente). Técnicamente, la *constante de Madelung* es el valor de $M$ cuando $L\\rightarrow \\infty$, pero se puede obtener una buena aproximación simplemente usando un valor grande de $L$.\n",
        "\n",
        "### Escribe un programa para calcular e imprimir la *constante de Madelung* para el cloruro de sodio. Utiliza un valor de $L$ tan grande como puedas, sin dejar que tu programa se ejecute en un tiempo razonable (un minuto o menos)"
      ],
      "metadata": {
        "id": "hCi2XuGuP6Kt"
      }
    },
    {
      "cell_type": "code",
      "source": [],
      "metadata": {
        "id": "kxXlO6irQwCc"
      },
      "execution_count": null,
      "outputs": []
    },
    {
      "cell_type": "markdown",
      "source": [
        "### **6. Coeficientes binomiales**: El coeficiente binomial $\\scriptstyle \\begin{pmatrix}n\\\\k\\end{pmatrix}$ es un número entero igual a:\n",
        "\n",
        "$$\\begin{pmatrix}n\\\\k\\end{pmatrix} = \\frac{n!}{k!(n-k)!} = \\frac{n\\times(n-1)\\times(n-2)\\times...\\times(n-k+1)}{1\\times2\\times...\\times k}$$\n",
        "\n",
        "### donde $k\\geq1$, o bien $\\scriptstyle \\begin{pmatrix}n\\\\0\\end{pmatrix} = 1$ cuando $k = 0$."
      ],
      "metadata": {
        "id": "LLe76PEkUoxI"
      }
    },
    {
      "cell_type": "markdown",
      "source": [
        "#### **(a)** Utiliza esta formula para escribir una función llamada $\\texttt{binomial(n,k)}$ (o como tú quieras) que calcule el coeficiente binomial para un $n$ y $k$ dados. Asegúrate de que tu función devuelva la respuesta en forma de un número entero (no flotante) y proporcione el valor correcto de $1$ para el caso en que $k = 0$."
      ],
      "metadata": {
        "id": "mAAfxhMtWZ5I"
      }
    },
    {
      "cell_type": "code",
      "source": [],
      "metadata": {
        "id": "J3ApRqtgW5X9"
      },
      "execution_count": null,
      "outputs": []
    },
    {
      "cell_type": "markdown",
      "source": [
        "#### **(b)** Usando tu función, escribe un programa que imprima las primeras 20 líneas del “triángulo de Pascal\". La $n$ésima línea del triángulo de Pascal contiene $n+1$ números, que son los coeficientes $\\scriptstyle \\begin{pmatrix}n\\\\0\\end{pmatrix}$, $\\scriptstyle \\begin{pmatrix}n\\\\1\\end{pmatrix}$, y así sucesivamente hasta $\\scriptstyle \\begin{pmatrix}n\\\\n\\end{pmatrix}$. De tal manera que las primeras líneas son:\n",
        "\n",
        "$\\begin{align}&11 \\\\ &121 \\\\ &1331 \\\\ &14641\\end{align}$"
      ],
      "metadata": {
        "id": "iWzaEE8oW545"
      }
    },
    {
      "cell_type": "code",
      "source": [],
      "metadata": {
        "id": "AAf24IfYX504"
      },
      "execution_count": null,
      "outputs": []
    },
    {
      "cell_type": "markdown",
      "source": [
        "#### **(c)** La probabilidad de que para una moneda no sesgada, lanzada $n$ veces, salga águila $k$ veces es:\n",
        "\n",
        "$$p(k|n) = \\frac{\\scriptstyle \\begin{pmatrix}n\\\\k\\end{pmatrix}}{2^n}$$\n",
        "\n",
        "#### Escribe un programa para calcular:"
      ],
      "metadata": {
        "id": "R5H5eGnjX6K2"
      }
    },
    {
      "cell_type": "markdown",
      "source": [
        "##### **(1)** la probabilidad de que una moneda lanzada 100 veces, salga águila exactamente 60 veces"
      ],
      "metadata": {
        "id": "6-5WyahSYgj5"
      }
    },
    {
      "cell_type": "code",
      "source": [],
      "metadata": {
        "id": "49XdpVnCYq-E"
      },
      "execution_count": null,
      "outputs": []
    },
    {
      "cell_type": "markdown",
      "source": [
        "##### **(2)** la probabilidad de que saga águila 60 veces o más"
      ],
      "metadata": {
        "id": "kjNkWoq2Yrft"
      }
    },
    {
      "cell_type": "code",
      "source": [],
      "metadata": {
        "id": "MWlpyuTcYxe-"
      },
      "execution_count": null,
      "outputs": []
    },
    {
      "cell_type": "markdown",
      "source": [
        "### **7. Recursión**: Una característica muy útil de las funciones que podemos definir es la ***recursividad***, es decir, la capacidad de una función de llamarse a sí misma. Por ejemplo, considere la siguiente definición del factorial $n!$ de un entero positivo $n$:\n",
        "\n",
        "$$n! =\n",
        "\\begin{cases}\n",
        "1 &\\text{si $n = 1$}\\\\\n",
        "n\\times(n-1)! &\\text{si $n > 1$}\n",
        "\\end{cases}$$\n",
        "\n",
        "### Esto constituye una definición completa del factorial que nos permite calcular el valor de $n!$ para cualquier entero positivo. Podemos emplear esta definición directamente para crear una función para calcular factoriales, como esta (en Python):\n",
        "\n",
        "```python\n",
        "def factorial(n):\n",
        "    if n == 1:\n",
        "        return 1\n",
        "    else:\n",
        "        return n * factorial(n - 1)\n",
        "```\n",
        "\n",
        "### Nota cómo si $n$ no es igual a $1$, la función se llama a sí misma para calcular el factorial de $n−1$, de tal manera que al pedir $\\texttt{print(factorial(5))}$ el interprete de Python imprimirá correctamente la respuesta $120$."
      ],
      "metadata": {
        "id": "owvmxpReYx3I"
      }
    },
    {
      "cell_type": "markdown",
      "source": [
        "#### **(a)** Anteriormente, en clase encontramos los **números de Catalán $C_n$**. Si hacemos una pequeña modificación, la definición de $C_n$ se puede reescribir de la siguiente forma:\n",
        "\n",
        "$$C_n =\n",
        "\\begin{cases}\n",
        "1 &\\text{si n = 0}\\\\\n",
        "\\frac{4n-2}{n+1}C_{n-1} &\\text{si n > 0}\n",
        "\\end{cases}$$\n",
        "\n",
        "#### Escribe una función, usando recursividad, que calcule $C_n$ y utilízala para calcular e imprimir $C_{100}$"
      ],
      "metadata": {
        "id": "GDb_kWE-befQ"
      }
    },
    {
      "cell_type": "code",
      "source": [],
      "metadata": {
        "id": "4GmxX5JQc2_u"
      },
      "execution_count": null,
      "outputs": []
    },
    {
      "cell_type": "markdown",
      "source": [
        "#### **(b)** Euclides demostró que el máximo común divisor $g(m,n)$ de dos enteros no negativos $m$ y $n$ satisface que:\n",
        "\n",
        "$$g(m,n) =\n",
        "\\begin{cases}\n",
        "m &\\text{si n = 0}\\\\\n",
        "g(n,m \\text{ mod } n) &\\text{si n > 0}\n",
        "\\end{cases}$$\n",
        "\n",
        "#### Usando esta fórmula escribe una función $g(m,n)$ que emplee **recursividad** para calcular el máximo común divisor de $m$ y $n$. Usa tu función para calcular e imprimir el máximo común divisor de $108$ y $192$.\n",
        "\n",
        "#### Comparando el cálculo de los números de Catalán del inciso $7. (a)$, con lo hecho en clase, vemos que es posible hacer el cálculo de dos maneras, ya sea directamente o usando **recursividad**. En la mayoría de los casos, si una cantidad se puede calcular ***sin*** **recursividad**, será más rápido y normalmente se recomienda hacerlo así, si es posible. Sin embargo, hay algunos cálculos que son esencialmente imposibles (o al menos mucho más difíciles) sin **recursividad**."
      ],
      "metadata": {
        "id": "RAPjFFqqc3TZ"
      }
    }
  ],
  "metadata": {
    "@webio": {
      "lastCommId": null,
      "lastKernelId": null
    },
    "kernelspec": {
      "display_name": "Python 3",
      "language": "python",
      "name": "python3"
    },
    "language_info": {
      "codemirror_mode": {
        "name": "ipython",
        "version": 3
      },
      "file_extension": ".py",
      "mimetype": "text/x-python",
      "name": "python",
      "nbconvert_exporter": "python",
      "pygments_lexer": "ipython3",
      "version": "3.12.1"
    },
    "colab": {
      "provenance": [],
      "name": "Práctica 1.ipynb",
      "collapsed_sections": [
        "4ZpV8qNcCjpg"
      ]
    }
  },
  "nbformat": 4,
  "nbformat_minor": 0
}