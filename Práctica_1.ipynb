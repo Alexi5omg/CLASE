{
 "cells": [
  {
   "cell_type": "markdown",
   "metadata": {
    "id": "HSCoRcapCjpd"
   },
   "source": [
    "<h1 align=\"center\">Física Computacional</h1>\n",
    "<h1 align=\"center\">Semestre 2025-4</h1>\n",
    "\n",
    "<h2>Sergio A. Alcalá Corona</h2>\n",
    "<h2>Rodrigo Vega Vilchis</h2>\n",
    "\n",
    "---\n",
    "### Alumno: Juan Alexis Hernández Hernández\n",
    "---"
   ]
  },
  {
   "cell_type": "markdown",
   "metadata": {
    "id": "4ZpV8qNcCjpg"
   },
   "source": [
    "<h1 align=\"center\">Práctica 1. Programación básica para la física computacional</h1>"
   ]
  },
  {
   "cell_type": "code",
   "execution_count": null,
   "metadata": {
    "id": "Kc1nohd36a2-"
   },
   "outputs": [],
   "source": [
    "import math as mt"
   ]
  },
  {
   "cell_type": "markdown",
   "metadata": {
    "id": "ANd_ljcICjpi"
   },
   "source": [
    "### **EJERCICIOS**:\n",
    "\n",
    "$\\;$\n",
    "\n",
    "#### **1. Altitud de un satélite**: se va a lanzar un satélite en una órbita circular alrededor de la Tierra de modo que orbite el planeta una vez cada $T$ segundos."
   ]
  },
  {
   "cell_type": "markdown",
   "metadata": {
    "id": "ySSZqA4UCjpi"
   },
   "source": [
    "#### **(a)** Demuestre que la altitud $h$ sobre la superficie de la Tierra que debe tener el satélite es:\n",
    "\n",
    "$$h = \\biggl( {GMT^2\\over4\\pi^2} \\biggr)^{1/3} - R$$\n",
    "\n",
    "donde $G = 6,67\\times 10^{−11}\\,m^3 kg^{−1}s^{−2}$ es la constante gravitatoria de Newton, $M = 5,97\\times 10^{24}\\,kg$ es la masa de la Tierra, y $R = 6371\\,km$ es su radio.\n",
    "\n",
    "\n"
   ]
  },
  {
   "cell_type": "code",
   "execution_count": null,
   "metadata": {
    "id": "hbdlJCNbCjpo"
   },
   "outputs": [],
   "source": []
  },
  {
   "cell_type": "markdown",
   "metadata": {
    "id": "pAFNnVjfCjpo"
   },
   "source": [
    "#### **(b)** Escribe un programa que le pida al usuario que ingrese el valor deseado de $T$ y luego calcule e imprima la altura correcta en metros.\n"
   ]
  },
  {
   "cell_type": "code",
   "execution_count": null,
   "metadata": {
    "colab": {
     "base_uri": "https://localhost:8080/"
    },
    "id": "fx2ZdmrGCjpu",
    "outputId": "003c5849-054a-4c62-d4f9-4e4382895b5e"
   },
   "outputs": [
    {
     "name": "stdout",
     "output_type": "stream",
     "text": [
      "Por favor, ingrese el tiempo en segundos que tarda el satélite en orbitar la tierra 1 vez: 45555\n",
      "El satélite se encuentra a  21188468.863310583  metros de la superficie de la Tierra.\n"
     ]
    }
   ],
   "source": [
    "# Primero definimos las constantes dadas\n",
    "G = 6.67*(10**(-11))\n",
    "M = 5.97*(10**(24))\n",
    "R = 6371000 # en lugar de km lo ponemos en m para mantener la misma dimensión de unidades\n",
    "\n",
    "# Le solicitamos al usuario que ingrese T\n",
    "T = float(input(\"Por favor, ingrese el tiempo en segundos que tarda el satélite en orbitar la tierra 1 vez: \"))\n",
    "\n",
    "# Definimos la función que calcula la altura h\n",
    "h = ( (G*M*(T**2)) / (4*(mt.pi**2)) )**(1/3) - R\n",
    "\n",
    "if h < 0:# Aplicamos un criterio para que el valor sea coherente; no hay altura negativa\n",
    "  print(\"Revise el tiempo ingresado, es imposible que el satélite pueda orbitar la Tierra en ese tiempo.\")\n",
    "else:\n",
    "# Imprimimos el cálculo\n",
    "  print(\"El satélite se encuentra a \",h,\" metros de la superficie de la Tierra.\")"
   ]
  },
  {
   "cell_type": "markdown",
   "metadata": {
    "id": "wZJR9zlGCjpu"
   },
   "source": [
    "#### **(c)** Utiliza tu programa para calcular las altitudes de los satélites que orbitan la Tierra una vez al día (la llamada *órbita \"geosincrónica\"*), una vez cada **90 minutos** y una vez cada **45 minutos**.\n",
    "#### ¿Qué concluyes del último de estos cálculos?"
   ]
  },
  {
   "cell_type": "markdown",
   "metadata": {
    "id": "LWxEGO3__q58"
   },
   "source": [
    "24 horas:"
   ]
  },
  {
   "cell_type": "code",
   "execution_count": null,
   "metadata": {
    "colab": {
     "base_uri": "https://localhost:8080/"
    },
    "id": "lyUyFn99Cjpv",
    "outputId": "2d266c65-afa6-43b6-ea69-6fd93eaae622"
   },
   "outputs": [
    {
     "name": "stdout",
     "output_type": "stream",
     "text": [
      "El satélite se encuentra a  35855910.17617497  metros de la superficie de la Tierra.\n"
     ]
    }
   ],
   "source": [
    "G = 6.67*(10**(-11))\n",
    "M = 5.97*(10**(24))\n",
    "R = 6371000\n",
    "T = 24*60*60 # De horas a minutos y de minutos a segundos\n",
    "\n",
    "h = ( (G*M*(T**2)) / (4*(mt.pi**2)) )**(1/3) - R\n",
    "\n",
    "print(\"El satélite se encuentra a \",h,\" metros de la superficie de la Tierra.\")"
   ]
  },
  {
   "cell_type": "markdown",
   "metadata": {
    "id": "4RbBYksfARGC"
   },
   "source": [
    "90 minutos:"
   ]
  },
  {
   "cell_type": "code",
   "execution_count": null,
   "metadata": {
    "colab": {
     "base_uri": "https://localhost:8080/"
    },
    "id": "4GlXM-1jAXt7",
    "outputId": "229952fd-c20b-46c7-df5e-0437886d618d"
   },
   "outputs": [
    {
     "name": "stdout",
     "output_type": "stream",
     "text": [
      "El satélite se encuentra a  279321.62537285965  metros de la superficie de la Tierra.\n"
     ]
    }
   ],
   "source": [
    "G = 6.67*(10**(-11))\n",
    "M = 5.97*(10**(24))\n",
    "R = 6371000\n",
    "T = 90*60 # De minutos a segundos\n",
    "\n",
    "h = ( (G*M*(T**2)) / (4*(mt.pi**2)) )**(1/3) - R\n",
    "\n",
    "print(\"El satélite se encuentra a \",h,\" metros de la superficie de la Tierra.\")"
   ]
  },
  {
   "cell_type": "markdown",
   "metadata": {
    "id": "DGL0E6mNAec9"
   },
   "source": [
    "45 minutos:"
   ]
  },
  {
   "cell_type": "code",
   "execution_count": null,
   "metadata": {
    "colab": {
     "base_uri": "https://localhost:8080/"
    },
    "id": "Gj1CKWr8AhYY",
    "outputId": "bf0d71d0-6f9c-4648-8d79-c844e303d170"
   },
   "outputs": [
    {
     "name": "stdout",
     "output_type": "stream",
     "text": [
      "El satélite se encuentra a  -2181559.8978108233  metros de la superficie de la Tierra.\n"
     ]
    }
   ],
   "source": [
    "G = 6.67*(10**(-11))\n",
    "M = 5.97*(10**(24))\n",
    "R = 6371000\n",
    "T = 45*60 # De minutos a segundos\n",
    "\n",
    "h = ( (G*M*(T**2)) / (4*(mt.pi**2)) )**(1/3) - R\n",
    "\n",
    "print(\"El satélite se encuentra a \",h,\" metros de la superficie de la Tierra.\")"
   ]
  },
  {
   "cell_type": "markdown",
   "metadata": {
    "id": "kDeuBFKlAsBV"
   },
   "source": [
    "**Conclusión**. El satélite orbita la Tierra más rápido a menores alturas de la superficie terrestre; en el último caso sale una altura negativa de aproximadamente $2000\\,km$, o sea, ya dentro del planeta mismo (pues cae dentro del rango del radio del planeta), lo que nos lleva a decir que la velocidad en el que orbita la Tierra se debe a la atracción gravitacional del mismo planeta y se sigue aplicando que a menores distancias de la Tierra más rápido le da vuelta, pero este caso de altura negativa pues es imposible."
   ]
  },
  {
   "cell_type": "markdown",
   "metadata": {
    "id": "zCIidQNoCjpv"
   },
   "source": [
    "#### **2. Relatividad especial:** Una nave espacial viaja desde la Tierra en línea recta a una velocidad relativista $v$ a otro planeta a $x$ años luz de distancia.\n",
    "\n",
    "#### Escribe un programa que le pida al usuario el valor de $x$ y la velocidad $v$ como una fracción de la velocidad de la luz $c$, y que imprima el tiempo en años que tarda la nave espacial en llegar a su destino"
   ]
  },
  {
   "cell_type": "markdown",
   "metadata": {
    "id": "coqT9KEXNMVs"
   },
   "source": [
    "\n",
    "#### **(a)** en el marco de reposo de un observador en la Tierra y"
   ]
  },
  {
   "cell_type": "markdown",
   "metadata": {
    "id": "2YQB6eO9FLPI"
   },
   "source": [
    "Dado que está en línea recta entonces solo tenemos una dimensión espacial.\n",
    "\n",
    "Ocuparemos la definción de intervalo $\\tau$:\n",
    "$$\\tau^2 = (\\Delta t)^2 - (\\Delta x)^2$$\n",
    "\n",
    "Y tomando la Tierra como una posición inicial $0$ y también a tiempo inicial $0$\n",
    "$$\\Rightarrow \\Delta x = x-0 = x \\,\\,\\,\\text{ y }\\,\\,\\, \\Delta t = t - 0$$\n",
    "entonces para la velocidad simplemente\n",
    "$$v = \\frac{\\Delta x}{\\Delta t} = \\frac{x}{t} \\Rightarrow t = \\frac{x}{v}$$"
   ]
  },
  {
   "cell_type": "code",
   "execution_count": null,
   "metadata": {
    "colab": {
     "base_uri": "https://localhost:8080/"
    },
    "id": "H_2Z97hxCjpw",
    "outputId": "1e79cd28-1b6f-4f42-fdf6-ae0bed851844"
   },
   "outputs": [
    {
     "name": "stdout",
     "output_type": "stream",
     "text": [
      "Por favor ingrese la distancia en años luz a la que se encuentra el otro plantea: 2500000\n",
      "Por favor ingrese la velocidad en fracción de la velocidad de la luz a la que viaja la nave: 0.9960\n",
      "Desde la tierra, pasaron  2510040.1606425704  años para que la nave llegara al otro planeta.\n"
     ]
    }
   ],
   "source": [
    "# Le solicitamos al usuario que ingrese x y v\n",
    "x = float(input(\"Por favor ingrese la distancia en años luz a la que se encuentra el otro plantea: \"))\n",
    "v = float(input(\"Por favor ingrese la velocidad en fracción de la velocidad de la luz a la que viaja la nave: \"))\n",
    "\n",
    "# Calculamos e imprimimos el tiempo t\n",
    "t = x/v\n",
    "print(\"Desde la tierra, pasaron \",t,\" años para que la nave llegara al otro planeta.\")"
   ]
  },
  {
   "cell_type": "markdown",
   "metadata": {
    "id": "bf48xHfdLwUD"
   },
   "source": [
    "#### **(c)** cómo lo percibiría un pasajero a bordo de la nave."
   ]
  },
  {
   "cell_type": "markdown",
   "metadata": {
    "id": "C-21weuLL-OH"
   },
   "source": [
    "De igual manera, tomando en la nave una posición inicial $0$ y tiempo inicial $0$\n",
    "\n",
    "$$\\Delta x' = x' \\,\\,\\,\\text{ y }\\,\\,\\, \\Delta t' = t'$$\n",
    "\n",
    "pero como el sistema de referencia de la nave no cambia (pues uno dentro de la nave sigue estando dentro de la nave a pesar de que se mueva), entonces\n",
    "\n",
    "$$\\Delta x' = 0$$\n",
    "$$\\Rightarrow \\tau'^2 = (\\Delta t')^2-0 = t'^2$$\n",
    "\n",
    "y sabemos que ante el mismo evento, el intervalo es invariante para todos los sistemas, entonces\n",
    "\n",
    "$$t^2-x^2 = \\tau^2 = \\tau'^2 = t'^2$$\n",
    "$$\\Rightarrow t' = \\sqrt{t^2-x^2}$$"
   ]
  },
  {
   "cell_type": "code",
   "execution_count": null,
   "metadata": {
    "colab": {
     "base_uri": "https://localhost:8080/"
    },
    "id": "53LOSJHPQDTp",
    "outputId": "f349fa10-0848-4271-ffb6-d0b3aa1b584c"
   },
   "outputs": [
    {
     "name": "stdout",
     "output_type": "stream",
     "text": [
      "El tiempo transcurrido en el sistema de la nave fue de  224280.19983623183  años\n"
     ]
    }
   ],
   "source": [
    "# Calculamos el tiempo T ya tomando en cuenta las variables x y t del inciso anterior\n",
    "T = mt.sqrt((t**2)-(x**2))\n",
    "print(\"El tiempo transcurrido en el sistema de la nave fue de \",T,\" años\")"
   ]
  },
  {
   "cell_type": "markdown",
   "metadata": {
    "id": "2TwfhUrbCjpx"
   },
   "source": [
    "#### Usa tu programa para calcular las respuestas para un planeta a 10 años luz de distancia con $v = 0.99\\,c$"
   ]
  },
  {
   "cell_type": "code",
   "execution_count": null,
   "metadata": {
    "colab": {
     "base_uri": "https://localhost:8080/"
    },
    "id": "ZwjGJS3YCjpy",
    "outputId": "18ec1e80-f09b-4a6b-96ed-5feb2467d1de"
   },
   "outputs": [
    {
     "name": "stdout",
     "output_type": "stream",
     "text": [
      "Desde la tierra, pasaron  10.1010101010101  años para que la nave llegara al otro planeta.\n",
      "El tiempo transcurrido en el sistema de la nave fue de  1.4249228262288722  años\n"
     ]
    }
   ],
   "source": [
    "# En el sistema Tierra\n",
    "x = 10\n",
    "v = 0.99\n",
    "t = x/v\n",
    "\n",
    "print(\"Desde la tierra, pasaron \",t,\" años para que la nave llegara al otro planeta.\")\n",
    "\n",
    "# En el sistema nave\n",
    "T = mt.sqrt((t**2)-(x**2))\n",
    "print(\"El tiempo transcurrido en el sistema de la nave fue de \",T,\" años\")"
   ]
  },
  {
   "cell_type": "markdown",
   "metadata": {
    "id": "mryJ9f_GCjpy"
   },
   "source": [
    "#### **3. Órbitas planetarias**: En el espacio, la órbita de un cuerpo alrededor de otro (como un planeta alrededor del Sol), no necesariamente es circular. En general, toma la forma de una elipse, con el cuerpo a veces más cerca y otras más lejos. Si tenemos la distancia $\\ell_1$ de máxima aproximación de un planeta al Sol (su $\\textit{perihelio}$), y su velocidad lineal $v_1$ en el perihelio, entonces cualquier otra propiedad de la órbita se puede calcular a partir de estas dos cantidades de la siguiente manera:"
   ]
  },
  {
   "cell_type": "markdown",
   "metadata": {
    "id": "alMLo8XuNY2x"
   },
   "source": [
    "#### **(a)** La segunda ley de Kepler nos dice que la distancia $\\ell_2$ y la velocidad $v_2$ del planeta en su punto más distante, o $\\textit{afelio}$, satisfacen que $\\ell_2 v_2 = \\ell_1 v_1$.  Al mismo tiempo, la energía total, cinética más la gravitatoria, de un planeta con velocidad $v$ y distancia $r$ del Sol está dada por:\n",
    "\n",
    "<h3 align=\"center\">$E = \\frac{1}{2} m v^2 - G {mM\\over r}$,</h3>\n",
    "       \n",
    "#### donde $m$ es la masa del planeta, $M=1.9891\\times10^{30}\\,kg$ es la masa del Sol y $G=6.6738\\times10^{-11}\\,m^3\\,kg^{-1}\\,s^{-2}$ es la constante gravitatoria de Newton. Dado que la energía debe conservarse, demuestre que $v_2$ es la raíz más pequeña de la ecuación cuadrática:\n",
    "\n",
    "<h3 align=\"center\">$v_2^2 - {2GM\\over v_1\\ell_1} v_2 - \\biggl[ v_1^2 - {2GM\\over\\ell_1} \\biggr] = 0$.</h3>\n",
    "\n",
    "#### Una vez que tenemos $v_2$ podemos calcular $\\ell_2$  usando la relación $\\ell_2 = \\ell_1 v_1/v_2$."
   ]
  },
  {
   "cell_type": "code",
   "execution_count": null,
   "metadata": {
    "id": "4Rb2aIsUCjpz"
   },
   "outputs": [],
   "source": []
  },
  {
   "cell_type": "markdown",
   "metadata": {
    "id": "StniBsLeCjpz"
   },
   "source": [
    "#### **(b)**  Dados los valores de $v_1$, $\\ell_1$, y $\\ell_2$; otros parámetros de la órbita se obtienen mediante fórmulas simples que pueden derivarse de las leyes de Kepler y del hecho de que la órbita es una elipse:\n",
    "\n",
    "<h4 align=\"center\"><b>Semieje mayor</b>: $\\; \\; \\; a = \\frac{1}{2}(\\ell_1+\\ell_2),$</h3>\n",
    "\n",
    "<h4 align=\"center\"><b>Semieje menor</b>: $\\; \\; b = \\sqrt{\\ell_1\\ell_2},$</h3>\n",
    "\n",
    "<h4 align=\"center\"><b>Período orbital</b>: $\\; \\; T = {2\\pi ab\\over\\ell_1 v_1},$</h3>\n",
    "\n",
    "<h4 align=\"center\"><b>Excentricidad orbital</b>: $\\; \\; e = {\\ell_2-\\ell_1\\over\\ell_2+\\ell_1},$</h3>\n",
    "\n",
    "#### Escribe un programa que le pida al usuario que ingrese la distancia al Sol y la velocidad en el perihelio; para que calcule e imprima las cantidades $\\ell_2$, $v_2$, $T$ y $e$.\n"
   ]
  },
  {
   "cell_type": "code",
   "execution_count": null,
   "metadata": {
    "colab": {
     "base_uri": "https://localhost:8080/"
    },
    "id": "k93rb7UVCjpz",
    "outputId": "7336dd5c-8747-4eff-80ea-428b1a374325"
   },
   "outputs": [
    {
     "name": "stdout",
     "output_type": "stream",
     "text": [
      "Por favor ingrese en metros la distancia al Sol en el perihelio: 13000\n",
      "Por favor ingrese en metros por segundo la velocidad en el perihelio: 35000\n",
      "La velocidad en el afelio (v2) es:  35000.0  m/s.\n",
      "La distancia al afelio (l2) es de:  13000.0  m.\n",
      "El periodo orbital (T) es de:  2.3337545426667035  s.\n",
      "La excentricidad orbital (e) es de:  0.0  m.\n"
     ]
    }
   ],
   "source": [
    "# Le solicitamos al usuario que ingrese l1 y v1\n",
    "l1 = float(input(\"Por favor ingrese en metros la distancia al Sol en el perihelio: \"))\n",
    "v1 = float(input(\"Por favor ingrese en metros por segundo la velocidad en el perihelio: \"))\n",
    "\n",
    "# Definamos las constantes\n",
    "M = 1.9891*(10**(30))\n",
    "G = 6.6738*(10**(-11))\n",
    "\n",
    "# Resolvemos v2\n",
    "a = 1\n",
    "b = -(2*G*M)/(v1*l1)\n",
    "c = -(v1**2)+(2*G*M)/(l1)\n",
    "\n",
    "v2 = (-b-((b**2)-(4*a*c))**(1/2)) / (2*a)\n",
    "print(\"La velocidad en el afelio (v2) es: \",v2,\" m/s.\")\n",
    "\n",
    "# Calculamos l2\n",
    "l2 = (l1*v1)/v2\n",
    "print(\"La distancia al afelio (l2) es de: \",l2,\" m.\")\n",
    "\n",
    "# Calculamos T\n",
    "A = (1/2)*(l1+l2)\n",
    "B = (l1*l2)**(1/2)\n",
    "T = (2*mt.pi*A*B)/(l1*v1)\n",
    "print(\"El periodo orbital (T) es de: \",T,\" s.\")\n",
    "\n",
    "# Calculamos e\n",
    "e = (l2-l1)/(l2+l1)\n",
    "print(\"La excentricidad orbital (e) es de: \",e,\" m.\")"
   ]
  },
  {
   "cell_type": "markdown",
   "metadata": {
    "id": "eSFHmNQ8Cjpz"
   },
   "source": [
    "#### **(c)** Prueba tu programa haciendo que calcule las propiedades de las órbitas de la Tierra (para las cuales $\\ell_1=1.4710\\times10^{11}\\,m$ y $v_1=3.0287\\times10^4\\,ms^{-1}$)  y del cometa Halley ($\\ell_1=8.7830\\times10^{10}\\,m$ y $v_1=5.4529\\times10^4\\,m\\,s^{-1}$). Entre otras cosas, deberías encontrar que el período orbitar que el período orbital de la Tierra es de un año ($31.536\\times10^6$ segundos) y el del cometa Halley es de unos 76 años ($2.396736\\times10^9$ segundos)."
   ]
  },
  {
   "cell_type": "markdown",
   "metadata": {
    "id": "w-iJUOB2cuTg"
   },
   "source": [
    "Para la Tierra:"
   ]
  },
  {
   "cell_type": "code",
   "execution_count": null,
   "metadata": {
    "colab": {
     "base_uri": "https://localhost:8080/"
    },
    "id": "fp-l1pDtCjp6",
    "outputId": "0e371fdf-f910-4f1e-fd88-3875ece94697"
   },
   "outputs": [
    {
     "name": "stdout",
     "output_type": "stream",
     "text": [
      "La velocidad en el afelio (v2) es:  29305.399177261148  m/s.\n",
      "La distancia al afelio (l2) es de:  152027197208.66058  m.\n",
      "El periodo orbital (T) es de:  31543060.20788706  s.\n",
      "La excentricidad orbital (e) es de:  0.016471913134744297  m.\n"
     ]
    }
   ],
   "source": [
    "l1 = 1.4710*(10**11)\n",
    "v1 = 3.0287*(10**4)\n",
    "\n",
    "# Definamos las constantes\n",
    "M = 1.9891*(10**(30))\n",
    "G = 6.6738*(10**(-11))\n",
    "\n",
    "# Resolvemos v2\n",
    "a = 1\n",
    "b = -(2*G*M)/(v1*l1)\n",
    "c = -(v1**2)-(2*G*M)/(l1)\n",
    "a = 1\n",
    "b = -(2*G*M)/(v1*l1)\n",
    "c = -(v1**2)+(2*G*M)/(l1)\n",
    "\n",
    "v2 = (-b-((b**2)-(4*a*c))**(1/2)) / (2*a)\n",
    "print(\"La velocidad en el afelio (v2) es: \",v2,\" m/s.\")\n",
    "\n",
    "# Calculamos l2\n",
    "l2 = (l1*v1)/v2\n",
    "print(\"La distancia al afelio (l2) es de: \",l2,\" m.\")\n",
    "\n",
    "# Calculamos T\n",
    "A = (1/2)*(l1+l2)\n",
    "B = (l1*l2)**(1/2)\n",
    "T = (2*mt.pi*A*B)/(l1*v1)\n",
    "print(\"El periodo orbital (T) es de: \",T,\" s.\")\n",
    "\n",
    "# Calculamos e\n",
    "e = (l2-l1)/(l2+l1)\n",
    "print(\"La excentricidad orbital (e) es de: \",e,\" m.\")"
   ]
  },
  {
   "cell_type": "markdown",
   "metadata": {
    "id": "JKa2RoX5cwUn"
   },
   "source": [
    "Para el cometa Halley:"
   ]
  },
  {
   "cell_type": "code",
   "execution_count": null,
   "metadata": {
    "colab": {
     "base_uri": "https://localhost:8080/"
    },
    "id": "K98ZOXw_eb-a",
    "outputId": "5f378449-3a48-4854-f626-ad6fe66c2aa3"
   },
   "outputs": [
    {
     "name": "stdout",
     "output_type": "stream",
     "text": [
      "La velocidad en el afelio (v2) es:  906.6806969191493  m/s.\n",
      "La distancia al afelio (l2) es de:  5282214660876.441  m.\n",
      "El periodo orbital (T) es de:  2399312511.8451877  s.\n",
      "La excentricidad orbital (e) es de:  0.9672889126454061  m.\n"
     ]
    }
   ],
   "source": [
    "l1 = 8.7830*(10**10)\n",
    "v1 = 5.4529*(10**4)\n",
    "\n",
    "# Definamos las constantes\n",
    "M = 1.9891*(10**(30))\n",
    "G = 6.6738*(10**(-11))\n",
    "\n",
    "# Resolvemos v2\n",
    "a = 1\n",
    "b = -(2*G*M)/(v1*l1)\n",
    "c = -(v1**2)-(2*G*M)/(l1)\n",
    "a = 1\n",
    "b = -(2*G*M)/(v1*l1)\n",
    "c = -(v1**2)+(2*G*M)/(l1)\n",
    "\n",
    "v2 = (-b-((b**2)-(4*a*c))**(1/2)) / (2*a)\n",
    "print(\"La velocidad en el afelio (v2) es: \",v2,\" m/s.\")\n",
    "\n",
    "# Calculamos l2\n",
    "l2 = (l1*v1)/v2\n",
    "print(\"La distancia al afelio (l2) es de: \",l2,\" m.\")\n",
    "\n",
    "# Calculamos T\n",
    "A = (1/2)*(l1+l2)\n",
    "B = (l1*l2)**(1/2)\n",
    "T = (2*mt.pi*A*B)/(l1*v1)\n",
    "print(\"El periodo orbital (T) es de: \",T,\" s.\")\n",
    "\n",
    "# Calculamos e\n",
    "e = (l2-l1)/(l2+l1)\n",
    "print(\"La excentricidad orbital (e) es de: \",e,\" m.\")"
   ]
  },
  {
   "cell_type": "markdown",
   "metadata": {
    "id": "SSGdJ_MLIkqu"
   },
   "source": [
    "#### **4. La fórmula semiempírica de la masa (FSM)**: En fíısica nuclear, la **fórmula de Weizsäcker** (conocida también como fórmula semiempírica) sirve para evaluar la masa y otras propiedades de un núcleo atómico; está basada parcialmente en mediciones empíricas.\n",
    "\n",
    "#### En particular, la fórmula se usa para calcular la ***energía de enlace nuclear aproximada $B$***, de un núcleo atómico con número atómico $Z$ y un número de masa $A$:\n",
    "\n",
    "$$B = a_1A - a_2A^{2/3} - a_3\\frac{Z^2}{A^{1/3}} - a_4\\frac{(A-2Z)^2}{A} + \\frac{a_5}{A^{1/2}}$$\n",
    "\n",
    "#### donde, en unidades de millones de electrón-volts, las constantes son $a_1 = 15.8$, $a_2 = 18.3$, $a_3 = 0.714$, $a_4 = 23.2$ y\n",
    "\n",
    "$$a_5 =\n",
    "\\begin{cases}\n",
    "  0 & \\text{si $A$ es impar}\\\\\n",
    "  12.0 & \\text{si $A$ y $Z$ son pares}\\\\\n",
    "  -12.0 & \\text{si $A$ es par y $Z$ es impar}\\\\\n",
    "\\end{cases}$$"
   ]
  },
  {
   "cell_type": "markdown",
   "metadata": {
    "id": "hFB0EpfZNlkx"
   },
   "source": [
    "#### **(a)** Escribe un programa que tome como entrada los valores de $A$ y $Z$, e imprima la energía de enlace $B$ para el átomo correspondiente. Usa tu programa para encontrar la energía de un átomo con $A = 58$ y $Z = 28$ (Hint: la respuesta correcta es alrededor de los $490\\,MeV$)."
   ]
  },
  {
   "cell_type": "code",
   "execution_count": 12,
   "metadata": {
    "colab": {
     "base_uri": "https://localhost:8080/"
    },
    "id": "Auire71wPBA-",
    "outputId": "32000e68-6b26-4e71-df9c-05ab61465f1a"
   },
   "outputs": [
    {
     "name": "stdin",
     "output_type": "stream",
     "text": [
      "Por favor ingrese el número de masa del átomo:  58\n",
      "Por favor ingrese el número atómico del átomo:  28\n"
     ]
    },
    {
     "name": "stdout",
     "output_type": "stream",
     "text": [
      "La energía de enlace nuclear aproximada es: 497.5620206224374 MeV.\n"
     ]
    }
   ],
   "source": [
    "# Definimos las constantes dadas\n",
    "a1 = 15.8\n",
    "a2 = 18.3\n",
    "a3 = 0.714\n",
    "a4 = 23.2\n",
    "\n",
    "# Le solicitamos al usuario los valores A y Z\n",
    "A = int(input(\"Por favor ingrese el número de masa del átomo: \"))\n",
    "Z = int(input(\"Por favor ingrese el número atómico del átomo: \"))\n",
    "\n",
    "# Definimos a B como una función\n",
    "def B(A,Z):\n",
    "  return a1*A - a2*(A**(2/3)) - a3*((Z**2)/(A**(1/3))) - a4*(((A-2*Z)**2)/(A)) + a5/(A**(1/2))\n",
    "\n",
    "# Definimos los casos\n",
    "if A%2 == 1: # A impar\n",
    "  a5 = 0\n",
    "elif A%2 == 0 and Z%2 == 0: # A y Z pares\n",
    "  a5 = 12.0\n",
    "elif A%2 == 0 and Z%2 == 1: # A par y Z impar\n",
    "  a5 = -12.0\n",
    "\n",
    "print(\"La energía de enlace nuclear aproximada es:\",B(A,Z),\"MeV.\") # La función se evalúa directamente en el print"
   ]
  },
  {
   "cell_type": "markdown",
   "metadata": {
    "id": "6hkS33XFPAVV"
   },
   "source": [
    "#### **(b)** Modifica el programa del inciso anterior para escribir una segunda versión que no imprima la energía de enlace total $B$, sino la energía de unión por nucleón, que es $B/A$."
   ]
  },
  {
   "cell_type": "code",
   "execution_count": 13,
   "metadata": {
    "colab": {
     "base_uri": "https://localhost:8080/"
    },
    "id": "nUk2-aVCPBTs",
    "outputId": "398784a4-1b60-4693-d6ef-79590b97edb9"
   },
   "outputs": [
    {
     "name": "stdin",
     "output_type": "stream",
     "text": [
      "Por favor ingrese el número de masa del átomo:  58\n",
      "Por favor ingrese el número atómico del átomo:  28\n"
     ]
    },
    {
     "name": "stdout",
     "output_type": "stream",
     "text": [
      "La energía de unión por nucleón es: 8.578655527973059 MeV.\n"
     ]
    }
   ],
   "source": [
    "# Definimos las constantes dadas\n",
    "a1 = 15.8\n",
    "a2 = 18.3\n",
    "a3 = 0.714\n",
    "a4 = 23.2\n",
    "\n",
    "# Le solicitamos al usuario los valores A y Z\n",
    "A = float(input(\"Por favor ingrese el número de masa del átomo: \"))\n",
    "Z = float(input(\"Por favor ingrese el número atómico del átomo: \"))\n",
    "\n",
    "# Definimos a B como una función\n",
    "def B(A,Z):\n",
    "  return a1*A - a2*(A**(2/3)) - a3*((Z**2)/(A**(1/3))) - a4*(((A-2*Z)**2)/(A)) + a5/(A**(1/2))\n",
    "\n",
    "# Definimos los casos\n",
    "if A%2 == 1: # A impar\n",
    "  a5 = 0\n",
    "elif A%2 == 0 and Z%2 == 0: # A y Z pares\n",
    "  a5 = 12.0\n",
    "elif A%2 == 0 and Z%2 == 1: # A par y Z impar\n",
    "  a5 = -12.0\n",
    "\n",
    "N = B(A,Z)/A\n",
    "print(\"La energía de unión por nucleón es:\",N,\"MeV.\")"
   ]
  },
  {
   "cell_type": "markdown",
   "metadata": {
    "id": "Na2_ijVXPZra"
   },
   "source": [
    "#### **(c)** Escribe una tercera versión del programa para que tome como entrada solo un valor del número atómico $Z$ y luego pase por todos los valores de $A$ desde $A = Z$ hasta $A = 3Z$, para encontrar el que tiene la mayor energía de enlace por nucleón. Este es el núcleo más estable con el número atómico dado. Haz que tu programa imprima el valor de $A$ para este núcleo más estable y el valor de la energía de enlace por nucleón."
   ]
  },
  {
   "cell_type": "code",
   "execution_count": 30,
   "metadata": {
    "colab": {
     "base_uri": "https://localhost:8080/"
    },
    "id": "1YGPwxq9qvdG",
    "outputId": "2a9fc238-d74c-4fe7-c1b7-ce0eff188e24"
   },
   "outputs": [
    {
     "name": "stdin",
     "output_type": "stream",
     "text": [
      "Por favor ingrese el número atómico del átomo: 28\n"
     ]
    },
    {
     "name": "stdout",
     "output_type": "stream",
     "text": [
      "La energía de unión por nucleón es: 8.70245768367189 MeV, que es el núcleo más estable con el número de masa: 60\n"
     ]
    }
   ],
   "source": [
    "# Definimos las constantes dadas\n",
    "a1 = 15.8\n",
    "a2 = 18.3\n",
    "a3 = 0.714\n",
    "a4 = 23.2\n",
    "\n",
    "# Le solicitamos al usuario el valor Z\n",
    "Z = int(input(\"Por favor ingrese el número atómico del átomo:\"))\n",
    "\n",
    "Energias = []\n",
    "\n",
    "def N(Z):\n",
    "  for A in range(Z,3*Z+1): # Configuramos el rango de A\n",
    "#Configuramos los casos\n",
    "      if A%2 == 1: # A impar\n",
    "        a5 = 0\n",
    "      elif A%2 == 0 and Z%2 == 0: # A y Z pares\n",
    "        a5 = 12.0\n",
    "      elif A%2 == 0 and Z%2 == 1: # A par y Z impar\n",
    "        a5 = -12.0\n",
    "      B = a1*A - a2*(A**(2/3)) - a3*((Z**2)/(A**(1/3))) - a4*(((A-2*Z)**2)/(A)) + a5/(A**(1/2))\n",
    "      Energias.append(B/A)\n",
    "      \n",
    "  maximo = max(Energias)  \n",
    "  return maximo\n",
    "\n",
    "print(\"La energía de unión por nucleón es:\",N(Z),\"MeV, que es el núcleo más estable con el número de masa:\",A)"
   ]
  },
  {
   "cell_type": "code",
   "execution_count": 26,
   "metadata": {},
   "outputs": [
    {
     "data": {
      "text/plain": [
       "8.70245768367189"
      ]
     },
     "execution_count": 26,
     "metadata": {},
     "output_type": "execute_result"
    }
   ],
   "source": [
    "def N(Z):\n",
    "  for A in range(Z,3*Z+1): # Configuramos el rango de A\n",
    "#Configuramos los casos\n",
    "      if A%2 == 1: # A impar\n",
    "        a5 = 0\n",
    "      elif A%2 == 0 and Z%2 == 0: # A y Z pares\n",
    "        a5 = 12.0\n",
    "      elif A%2 == 0 and Z%2 == 1: # A par y Z impar\n",
    "        a5 = -12.0\n",
    "      B = a1*A - a2*(A**(2/3)) - a3*((Z**2)/(A**(1/3))) - a4*(((A-2*Z)**2)/(A)) + a5/(A**(1/2))\n",
    "      Energias.append(B/A)\n",
    "      \n",
    "  maximo = max(Energias)  \n",
    "  return maximo"
   ]
  },
  {
   "cell_type": "markdown",
   "metadata": {
    "id": "6pfW-iEwP1nf"
   },
   "source": [
    "#### **(d)** Finalmente, escribe una cuarta versión del programa que, en lugar de tomar $Z$ como entrada, se ejecute a través de todos los valores de $Z$ de $1$ a $100$ e imprima el valor más estable de $A$ para cada uno. ¿A qué valor de $Z$ se produce la energía de enlace máxima por nucleón? (La respuesta correcta, en la vida real, es $Z = 28$, que corresponde al Níquel)."
   ]
  },
  {
   "cell_type": "code",
   "execution_count": 5,
   "metadata": {
    "colab": {
     "base_uri": "https://localhost:8080/"
    },
    "id": "IKnYVlvlP5y9",
    "outputId": "400ffb68-da4b-4ae8-8f7a-e0004a0f2261"
   },
   "outputs": [
    {
     "name": "stdout",
     "output_type": "stream",
     "text": [
      "La energía de unión por nucleón es: 0.36869091831015827 MeV, que es el el núcleo más estable con el número de masa: 3\n",
      "La energía de unión por nucleón es: 5.321930578649441 MeV, que es el el núcleo más estable con el número de masa: 4\n",
      "La energía de unión por nucleón es: 5.280168164356119 MeV, que es el el núcleo más estable con el número de masa: 7\n",
      "La energía de unión por nucleón es: 6.466330085889912 MeV, que es el el núcleo más estable con el número de masa: 8\n",
      "La energía de unión por nucleón es: 6.650123444727665 MeV, que es el el núcleo más estable con el número de masa: 11\n",
      "La energía de unión por nucleón es: 7.159809204525104 MeV, que es el el núcleo más estable con el número de masa: 12\n",
      "La energía de unión por nucleón es: 7.330860591990981 MeV, que es el el núcleo más estable con el número de masa: 15\n",
      "La energía de unión por nucleón es: 7.591735836140193 MeV, que es el el núcleo más estable con el número de masa: 16\n",
      "La energía de unión por nucleón es: 7.73697768275634 MeV, que es el el núcleo más estable con el número de masa: 19\n",
      "La energía de unión por nucleón es: 8.035350864715019 MeV, que es el el núcleo más estable con el número de masa: 22\n",
      "La energía de unión por nucleón es: 8.000414926877136 MeV, que es el el núcleo más estable con el número de masa: 23\n",
      "La energía de unión por nucleón es: 8.241172535624845 MeV, que es el el núcleo más estable con el número de masa: 26\n",
      "La energía de unión por nucleón es: 8.178471879286697 MeV, que es el el núcleo más estable con el número de masa: 27\n",
      "La energía de unión por nucleón es: 8.37916169002579 MeV, que es el el núcleo más estable con el número de masa: 30\n",
      "La energía de unión por nucleón es: 8.30071915096436 MeV, que es el el núcleo más estable con el número de masa: 31\n",
      "La energía de unión por nucleón es: 8.471969050688719 MeV, que es el el núcleo más estable con el número de masa: 34\n",
      "La energía de unión por nucleón es: 8.48201495174352 MeV, que es el el núcleo más estable con el número de masa: 37\n",
      "La energía de unión por nucleón es: 8.532955978183304 MeV, que es el el núcleo más estable con el número de masa: 38\n",
      "La energía de unión por nucleón es: 8.54552895604815 MeV, que es el el núcleo más estable con el número de masa: 41\n",
      "La energía de unión por nucleón es: 8.570590699224086 MeV, que es el el núcleo más estable con el número de masa: 42\n",
      "La energía de unión por nucleón es: 8.584727281998418 MeV, que es el el núcleo más estable con el número de masa: 45\n",
      "La energía de unión por nucleón es: 8.6585154571142 MeV, que es el el núcleo más estable con el número de masa: 48\n",
      "La energía de unión por nucleón es: 8.605598984429156 MeV, que es el el núcleo más estable con el número de masa: 49\n",
      "La energía de unión por nucleón es: 8.672930194652364 MeV, que es el el núcleo más estable con el número de masa: 52\n",
      "La energía de unión por nucleón es: 8.662703971015583 MeV, que es el el núcleo más estable con el número de masa: 55\n",
      "La energía de unión por nucleón es: 8.674207042686959 MeV, que es el el núcleo más estable con el número de masa: 56\n",
      "La energía de unión por nucleón es: 8.666476366805904 MeV, que es el el núcleo más estable con el número de masa: 59\n",
      "La energía de unión por nucleón es: 8.665101080109968 MeV, que es el el núcleo más estable con el número de masa: 60\n",
      "La energía de unión por nucleón es: 8.659413289622034 MeV, que es el el núcleo más estable con el número de masa: 63\n",
      "La energía de unión por nucleón es: 8.693080151418458 MeV, que es el el núcleo más estable con el número de masa: 66\n",
      "La energía de unión por nucleón es: 8.643646079116468 MeV, que es el el núcleo más estable con el número de masa: 67\n",
      "La energía de unión por nucleón es: 8.67532332430527 MeV, que es el el núcleo más estable con el número de masa: 70\n",
      "La energía de unión por nucleón es: 8.659429636902608 MeV, que es el el núcleo más estable con el número de masa: 73\n",
      "La energía de unión por nucleón es: 8.650733593173674 MeV, que es el el núcleo más estable con el número de masa: 74\n",
      "La energía de unión por nucleón es: 8.636742603165434 MeV, que es el el núcleo más estable con el número de masa: 77\n",
      "La energía de unión por nucleón es: 8.65330024104394 MeV, que es el el núcleo más estable con el número de masa: 80\n",
      "La energía de unión por nucleón es: 8.608188510007954 MeV, que es el el núcleo más estable con el número de masa: 81\n",
      "La energía de unión por nucleón es: 8.624024429919297 MeV, que es el el núcleo más estable con el número de masa: 84\n",
      "La energía de unión por nucleón es: 8.604678589500061 MeV, que es el el núcleo más estable con el número de masa: 87\n",
      "La energía de unión por nucleón es: 8.58995505205781 MeV, que es el el núcleo más estable con el número de masa: 88\n",
      "La energía de unión por nucleón es: 8.572227277365572 MeV, que es el el núcleo más estable con el número de masa: 91\n",
      "La energía de unión por nucleón es: 8.578966972580249 MeV, que es el el núcleo más estable con el número de masa: 94\n",
      "La energía de unión por nucleón es: 8.535591288427613 MeV, que es el el núcleo más estable con el número de masa: 95\n",
      "La energía de unión por nucleón es: 8.542153241237958 MeV, que es el el núcleo más estable con el número de masa: 98\n",
      "La energía de unión por nucleón es: 8.521315491681476 MeV, que es el el núcleo más estable con el número de masa: 101\n",
      "La energía de unión por nucleón es: 8.52190244548312 MeV, que es el el núcleo más estable con el número de masa: 104\n",
      "La energía de unión por nucleón es: 8.482351676479702 MeV, que es el el núcleo más estable con el número de masa: 105\n",
      "La energía de unión por nucleón es: 8.482993144386093 MeV, que es el el núcleo más estable con el número de masa: 108\n",
      "La energía de unión por nucleón es: 8.460346747349757 MeV, que es el el núcleo más estable con el número de masa: 111\n",
      "La energía de unión por nucleón es: 8.441001033740243 MeV, que es el el núcleo más estable con el número de masa: 112\n",
      "La energía de unión por nucleón es: 8.419588529312245 MeV, que es el el núcleo más estable con el número de masa: 115\n",
      "La energía de unión por nucleón es: 8.416035963623207 MeV, que es el el núcleo más estable con el número de masa: 118\n",
      "La energía de unión por nucleón es: 8.392353972786431 MeV, que es el el núcleo más estable con el número de masa: 121\n",
      "La energía de unión por nucleón es: 8.372733943466079 MeV, que es el el núcleo más estable con el número de masa: 122\n",
      "La energía de unión por nucleón es: 8.35016 MeV, que es el el núcleo más estable con el número de masa: 125\n",
      "La energía de unión por nucleón es: 8.343555675954809 MeV, que es el el núcleo más estable con el número de masa: 128\n",
      "La energía de unión por nucleón es: 8.305541631949579 MeV, que es el el núcleo más estable con el número de masa: 129\n",
      "La energía de unión por nucleón es: 8.299190430501124 MeV, que es el el núcleo más estable con el número de masa: 132\n",
      "La energía de unión por nucleón es: 8.275942368795052 MeV, que es el el núcleo más estable con el número de masa: 135\n",
      "La energía de unión por nucleón es: 8.267069604054692 MeV, que es el el núcleo más estable con el número de masa: 138\n",
      "La energía de unión por nucleón es: 8.230412399505864 MeV, que es el el núcleo más estable con el número de masa: 139\n",
      "La energía de unión por nucleón es: 8.221823238580411 MeV, que es el el núcleo más estable con el número de masa: 142\n",
      "La energía de unión por nucleón es: 8.198215472390578 MeV, que es el el núcleo más estable con el número de masa: 145\n",
      "La energía de unión por nucleón es: 8.187627658516057 MeV, que es el el núcleo más estable con el número de masa: 148\n",
      "La energía de unión por nucleón es: 8.151932406372259 MeV, que es el el núcleo más estable con el número de masa: 149\n",
      "La energía de unión por nucleón es: 8.141641275054846 MeV, que es el el núcleo más estable con el número de masa: 152\n",
      "La energía de unión por nucleón es: 8.117880674583919 MeV, que es el el núcleo más estable con el número de masa: 155\n",
      "La energía de unión por nucleón es: 8.105978684600723 MeV, que es el el núcleo más estable con el número de masa: 158\n",
      "La energía de unión por nucleón es: 8.081472272582669 MeV, que es el el núcleo más estable con el número de masa: 161\n",
      "La energía de unión por nucleón es: 8.059365542952085 MeV, que es el el núcleo más estable con el número de masa: 162\n",
      "La energía de unión por nucleón es: 8.03559010356707 MeV, que es el el núcleo más estable con el número de masa: 165\n",
      "La energía de unión por nucleón es: 8.022670578846677 MeV, que es el el núcleo más estable con el número de masa: 168\n",
      "La energía de unión por nucleón es: 7.9983072454081805 MeV, que es el el núcleo más estable con el número de masa: 171\n",
      "La energía de unión por nucleón es: 7.975523935560172 MeV, que es el el núcleo más estable con el número de masa: 172\n",
      "La energía de unión por nucleón es: 7.951826447698214 MeV, que es el el núcleo más estable con el número de masa: 175\n",
      "La energía de unión por nucleón es: 7.938112945885846 MeV, que es el el núcleo más estable con el número de masa: 178\n",
      "La energía de unión por nucleón es: 7.91394655194119 MeV, que es el el núcleo más estable con el número de masa: 181\n",
      "La energía de unión por nucleón es: 7.899331973008158 MeV, que es el el núcleo más estable con el número de masa: 184\n",
      "La energía de unión por nucleón es: 7.866953984772081 MeV, que es el el núcleo más estable con el número de masa: 185\n",
      "La energía de unión por nucleón es: 7.852617664426655 MeV, que es el el núcleo más estable con el número de masa: 188\n",
      "La energía de unión por nucleón es: 7.828682778121758 MeV, que es el el núcleo más estable con el número de masa: 191\n",
      "La energía de unión por nucleón es: 7.813586770006112 MeV, que es el el núcleo más estable con el número de masa: 194\n",
      "La energía de unión por nucleón es: 7.789379228106415 MeV, que es el el núcleo más estable con el número de masa: 197\n",
      "La energía de unión por nucleón es: 7.766425942153141 MeV, que es el el núcleo más estable con el número de masa: 198\n",
      "La energía de unión por nucleón es: 7.742744008048166 MeV, que es el el núcleo más estable con el número de masa: 201\n",
      "La energía de unión por nucleón es: 7.7272713802269655 MeV, que es el el núcleo más estable con el número de masa: 204\n",
      "La energía de unión por nucleón es: 7.703368516802769 MeV, que es el el núcleo más estable con el número de masa: 207\n",
      "La energía de unión por nucleón es: 7.6873549688882425 MeV, que es el el núcleo más estable con el número de masa: 210\n",
      "La energía de unión por nucleón es: 7.663301624423857 MeV, que es el el núcleo más estable con el número de masa: 213\n",
      "La energía de unión por nucleón es: 7.640543969630571 MeV, que es el el núcleo más estable con el número de masa: 214\n",
      "La energía de unión por nucleón es: 7.616947248090869 MeV, que es el el núcleo más estable con el número de masa: 217\n",
      "La energía de unión por nucleón es: 7.6007146715814855 MeV, que es el el núcleo más estable con el número de masa: 220\n",
      "La energía de unión por nucleón es: 7.576996718541589 MeV, que es el el núcleo más estable con el número de masa: 223\n",
      "La energía de unión por nucleón es: 7.56037240865694 MeV, que es el el núcleo más estable con el número de masa: 226\n",
      "La energía de unión por nucleón es: 7.53658178040452 MeV, que es el el núcleo más estable con el número de masa: 229\n",
      "La energía de unión por nucleón es: 7.513840354343117 MeV, que es el el núcleo más estable con el número de masa: 230\n",
      "La energía de unión por nucleón es: 7.4904496961800895 MeV, que es el el núcleo más estable con el número de masa: 233\n",
      "La energía de unión por nucleón es: 7.473709933771018 MeV, que es el el núcleo más estable con el número de masa: 236\n",
      "La energía de unión por nucleón es: 7.450262647444657 MeV, que es el el núcleo más estable con el número de masa: 239\n",
      "La energía de unión por nucleón es: 7.433235621160599 MeV, que es el el núcleo más estable con el número de masa: 242\n"
     ]
    }
   ],
   "source": [
    "# Definimos las constantes dadas\n",
    "a1 = 15.8\n",
    "a2 = 18.3\n",
    "a3 = 0.714\n",
    "a4 = 23.2\n",
    "\n",
    "# Definimos a B como una función\n",
    "def B(A,Z):\n",
    "  return a1*A - a2*(A**(2/3)) - a3*((Z**2)/(A**(1/3))) - a4*(((A-2*Z)**2)/(A)) + a5/(A**(1/2))\n",
    "\n",
    "# Configuramos el rango de Z\n",
    "for Z in range(1,101):\n",
    "# Configuramos el rango de A\n",
    "  for A in range(Z,3*Z+1):\n",
    "#Configuramos los casos\n",
    "    if A == 0: # Para el caso indefinido\n",
    "      print(\"No se pueden tomar una masa 0.\")\n",
    "    elif A%2 == 1: # A impar\n",
    "      a5 = 0\n",
    "    elif A%2 == 0 and Z%2 == 0: # A y Z pares\n",
    "      a5 = 12.0\n",
    "    elif A%2 == 0 and Z%2 == 1: # A par y Z impar\n",
    "      a5 = -12.0\n",
    "\n",
    "    N = B(A,Z)/A\n",
    "\n",
    "# Para ver si hay otra cantidad más grande, analizamos el caso que sigue (A+1)\n",
    "    A1 = A+1\n",
    "    if A1%2 == 1: # A impar\n",
    "      a5 = 0\n",
    "    elif A1%2 == 0 and Z%2 == 0: # A y Z pares\n",
    "      a5 = 12.0\n",
    "    elif A1%2 == 0 and Z%2 == 1: # A par y Z impar\n",
    "      a5 = -12.0\n",
    "\n",
    "    N1 = B(A1,Z)/A1\n",
    "    if N<N1:\n",
    "      continue\n",
    "    else:\n",
    "      print(\"La energía de unión por nucleón es:\",N,\"MeV, que es el el núcleo más estable con el número de masa:\",A)\n",
    "      break"
   ]
  },
  {
   "cell_type": "markdown",
   "metadata": {
    "id": "hCi2XuGuP6Kt"
   },
   "source": [
    "### **5. La constante de Madelung**: En física de la materia condensada, *la constante de Madelung* da el potencial eléctrico total que siente un átomo en un sólido; y depende de las cargas de los otros átomos cercanos y de sus ubicaciones. Por ejemplo, el cristal de cloruro de sodio sólido (la sal de mesa) tiene átomos dispuestos en una red cúbica, con átomos de sodio y cloro alternados, teniendo los de sodio una carga positiva $+e$ y los de cloro una negativa $−e$, (donde $e$ es la carga del electrón).\n",
    "\n",
    "### Si etiquetamos cada posicióon en la red con tres coordenadas enteras ($i$, $j$, $k$), entonces los átomos de sodio caen en posiciones donde $i+j+k$ es par, y los átomos de cloro en posiciones donde $i+j+k$ es impar.\n",
    "\n",
    "### Consideremos un átomo de sodio en el origen, i.e., $i=j=k=0$, y calculemos la *constante de Madelung*. Si el espaciado de los átomos en la red es $a$, entonces la distancia desde el origen al átomo en la posición ($i$, $j$, $k$) es:\n",
    "\n",
    "$$\\sqrt{(ia)^2 + (ja)^2 + (ka)^2} = a\\sqrt{i^2 + j^2 + k^2}$$\n",
    "\n",
    "### y el potencial en el origen creado por tal átomo es:\n",
    "\n",
    "$$V(i,j,k) = \\pm\\frac{e}{4\\pi\\epsilon_0a\\sqrt{i^2+j^2+k^2}}$$\n",
    "\n",
    "### siendo $\\epsilon_0$ la permitividad del vacío y el signo de la expresión se toma dependiendo de si $i+j+k$ es par o impar. Así entonces, el potencial total que siente el átomo de sodio es la suma de esta cantidad sobre todos los demás átomos. Supongamos una caja cúbica alrededor del átomo de sodio en el origen, con $L$ átomos en todas las direcciones, entonces:\n",
    "\n",
    "$$V_{total} = \\sum_{\\substack{i,j,k=-L\\\\i,j,k\\neq0}}^{L} V(i,j,k) = \\frac{e}{4\\pi\\epsilon_0a}M$$\n",
    "\n",
    "### donde $M$ es la *constante de Madelung* (al menos aproximadamente). Técnicamente, la *constante de Madelung* es el valor de $M$ cuando $L\\rightarrow \\infty$, pero se puede obtener una buena aproximación simplemente usando un valor grande de $L$.\n",
    "\n",
    "### Escribe un programa para calcular e imprimir la *constante de Madelung* para el cloruro de sodio. Utiliza un valor de $L$ tan grande como puedas, sin dejar que tu programa se ejecute en un tiempo razonable (un minuto o menos)"
   ]
  },
  {
   "cell_type": "code",
   "execution_count": null,
   "metadata": {
    "colab": {
     "base_uri": "https://localhost:8080/"
    },
    "id": "kxXlO6irQwCc",
    "outputId": "9f73f433-14e0-46c3-95c1-44c8a7fc028f"
   },
   "outputs": [
    {
     "name": "stdout",
     "output_type": "stream",
     "text": [
      "La constante de Madelung es: 1.000001e-06\n"
     ]
    }
   ],
   "source": [
    "# Definimos las constanes\n",
    "e = 1.602*(10**(-19))\n",
    "eps0 = 8.854*(10**(-12))\n",
    "a = 1\n",
    "\n",
    "# Definimos la función V en términos de sus coordenadas\n",
    "def V(i,j,k):\n",
    "  return e/(4*mt.pi*eps0*a*((i**2+j**2+k**2)**(1/2)))\n",
    "\n",
    "i = 1\n",
    "j = i\n",
    "k = i\n",
    "\n",
    "L = 1000000\n",
    "A = V(i,j,k)\n",
    "# Calulamos la \"V_total\"\n",
    "for i in range(-L,L):\n",
    "  if (i+j+k)%2 == 0:\n",
    "    V(i,j,k) == V(i,j,k)\n",
    "  if (i+j+k)%2 == 1:\n",
    "    V(i,j,k) == -V(i,j,k)\n",
    "\n",
    "  A ==+ V(i,j,k)\n",
    "\n",
    "# Despejamos M\n",
    "M = (V(i,j,k)*(4*mt.pi*eps0*a))/e\n",
    "print(\"La constante de Madelung es:\",M)"
   ]
  },
  {
   "cell_type": "code",
   "execution_count": null,
   "metadata": {
    "colab": {
     "base_uri": "https://localhost:8080/"
    },
    "id": "jqGZje3bBYAO",
    "outputId": "4cfd2946-8280-48e6-a419-b4a3d222477b"
   },
   "outputs": [
    {
     "name": "stdout",
     "output_type": "stream",
     "text": [
      "La constante de Madelung es: 5.773503269246584e-08\n"
     ]
    }
   ],
   "source": [
    "# Definimos las constanes\n",
    "e = 1.602*(10**(-19))\n",
    "eps0 = 8.854*(10**(-12))\n",
    "a = 1\n",
    "\n",
    "# Definimos la función V en términos de sus coordenadas\n",
    "def V(i):\n",
    "    return (i**2+i**2+i**2)**(-1/2)\n",
    "\n",
    "\n",
    "\n",
    "L = 10000000\n",
    "\n",
    "# Calulamos la \"V_total\"\n",
    "for i in range(-L,L):\n",
    "  if (i+i+i) == 0:\n",
    "    continue\n",
    "  elif (i+i+i)%2 == 0:\n",
    "    V(i) == V(i)\n",
    "    V(i) ==+ V(i)\n",
    "    continue\n",
    "  elif (i+i+i)%2 == 1:\n",
    "    V(i) == -V(i)\n",
    "    V(i) ==+ V(i)\n",
    "    continue\n",
    "\n",
    "# Despejamos M\n",
    "#M = (V(i,j,k)*(4*mt.pi*eps0*a))/e\n",
    "print(\"La constante de Madelung es:\",V(i))"
   ]
  },
  {
   "cell_type": "markdown",
   "metadata": {
    "id": "LLe76PEkUoxI"
   },
   "source": [
    "### **6. Coeficientes binomiales**: El coeficiente binomial $\\scriptstyle \\begin{pmatrix}n\\\\k\\end{pmatrix}$ es un número entero igual a:\n",
    "\n",
    "$$\\begin{pmatrix}n\\\\k\\end{pmatrix} = \\frac{n!}{k!(n-k)!} = \\frac{n\\times(n-1)\\times(n-2)\\times...\\times(n-k+1)}{1\\times2\\times...\\times k}$$\n",
    "\n",
    "### donde $k\\geq1$, o bien $\\scriptstyle \\begin{pmatrix}n\\\\0\\end{pmatrix} = 1$ cuando $k = 0$."
   ]
  },
  {
   "cell_type": "markdown",
   "metadata": {
    "id": "mAAfxhMtWZ5I"
   },
   "source": [
    "#### **(a)** Utiliza esta formula para escribir una función llamada $\\texttt{binomial(n,k)}$ (o como tú quieras) que calcule el coeficiente binomial para un $n$ y $k$ dados. Asegúrate de que tu función devuelva la respuesta en forma de un número entero (no flotante) y proporcione el valor correcto de $1$ para el caso en que $k = 0$."
   ]
  },
  {
   "cell_type": "code",
   "execution_count": 287,
   "metadata": {
    "colab": {
     "base_uri": "https://localhost:8080/"
    },
    "id": "J3ApRqtgW5X9",
    "outputId": "f7332542-edfc-4fcf-93cf-35da22b4cbc2"
   },
   "outputs": [
    {
     "name": "stdout",
     "output_type": "stream",
     "text": [
      "Por favor ingrese el valor de k: 0\n",
      "Por favor ingrese el valor de n: 912484\n",
      "El coeficiente binomial es: 1\n"
     ]
    }
   ],
   "source": [
    "# Le solicitamos al usuario los valores k y n\n",
    "k = int(input(\"Por favor ingrese el valor de k: \"))\n",
    "n = int(input(\"Por favor ingrese el valor de n: \"))\n",
    "\n",
    "# Definimos la función para el coeficiente binomial\n",
    "def binomial(n,k):\n",
    "  K = 1\n",
    "  N = 1\n",
    "  for i in range(1,k+1): # como K=1, entonces, por el rango que empieza en 1, si se introduce k=0 no va a iterar y de inmediato nos dará 1\n",
    "    K *= i\n",
    "  for j in range(n,n-k,-1): # si se introduce k=0 entonces el rango será de n a n, y como N=1 entonces no va a iterar y de inmediato nos dará 1\n",
    "    N *= j\n",
    "  return int(N/K)\n",
    "\n",
    "print(\"El coeficiente binomial es:\",binomial(n,k))"
   ]
  },
  {
   "cell_type": "markdown",
   "metadata": {
    "id": "iWzaEE8oW545"
   },
   "source": [
    "#### **(b)** Usando tu función, escribe un programa que imprima las primeras 20 líneas del “triángulo de Pascal\". La $n$ésima línea del triángulo de Pascal contiene $n+1$ números, que son los coeficientes $\\scriptstyle \\begin{pmatrix}n\\\\0\\end{pmatrix}$, $\\scriptstyle \\begin{pmatrix}n\\\\1\\end{pmatrix}$, y así sucesivamente hasta $\\scriptstyle \\begin{pmatrix}n\\\\n\\end{pmatrix}$. De tal manera que las primeras líneas son:\n",
    "\n",
    "$\\begin{align}&11 \\\\ &121 \\\\ &1331 \\\\ &14641\\end{align}$"
   ]
  },
  {
   "cell_type": "code",
   "execution_count": 292,
   "metadata": {
    "colab": {
     "base_uri": "https://localhost:8080/"
    },
    "id": "AAf24IfYX504",
    "outputId": "7ad1ca03-70d0-4144-8653-aa99a428b2ab"
   },
   "outputs": [
    {
     "name": "stdout",
     "output_type": "stream",
     "text": [
      "1\n",
      "11\n",
      "121\n",
      "1331\n",
      "14641\n",
      "15101051\n",
      "1615201561\n",
      "172135352171\n",
      "18285670562881\n",
      "193684126126843691\n",
      "1104512021025221012045101\n",
      "1115516533046246233016555111\n",
      "1126622049579292479249522066121\n",
      "11378286715128717161716128771528678131\n",
      "11491364100120023003343230032002100136491141\n",
      "11510545513653003500564356435500530031365455105151\n",
      "116120560182043688008114401287011440800843681820560120161\n",
      "1171366802380618812376194482431024310194481237661882380680136171\n",
      "118153816306085681856431824437584862043758318241856485683060816153181\n",
      "1191719693876116282713250388755829237892378755825038827132116283876969171191\n",
      "1201901140484515504387607752012597016796018475616796012597077520387601550448451140190201\n"
     ]
    }
   ],
   "source": [
    "# Definimos la función para el coeficiente binomial\n",
    "def binomial(n,k):\n",
    "  K = 1\n",
    "  N = 1\n",
    "  for i in range(1,k+1):\n",
    "    K *= i\n",
    "  for j in range(n,n-k,-1):\n",
    "    N *= j\n",
    "  return int(N/K)\n",
    "\n",
    "# Configuramos la salida para que nos de el T. Pascal\n",
    "for n in range(0,21):\n",
    "  A = \"\" # Para que en cada n \"se reinicie\"\n",
    "  for k in range(0,n+1):\n",
    "    A += str(binomial(n,k))\n",
    "  print(A)"
   ]
  },
  {
   "cell_type": "markdown",
   "metadata": {
    "id": "R5H5eGnjX6K2"
   },
   "source": [
    "#### **(c)** La probabilidad de que para una moneda no sesgada, lanzada $n$ veces, salga águila $k$ veces es:\n",
    "\n",
    "$$p(k|n) = \\frac{\\scriptstyle \\begin{pmatrix}n\\\\k\\end{pmatrix}}{2^n}$$\n",
    "\n",
    "#### Escribe un programa para calcular:"
   ]
  },
  {
   "cell_type": "markdown",
   "metadata": {
    "id": "6-5WyahSYgj5"
   },
   "source": [
    "##### **(1)** la probabilidad de que una moneda lanzada 100 veces, salga águila exactamente 60 veces"
   ]
  },
  {
   "cell_type": "code",
   "execution_count": 294,
   "metadata": {
    "colab": {
     "base_uri": "https://localhost:8080/"
    },
    "id": "49XdpVnCYq-E",
    "outputId": "e8552fbe-4880-4e04-9454-45bec7da1b9b"
   },
   "outputs": [
    {
     "name": "stdout",
     "output_type": "stream",
     "text": [
      "La probabilidad de que una moneda lanzada 100 veces, salga águila exactamente 60 veces es de: 0.010843866711637987\n"
     ]
    }
   ],
   "source": [
    "# Definimos la función para el coeficiente binomial\n",
    "def binomial(n,k):\n",
    "  K = 1\n",
    "  N = 1\n",
    "  for i in range(1,k+1):\n",
    "    K *= i\n",
    "  for j in range(n,n-k,-1):\n",
    "    N *= j\n",
    "  return int(N/K)\n",
    "\n",
    "# Definimos la función de probabilidad\n",
    "def p(k,n):\n",
    "  return binomial(n,k)/(2**n)\n",
    "\n",
    "print(\"La probabilidad de que una moneda lanzada 100 veces salga águila 60 veces es de:\",p(60,100)) # La función se evalúa directamente en el print"
   ]
  },
  {
   "cell_type": "markdown",
   "metadata": {
    "id": "kjNkWoq2Yrft"
   },
   "source": [
    "##### **(2)** la probabilidad de que saga águila 60 veces o más"
   ]
  },
  {
   "cell_type": "code",
   "execution_count": 301,
   "metadata": {
    "colab": {
     "base_uri": "https://localhost:8080/"
    },
    "id": "MWlpyuTcYxe-",
    "outputId": "ecd505ad-03bb-463a-a7c8-e118f288f1ec"
   },
   "outputs": [
    {
     "name": "stdout",
     "output_type": "stream",
     "text": [
      "La probabilidad de que una moneda lanzada 100 veces salga águila 60 veces es de: 0.0\n"
     ]
    }
   ],
   "source": [
    "# Definimos la función para el coeficiente binomial\n",
    "def binomial(n,k):\n",
    "  K = 1\n",
    "  N = 1\n",
    "  for i in range(1,k+1):\n",
    "    K *= i\n",
    "  for j in range(n,n-k,-1):\n",
    "    N *= j\n",
    "  return int(N/K)\n",
    "\n",
    "# Definimos la función de probabilidad\n",
    "def p(k,n):\n",
    "  return binomial(n,k)/(2**n)\n",
    "\n",
    "print(\"La probabilidad de que una moneda lanzada 100 veces salga águila 60 veces es de:\",p(101,100)) # La función se evalúa directamente en el print"
   ]
  },
  {
   "cell_type": "markdown",
   "metadata": {
    "id": "owvmxpReYx3I"
   },
   "source": [
    "### **7. Recursión**: Una característica muy útil de las funciones que podemos definir es la ***recursividad***, es decir, la capacidad de una función de llamarse a sí misma. Por ejemplo, considere la siguiente definición del factorial $n!$ de un entero positivo $n$:\n",
    "\n",
    "$$n! =\n",
    "\\begin{cases}\n",
    "1 &\\text{si $n = 1$}\\\\\n",
    "n\\times(n-1)! &\\text{si $n > 1$}\n",
    "\\end{cases}$$\n",
    "\n",
    "### Esto constituye una definición completa del factorial que nos permite calcular el valor de $n!$ para cualquier entero positivo. Podemos emplear esta definición directamente para crear una función para calcular factoriales, como esta (en Python):\n",
    "\n",
    "```python\n",
    "def factorial(n):\n",
    "    if n == 1:\n",
    "        return 1\n",
    "    else:\n",
    "        return n * factorial(n - 1)\n",
    "```\n",
    "\n",
    "### Nota cómo si $n$ no es igual a $1$, la función se llama a sí misma para calcular el factorial de $n−1$, de tal manera que al pedir $\\texttt{print(factorial(5))}$ el interprete de Python imprimirá correctamente la respuesta $120$."
   ]
  },
  {
   "cell_type": "markdown",
   "metadata": {
    "id": "GDb_kWE-befQ"
   },
   "source": [
    "#### **(a)** Anteriormente, en clase encontramos los **números de Catalán $C_n$**. Si hacemos una pequeña modificación, la definición de $C_n$ se puede reescribir de la siguiente forma:\n",
    "\n",
    "$$C_n =\n",
    "\\begin{cases}\n",
    "1 &\\text{si n = 0}\\\\\n",
    "\\frac{4n-2}{n+1}C_{n-1} &\\text{si n > 0}\n",
    "\\end{cases}$$\n",
    "\n",
    "#### Escribe una función, usando recursividad, que calcule $C_n$ y utilízala para calcular e imprimir $C_{100}$"
   ]
  },
  {
   "cell_type": "code",
   "execution_count": 303,
   "metadata": {
    "colab": {
     "base_uri": "https://localhost:8080/"
    },
    "id": "4GmxX5JQc2_u",
    "outputId": "0e6b6376-6787-4aea-af42-c19ad72ae81d"
   },
   "outputs": [
    {
     "name": "stdout",
     "output_type": "stream",
     "text": [
      "El número de Catalán 100 es: 8.965199470901317e+56\n"
     ]
    }
   ],
   "source": [
    "def catalan(n):\n",
    "  if n == 0:\n",
    "    return 1\n",
    "  else:\n",
    "    return (((4*n)-2)/(n+1))*catalan(n-1)\n",
    "\n",
    "print(\"El número de Catalán 100 es:\",catalan(100))"
   ]
  },
  {
   "cell_type": "markdown",
   "metadata": {
    "id": "RAPjFFqqc3TZ"
   },
   "source": [
    "#### **(b)** Euclides demostró que el máximo común divisor $g(m,n)$ de dos enteros no negativos $m$ y $n$ satisface que:\n",
    "\n",
    "$$g(m,n) =\n",
    "\\begin{cases}\n",
    "m &\\text{si n = 0}\\\\\n",
    "g(n,m \\text{ mod } n) &\\text{si n > 0}\n",
    "\\end{cases}$$\n",
    "\n",
    "#### Usando esta fórmula escribe una función $g(m,n)$ que emplee **recursividad** para calcular el máximo común divisor de $m$ y $n$. Usa tu función para calcular e imprimir el máximo común divisor de $108$ y $192$.\n",
    "\n",
    "#### Comparando el cálculo de los números de Catalán del inciso $7. (a)$, con lo hecho en clase, vemos que es posible hacer el cálculo de dos maneras, ya sea directamente o usando **recursividad**. En la mayoría de los casos, si una cantidad se puede calcular ***sin*** **recursividad**, será más rápido y normalmente se recomienda hacerlo así, si es posible. Sin embargo, hay algunos cálculos que son esencialmente imposibles (o al menos mucho más difíciles) sin **recursividad**."
   ]
  },
  {
   "cell_type": "code",
   "execution_count": 305,
   "metadata": {
    "colab": {
     "base_uri": "https://localhost:8080/"
    },
    "id": "AlCTdWthf7xa",
    "outputId": "5b3a0317-6b5a-4384-8734-31a2eb75468e"
   },
   "outputs": [
    {
     "name": "stdout",
     "output_type": "stream",
     "text": [
      "El máximo común divisor entre 108 y 192 es: 12\n"
     ]
    }
   ],
   "source": [
    "def g(m,n):\n",
    "  if n == 0:\n",
    "    return m\n",
    "  else:\n",
    "    return g(n,m%n)\n",
    "\n",
    "print(\"El máximo común divisor entre 108 y 192 es:\",g(108,192))"
   ]
  }
 ],
 "metadata": {
  "@webio": {
   "lastCommId": null,
   "lastKernelId": null
  },
  "colab": {
   "collapsed_sections": [
    "4ZpV8qNcCjpg"
   ],
   "name": "Práctica 1.ipynb",
   "provenance": []
  },
  "kernelspec": {
   "display_name": "Python 3 (ipykernel)",
   "language": "python",
   "name": "python3"
  },
  "language_info": {
   "codemirror_mode": {
    "name": "ipython",
    "version": 3
   },
   "file_extension": ".py",
   "mimetype": "text/x-python",
   "name": "python",
   "nbconvert_exporter": "python",
   "pygments_lexer": "ipython3",
   "version": "3.13.3"
  }
 },
 "nbformat": 4,
 "nbformat_minor": 4
}
