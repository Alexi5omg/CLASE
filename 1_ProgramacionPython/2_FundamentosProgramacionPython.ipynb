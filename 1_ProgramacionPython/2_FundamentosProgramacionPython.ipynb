{
 "cells": [
  {
   "cell_type": "markdown",
   "metadata": {},
   "source": [
    "<h1 align=\"center\">Física Computacional.</h1>\n",
    "<h1 align=\"center\">Intersemestral 2025-4</h1>\n",
    "\n",
    "<h2>Sergio A. Alcalá Corona </h2> \n",
    "\n",
    "---\n",
    "### Rodrigo Vega Vilchis\n",
    "---"
   ]
  },
  {
   "cell_type": "markdown",
   "metadata": {},
   "source": [
    "<h1 align=\"center\">Programación para la física computacional</h1> \n",
    "\n",
    "# 1.1. Fundamentos de programación\n",
    "\n",
    "---\n",
    "\n",
    "## 1.1.2. Estructuras de datos, estructuras de control y funciones\n",
    "\n",
    "En este *Notebook* presentaremos de manera muy breve el uso general de las estrcuturas de control en *Python*, así también, cómo definir y usar funciones dentro de *Python*. Asimismo, mostraremos muy brevemente, cómo leer y escribir archivos (de texto o de datos) y finalmente expondremos cómo crear _**scripts** de Python_."
   ]
  },
  {
   "cell_type": "markdown",
   "metadata": {},
   "source": [
    "### Estructuras de control\n",
    "\n",
    "---\n",
    "\n",
    "En *Python* existen las estructuras de control comunes usadas en los lenguajes programación, que son las condicionales (`if`) y las iteretivas (`for` y `while`).\n",
    "\n",
    "Estás se usan junto con, los operadores lógicos y de comparación ya mencionados y que tienen un formato en común en casi todos los lenguajes de programación.\n",
    "\n",
    "#### Operadores de comparación:\n",
    "\n",
    "- *Igual que*:  `==`\n",
    "- *Diferente que*:  `!=`\n",
    "- *Menor que*:  `<`\n",
    "- *Mayor que*:  `>`\n",
    "- *Menor o igual que*:  `<=`\n",
    "- *Mayor o igual que*:  `>=`\n",
    "\n",
    "#### Operadores de lógicos:\n",
    "\n",
    "- *AND*:  `and`\n",
    "- *OR*:  `or`\n",
    "- *NOT*:  `!`"
   ]
  },
  {
   "cell_type": "markdown",
   "metadata": {},
   "source": [
    "A diferencia de otros lenguajes de programación en *Python*, no existen instrucciones que indiquen donde empieza y termina un bloque del programa.\n",
    "\n",
    "Un bloque empieza por **`:`**, y su extensión se indica por el uso de una cantidad definida de espacio en blanco al principio de cada línea. \n",
    "\n",
    "Es muy importante dejar **una identación (un tabulador)** después de que se inicia un bloque de instrucciones definido por `:`.\n",
    "\n",
    "Algunos editores de texto (como Kate) o IDEs permiten hacer eso de forma automática."
   ]
  },
  {
   "cell_type": "markdown",
   "metadata": {},
   "source": [
    "### Estructuras Condicionales\n",
    "\n",
    "Para checar una condición y ejecutar código dependiente del resultado, se ocupa  **`if`**:"
   ]
  },
  {
   "cell_type": "code",
   "execution_count": 5,
   "metadata": {},
   "outputs": [
    {
     "name": "stdin",
     "output_type": "stream",
     "text": [
      "Ingresa el valor de a  546\n"
     ]
    },
    {
     "name": "stdout",
     "output_type": "stream",
     "text": [
      "a es positiva\n"
     ]
    }
   ],
   "source": [
    "a = int(input('Ingresa el valor de a '))\n",
    "\n",
    "if (a > 0):\n",
    "        print(\"a es positiva\")\n",
    "        a = a + 1\n",
    "elif a == 0:  # Notese: dos veces =\n",
    "        print(\"a es 0\")\n",
    "else:\n",
    "        print(\"a es negativa\")"
   ]
  },
  {
   "cell_type": "markdown",
   "metadata": {},
   "source": [
    "En el primer caso, hay dos comandos en el bloque que se ejecutará en el caso de que `a > 0`. Nótese que `elif` es una abreviación de `else:if`"
   ]
  },
  {
   "cell_type": "markdown",
   "metadata": {},
   "source": [
    "Las condiciones que se pueden ocupar incluyen: `<`, `<=` y `!=` (*no es igual*). \n",
    "Para combinar condiciones se ocupan las palabras `and` y `or`:"
   ]
  },
  {
   "cell_type": "code",
   "execution_count": 6,
   "metadata": {},
   "outputs": [
    {
     "name": "stdout",
     "output_type": "stream",
     "text": [
      "Grandes\n",
      "Al menos uno positivo\n"
     ]
    }
   ],
   "source": [
    "a = 3; b=7\n",
    "\n",
    "if a > 1 and b > 2:\n",
    "    print(\"Grandes\")\n",
    "\n",
    "if a > 0 or b > 0:\n",
    "    print(\"Al menos uno positivo\")"
   ]
  },
  {
   "cell_type": "markdown",
   "metadata": {},
   "source": [
    "Aca otro ejemplo"
   ]
  },
  {
   "cell_type": "code",
   "execution_count": null,
   "metadata": {},
   "outputs": [],
   "source": [
    "x = int(input(\"Introduce un número entero no mayor que diez: \"))\n",
    "\n",
    "if x > 10:\n",
    "    print(\"Ingresaste un número mayor a diez.\")\n",
    "    print(\"Déjame arreglar eso por ti.\")\n",
    "    x = 10\n",
    "    print(\"tu número es\",x)"
   ]
  },
  {
   "cell_type": "markdown",
   "metadata": {},
   "source": [
    "Donde podemos usar `and` y `or`:"
   ]
  },
  {
   "cell_type": "code",
   "execution_count": null,
   "metadata": {},
   "outputs": [],
   "source": [
    "x = int(input(\"Introduce un número entero entre 1 y diez: \"))\n",
    "    \n",
    "if x > 10 or x < 1:\n",
    "    print(\"Tu número es demasiado grande o demasiado pequeño.\")\n"
   ]
  },
  {
   "cell_type": "code",
   "execution_count": null,
   "metadata": {},
   "outputs": [],
   "source": [
    "x = int(input(\"Introduce un número entero menor o igual a 1 y menor o igual a diez: \"))\n",
    "    \n",
    "if x <= 10 and x >=1:\n",
    "    print(\"Tu número es correcto.\")\n",
    "else:\n",
    "    print(\"Tu número es incorrecto.\")"
   ]
  },
  {
   "cell_type": "code",
   "execution_count": null,
   "metadata": {},
   "outputs": [],
   "source": [
    "x = int(input(\"Introduce un número entero no mayor que diez: \"))\n",
    "if x > 10:\n",
    "    print(\"Tu numero es mayor que diez.\")\n",
    "elif x > 9:\n",
    "    print(\"Tu número está bien, pero por poco no!\")\n",
    "else:\n",
    "    print(\"Tu número está bien. Continua.\")"
   ]
  },
  {
   "cell_type": "markdown",
   "metadata": {},
   "source": [
    "**Ejemplo: Número pares e impares**\n",
    "\n",
    "Escribamos un programa que tome como entrada un número entero e imprima si el número es par o impar."
   ]
  },
  {
   "cell_type": "code",
   "execution_count": 10,
   "metadata": {},
   "outputs": [
    {
     "name": "stdin",
     "output_type": "stream",
     "text": [
      "Ingresa un entero:  33\n"
     ]
    },
    {
     "name": "stdout",
     "output_type": "stream",
     "text": [
      "impar\n"
     ]
    }
   ],
   "source": [
    "n = int(input(\"Ingresa un entero: \"))\n",
    "if n%2==0:\n",
    "    print(\"par\")\n",
    "else:\n",
    "    print(\"impar\")"
   ]
  },
  {
   "cell_type": "markdown",
   "metadata": {},
   "source": [
    "### Estructuras Iterativas\n",
    "\n",
    "La parte central de muchos cálculos científicos consiste en llevar a cabo **ciclos (bucles)**. Para esto usamos las estructura de control **`while`** y **`for`**.\n",
    "\n",
    "La instrucción `while` ejecuta un bloque de código mientras una cierta condición se satisfaga. Asimismo, la instrucción `for` se usa generalmente cuando se conoce de antemano el número de iteraciones necesarias."
   ]
  },
  {
   "cell_type": "markdown",
   "metadata": {},
   "source": [
    "#### La estructura `while`\n",
    "\n",
    "\n",
    "Como instrucción de bucle, la más simple es **`while`**, que como ya mencionamos, ejecuta un bloque de código mientras una cierta condición se satisfaga, y suele ocuparse para llevar a cabo una iteración en la cual no se conoce de antemano el número de iteraciones necesarias. Sin embargo hay que tener cuidado al usar esta estructura pues si no definimos bien la condición de termino puede que el ciclo se repita indefinidamente y nunca acabe. \n",
    "\n",
    "Un ejemplo muy sencillo de un while, donde sí se conoce la condición terminal, para contar hasta 9, se puede hacer como sigue:"
   ]
  },
  {
   "cell_type": "code",
   "execution_count": 16,
   "metadata": {},
   "outputs": [
    {
     "name": "stdout",
     "output_type": "stream",
     "text": [
      "1\n",
      "2\n",
      "3\n",
      "4\n",
      "5\n",
      "6\n",
      "7\n",
      "8\n",
      "9\n",
      "10\n"
     ]
    }
   ],
   "source": [
    "i = 0\n",
    "while i < 10:\n",
    "    i +=1     # equivalente a i = i + 1\n",
    "    print(i)"
   ]
  },
  {
   "cell_type": "markdown",
   "metadata": {},
   "source": [
    "O bien, podemos usarlo de la siguiente manera:"
   ]
  },
  {
   "cell_type": "code",
   "execution_count": null,
   "metadata": {},
   "outputs": [],
   "source": [
    "x = int(input(\"Ingresa un número entero no mayor a diez: \"))\n",
    "\n",
    "while x > 10:\n",
    "    \n",
    "    print(\"Este numero es mayor a diez. Vuelve a intentarlo.\")\n",
    "    x = int(input(\"Ingresa un número entero no mayor a diez: \"))\n",
    "\n",
    "print(\"Tu número es\",x)"
   ]
  },
  {
   "cell_type": "markdown",
   "metadata": {},
   "source": [
    "Ahora compiquemos un poco el programa y de los números par e impar y pidamos uno y uno:"
   ]
  },
  {
   "cell_type": "code",
   "execution_count": null,
   "metadata": {},
   "outputs": [],
   "source": [
    "print(\"Ingresa dos enteros, uno par y el otro impar.\")\n",
    "m = int(input(\"Ingresa el primer entero: \"))\n",
    "n = int(input(\"Ingresa el segundo entero: \"))\n",
    "while (m+n)%2==0:\n",
    "    print(\"Uno debe ser par y el otro impar.\")\n",
    "    m = int(input(\"Ingresa el primer entero: \"))\n",
    "    n = int(input(\"Ingresa el segundo entero: \"))\n",
    "print(\"Correto! Los números que elegiste son:\",m,\"y\",n)"
   ]
  },
  {
   "cell_type": "markdown",
   "metadata": {},
   "source": [
    "**Ejemplo: Sucesión de Fibonacci**\n",
    "\n",
    "Los números de (la sucesión) de Fibonacci se definen de la siguiente manera:\n",
    "\n",
    "### $f_n = f_{n-1} + f_{n-2}$\n",
    "\n",
    "con las condiciones iniciales\n",
    "\n",
    "#### $f_0=0$  y $f_1=1$\n",
    "\n",
    "Escribamos un programa para generar los números de Fibonacci, menores a 1000:"
   ]
  },
  {
   "cell_type": "code",
   "execution_count": 1,
   "metadata": {},
   "outputs": [
    {
     "name": "stdout",
     "output_type": "stream",
     "text": [
      "1\n",
      "2\n",
      "3\n",
      "5\n",
      "8\n",
      "13\n",
      "21\n",
      "34\n",
      "55\n",
      "89\n",
      "144\n",
      "233\n",
      "377\n",
      "610\n",
      "987\n"
     ]
    }
   ],
   "source": [
    "f1,f2 = 1,1\n",
    "\n",
    "while f2 < 1000:    \n",
    "    print(f2)\n",
    "    f1,f2 = f2,f1+f2"
   ]
  },
  {
   "cell_type": "markdown",
   "metadata": {},
   "source": [
    "<!-- ![fibrabbits.png](attachment:fibrabbits.png) -->\n",
    "<div>\n",
    "    <img src=\"fibrabbits.png\", width=\"800\" height=\"600\">\n",
    "</div>\n"
   ]
  },
  {
   "cell_type": "code",
   "execution_count": 18,
   "metadata": {},
   "outputs": [
    {
     "ename": "SyntaxError",
     "evalue": "invalid syntax (2835492187.py, line 1)",
     "output_type": "error",
     "traceback": [
      "\u001b[0;36m  Cell \u001b[0;32mIn[18], line 1\u001b[0;36m\u001b[0m\n\u001b[0;31m    mes 0 = f0 = 0\u001b[0m\n\u001b[0m        ^\u001b[0m\n\u001b[0;31mSyntaxError\u001b[0m\u001b[0;31m:\u001b[0m invalid syntax\n"
     ]
    }
   ],
   "source": [
    "mes 0 = f0 = 0\n",
    "mes 1 = f1 = 1\n",
    "mes 2 = f2 = f1+f0 = 1+0 = 1\n",
    "mes 3 = f3 = f1+f2 = 1+1 = 2\n",
    "mes 4 = f4 = f3+f2 = f1+f2+f2 = 1+1+1 = 3\n",
    "mes 5 = f5 = f4+f3 = f1+f2+f2+f3 = f1+f2+f2 + f1+f2 = 5\n",
    "mes 6 = f6 = f5+f4 = f1+f2+f2+f1+f2 + f1+f2+f2 = 8 "
   ]
  },
  {
   "cell_type": "code",
   "execution_count": 50,
   "metadata": {},
   "outputs": [
    {
     "name": "stdout",
     "output_type": "stream",
     "text": [
      "f 1 = 1\n",
      "f 2 = 1\n",
      "f 3 = 2\n",
      "f 4 = 3\n",
      "f 5 = 5\n",
      "f 6 = 8\n",
      "f 7 = 13\n",
      "f 8 = 21\n",
      "f 9 = 34\n",
      "f 10 = 55\n",
      "f 11 = 89\n",
      "f 12 = 144\n",
      "f 13 = 233\n",
      "f 14 = 377\n",
      "f 15 = 610\n",
      "f 16 = 987\n",
      "f 17 = 1597\n",
      "f 18 = 2584\n",
      "f 19 = 4181\n",
      "f 20 = 6765\n"
     ]
    }
   ],
   "source": [
    "fn_1 = 1\n",
    "fn_2 = 1\n",
    "print(\"f\",1,\"=\",1) # mis condiciones iniciales\n",
    "print(\"f\",2,\"=\",1)\n",
    "\n",
    "for i in range(18):\n",
    "    fn = fn_1 + fn_2\n",
    "    fn_2 = fn_1\n",
    "    fn_1 = fn\n",
    "    print(\"f\",i+3,\"=\",fn)"
   ]
  },
  {
   "cell_type": "markdown",
   "metadata": {},
   "source": [
    "Una instrucción muy útil, cuando estamos usando un `while` es **`break`**, que nos permiten salir del ciclo incluso si no se cumple la condición. Por ejemplo:"
   ]
  },
  {
   "cell_type": "code",
   "execution_count": null,
   "metadata": {},
   "outputs": [],
   "source": [
    "x = int(input(\"Ingresa un número entero no mayor a diez: \"))\n",
    "\n",
    "while x>10:\n",
    "\n",
    "    print(\"Esto es mayor a diez, por favor intentalo de nuevo.\")\n",
    "    x = x+1\n",
    "    \n",
    "    if x==111:\n",
    "        break\n",
    "\n",
    "    print(x)\n"
   ]
  },
  {
   "cell_type": "markdown",
   "metadata": {},
   "source": [
    "Una instrucción parecida a `break`  es la instrucción **`continue`**. Al colocar esta instrucción dentro `while` (con una condición de un `if`), hará que el programa salte el resto del código del ciclo, regresando al principio del bucle, donde se vuelve a comprobar la condición en el `while`.\n",
    "\n",
    "**OJO:** Se recomienda un uso bien pensando de esta istrucción, pues podría provocar que nuestro programa se estanque en un *\"bucle infinito\"*\n",
    "\n",
    "\n",
    "\n"
   ]
  },
  {
   "cell_type": "code",
   "execution_count": null,
   "metadata": {},
   "outputs": [],
   "source": [
    "x = int(input(\"Ingresa un número entero no mayor a diez: \"))\n",
    "\n",
    "while x>10:\n",
    "    \n",
    "    print(\"Esto es mayor a diez, por favor intentalo de nuevo.\")\n",
    "    x = x+1\n",
    "    \n",
    "    if (x % 2) == 0:\n",
    "        continue\n",
    "    elif x==111:\n",
    "            break\n",
    "    print(x)\n"
   ]
  },
  {
   "cell_type": "code",
   "execution_count": null,
   "metadata": {},
   "outputs": [],
   "source": [
    "x = int(input(\"Ingresa un número entero no mayor a diez: \"))\n",
    "\n",
    "while x>10:\n",
    "    \n",
    "    print(\"Esto es mayor a diez, por favor intentalo de nuevo.\")\n",
    "    x = x+1\n",
    "    \n",
    "    if (x % 2) == 0:\n",
    "        continue\n",
    "    elif x==111:\n",
    "            break\n",
    "    print(x)\n"
   ]
  },
  {
   "cell_type": "markdown",
   "metadata": {},
   "source": [
    "<!-- \n",
    "break | continue\n",
    "- | - \n",
    "![break](break.png) | ![continue](continue.png)\n",
    " -->"
   ]
  },
  {
   "cell_type": "markdown",
   "metadata": {},
   "source": [
    "### Diferencia entre el uso de `break`  y `continue`\n",
    "$\\;$\n",
    "\n",
    "<div align=\"center\">\n",
    "    <table>      \n",
    "        <tr>\n",
    "            <td> <img src=\"break.png\" alt=\"break\" style=\"width: 450px;\"/> </td>\n",
    "            <td> <img src=\"continue.png\" alt=\"continue\" style=\"width: 450px;\"/> </td>\n",
    "        </tr>\n",
    "        <tr>\n",
    "            <td><div align=\"center\"><h2>break</h2></div></td>\n",
    "            <td><div align=\"center\"><h2>continue</h2></div></td>\n",
    "        </tr>          \n",
    "    </table>\n",
    "</div>\n",
    "\n"
   ]
  },
  {
   "cell_type": "code",
   "execution_count": null,
   "metadata": {},
   "outputs": [],
   "source": []
  },
  {
   "cell_type": "markdown",
   "metadata": {},
   "source": [
    "### Ejercicio: Números de Catalan\n",
    "\n",
    "Los números de Catalan $C_n$ son una secuencia de números enteros 1, 1, 2, 5, 14, 42, 132 que juegan un papel importante en la mecánica cuántica y la teoría de los sistemas desordenados. (Eran fundamentales para la prueba de Eugene Wigner de la llamada ley del semicírculo). Se definen de la siguiente manera:\n",
    "\n",
    "<h3 align=\"center\">$C_0 = 1,\\qquad C_{n+1} = {4n+2\\over n+2}\\,C_n$.</h3> \n",
    "\n",
    "Escribe un programa que imprima en orden creciente todos los números catalanes menores o iguales a mil millones.\n"
   ]
  },
  {
   "cell_type": "code",
   "execution_count": 7,
   "metadata": {},
   "outputs": [
    {
     "name": "stdout",
     "output_type": "stream",
     "text": [
      "1\n",
      "1.0\n",
      "2.0\n",
      "5.0\n",
      "14.0\n",
      "42.0\n",
      "132.0\n",
      "429.0\n",
      "1430.0\n",
      "4862.0\n",
      "16796.0\n",
      "58786.0\n",
      "208012.0\n",
      "742900.0\n",
      "2674440.0\n",
      "9694845.0\n",
      "35357670.0\n",
      "129644790.0\n",
      "477638700.0\n",
      "1767263190.0\n"
     ]
    }
   ],
   "source": [
    "n = 0\n",
    "cn = 1\n",
    "\n",
    "print(cn)\n",
    "while cn <= 1000000000:\n",
    "    cn = (((4*n)+2)/(n+2))*cn\n",
    "    print(cn)\n",
    "    n = n+1"
   ]
  },
  {
   "cell_type": "code",
   "execution_count": null,
   "metadata": {},
   "outputs": [],
   "source": []
  },
  {
   "cell_type": "markdown",
   "metadata": {},
   "source": [
    "#### La estructura `for`\n",
    "\n",
    "Un ciclo tipo `for` se suele ocupar para llevar a cabo un número de iteraciones que se conoce de antemano. En el bucle de tipo `for`, encontramos una diferencia importante con respecto a lenguajes más tradicionales:\n",
    "\n",
    "Se puede iterar sobre cualquier lista y ejecutar un bloque de código para cada elemento de la lista:"
   ]
  },
  {
   "cell_type": "code",
   "execution_count": null,
   "metadata": {},
   "outputs": [],
   "source": [
    "r = [ 1, 3, 5]\n",
    "\n",
    "for n in r:\n",
    "    print(n)\n",
    "    print(2*n)\n",
    "print(\"Termine!\")"
   ]
  },
  {
   "cell_type": "code",
   "execution_count": null,
   "metadata": {},
   "outputs": [],
   "source": [
    "l = [1, 2.5, -3.71, \"hola\", [2, 3]]\n",
    "\n",
    "for i in l:\n",
    "    print(2*l)"
   ]
  },
  {
   "cell_type": "markdown",
   "metadata": {},
   "source": [
    "Si queremos iterar sobre muchos elementos, es más útil construir la lista con `range`."
   ]
  },
  {
   "cell_type": "code",
   "execution_count": null,
   "metadata": {},
   "outputs": [],
   "source": [
    "r = range(5)\n",
    "print(\"Hola!\")\n",
    "\n",
    "for n in r:\n",
    "    print(\"Hola de nuevo!\")"
   ]
  },
  {
   "cell_type": "markdown",
   "metadata": {},
   "source": [
    " Por ejemplo, para hacer una iteración para todos los números pares hasta 100, podemos utilizar:"
   ]
  },
  {
   "cell_type": "code",
   "execution_count": null,
   "metadata": {},
   "outputs": [],
   "source": [
    "for i in range(100):\n",
    "    print(2*i)"
   ]
  },
  {
   "cell_type": "markdown",
   "metadata": {},
   "source": [
    "\n",
    "Recordemos que la función `range` crea una lista de `N` elementos comenzado en el *$0$*. O también podemos usar\n"
   ]
  },
  {
   "cell_type": "code",
   "execution_count": null,
   "metadata": {},
   "outputs": [],
   "source": [
    "for i in range(3,57,3):\n",
    "    print(2*i)"
   ]
  },
  {
   "cell_type": "markdown",
   "metadata": {},
   "source": [
    "Para poder indicar **`un inicio`**, **`un fin`** y **`un incremento`** de paso en la iteración."
   ]
  },
  {
   "cell_type": "markdown",
   "metadata": {},
   "source": [
    "Recordemos también que `range` sólo funciona con enteros. Por lo que el siguiente programa nos arrojará un error:"
   ]
  },
  {
   "cell_type": "code",
   "execution_count": null,
   "metadata": {},
   "outputs": [],
   "source": [
    "p = 10\n",
    "q =2\n",
    "for n in range(p/q):\n",
    "    print(n)"
   ]
  },
  {
   "cell_type": "markdown",
   "metadata": {},
   "source": [
    "Para poder corregir esto podemos usar la parte entera:"
   ]
  },
  {
   "cell_type": "code",
   "execution_count": null,
   "metadata": {},
   "outputs": [],
   "source": [
    "for n in range(p//q):\n",
    "    print(n)"
   ]
  },
  {
   "cell_type": "markdown",
   "metadata": {},
   "source": [
    "O bien la función `arange` de **`numpy`**."
   ]
  },
  {
   "cell_type": "code",
   "execution_count": null,
   "metadata": {},
   "outputs": [],
   "source": [
    "from numpy import arange\n",
    "\n",
    "for n in arange(p/q):\n",
    "    print(n)"
   ]
  },
  {
   "cell_type": "markdown",
   "metadata": {},
   "source": [
    "#### **Ejercicio:** \n",
    "\n",
    "Escribe un programa que realice la siguiente suma:\n",
    "\n",
    "<h4 align=\"center\">$\\displaystyle s = \\sum_{k=1}^{100} \\dfrac{1}{k}$</h4> "
   ]
  },
  {
   "cell_type": "code",
   "execution_count": 28,
   "metadata": {},
   "outputs": [
    {
     "name": "stdout",
     "output_type": "stream",
     "text": [
      "2.283333333333333\n"
     ]
    }
   ],
   "source": [
    "s = 0\n",
    "\n",
    "for k in range(1,6):\n",
    "    s = s + 1/k\n",
    "\n",
    "print(s)"
   ]
  },
  {
   "cell_type": "markdown",
   "metadata": {},
   "source": [
    "#### **Ejercicio:** \n",
    "\n",
    "Ahora escribe un programa que realice la suma de los cuadrados de los valores tomados de un archivo de texto:\n",
    "\n",
    "<h4 align=\"center\">$\\displaystyle s = \\sum x^2 \\; \\; \\; \\forall x \\in V_{txt}$</h4> "
   ]
  },
  {
   "cell_type": "code",
   "execution_count": null,
   "metadata": {},
   "outputs": [],
   "source": []
  },
  {
   "cell_type": "markdown",
   "metadata": {},
   "source": [
    "### **Ejemplo:** Lineas de emisión de Hidrogeno \n",
    "\n",
    "En 1888 Johannes Rydberg publicó su famosa fórmula para las longitudes de onda $\\lambda$ de las líneas de emisión del átomo de hidrógeno:\n",
    "\n",
    "<h3 align=\"center\">$\\displaystyle \\dfrac{1}{\\lambda} = R \\left(\\dfrac{1}{m^2} - \\dfrac{1}{n^2} \\right)$</h3> \n",
    "\n",
    "donde $R$ es la constante de Rydberg $R = 1.097 × 10^{-2}$ nm$^{-1}$ y $m$ y $n$ son números enteros positivos. Para un valor dado de $m$, las longitudes de onda $\\lambda$ dadas por esta fórmula para todo $n > m$ forman una serie, las tres primeras de tales series, para $m = 1$, $2$ y $3$, se conocen como series de *Lyman*, *Balmer* y *Paschen* en honor a sus respectivos descubridores.\n",
    "\n",
    "Para resumir varias de las cosas vistas, a continuación escribiremos un breve programa de ejemplo, que imprime las longitudes de onda de las primeras cinco líneas en cada una de estas tres series:\n"
   ]
  },
  {
   "cell_type": "code",
   "execution_count": 29,
   "metadata": {},
   "outputs": [
    {
     "name": "stdout",
     "output_type": "stream",
     "text": [
      "\n",
      " Serie para m = 1\n",
      "   121.5436037678517 nm\n",
      "   102.55241567912488 nm\n",
      "   97.23488301428137 nm\n",
      "   94.95594044363415 nm\n",
      "   93.76220862091418 nm\n",
      "\n",
      " Serie para m = 2\n",
      "   656.3354603463993 nm\n",
      "   486.1744150714068 nm\n",
      "   434.084299170899 nm\n",
      "   410.2096627164995 nm\n",
      "   397.04243897498225 nm\n",
      "\n",
      " Serie para m = 3\n",
      "   1875.2441724182836 nm\n",
      "   1281.9051959890612 nm\n",
      "   1093.8924339106654 nm\n",
      "   1005.013673655424 nm\n",
      "   954.6697605038536 nm\n"
     ]
    }
   ],
   "source": [
    "R = 1.097e-2\n",
    "\n",
    "for m in range(1,4):    \n",
    "    print(\"\\n Serie para m =\",m)    \n",
    "    for n in range(m+1,m+6):\n",
    "        invlambda = R*(1/m**2-1/n**2)\n",
    "        print(\"  \",1/invlambda,\"nm\")\n"
   ]
  },
  {
   "cell_type": "markdown",
   "metadata": {},
   "source": [
    "Hagamos un polinomio"
   ]
  },
  {
   "cell_type": "code",
   "execution_count": 34,
   "metadata": {},
   "outputs": [
    {
     "data": {
      "text/plain": [
       "array([1. , 1.5, 2. , 2.5, 3. , 3.5, 4. , 4.5, 5. , 5.5, 6. , 6.5, 7. ,\n",
       "       7.5, 8. , 8.5, 9. , 9.5])"
      ]
     },
     "execution_count": 34,
     "metadata": {},
     "output_type": "execute_result"
    }
   ],
   "source": [
    "import numpy as np\n",
    "\n",
    "def polinomio(x,a,b,c,d):\n",
    "    return a*x**3 + b*x**2 + c*x + d\n",
    "\n",
    "x = np.arange(1,10,0.5)\n",
    "x"
   ]
  },
  {
   "cell_type": "code",
   "execution_count": 37,
   "metadata": {},
   "outputs": [
    {
     "data": {
      "text/plain": [
       "array([  10.   ,   16.375,   26.   ,   39.625,   58.   ,   81.875,\n",
       "        112.   ,  149.125,  194.   ,  247.375,  310.   ,  382.625,\n",
       "        466.   ,  560.875,  668.   ,  788.125,  922.   , 1070.375])"
      ]
     },
     "execution_count": 37,
     "metadata": {},
     "output_type": "execute_result"
    }
   ],
   "source": [
    "y = polinomio(x,1,2,3,4)\n",
    "y"
   ]
  },
  {
   "cell_type": "code",
   "execution_count": 52,
   "metadata": {
    "scrolled": true
   },
   "outputs": [
    {
     "data": {
      "text/plain": [
       "[<matplotlib.lines.Line2D at 0x7f121490da90>]"
      ]
     },
     "execution_count": 52,
     "metadata": {},
     "output_type": "execute_result"
    },
    {
     "data": {
      "image/png": "[encoded data removed]",
      "text/plain": [
       "<Figure size 640x480 with 1 Axes>"
      ]
     },
     "metadata": {},
     "output_type": "display_data"
    }
   ],
   "source": [
    "import matplotlib.pyplot as pl\n",
    "\n",
    "pl.plot(x,y)"
   ]
  },
  {
   "cell_type": "code",
   "execution_count": null,
   "metadata": {},
   "outputs": [],
   "source": []
  },
  {
   "cell_type": "code",
   "execution_count": null,
   "metadata": {},
   "outputs": [],
   "source": []
  },
  {
   "cell_type": "markdown",
   "metadata": {},
   "source": [
    "### Funciones\n",
    "\n",
    "---\n",
    "Las funciones se pueden considerar como subprogramas que ejecutan una tarea dada, pueden contener variables propias (locales) así como estructuras de control y cálculos en su interior. En *Python*, las funciones pueden o no aceptar argumentos, y pueden o no regresar resultados.\n",
    "\n",
    "La sintaxis para declarar una función es como sigue:"
   ]
  },
  {
   "cell_type": "code",
   "execution_count": 2,
   "metadata": {},
   "outputs": [],
   "source": [
    "def f(x):\n",
    "    print(\"Argumento x = \", x)\n",
    "    return x*x"
   ]
  },
  {
   "cell_type": "markdown",
   "metadata": {},
   "source": [
    "y se llama así:"
   ]
  },
  {
   "cell_type": "code",
   "execution_count": null,
   "metadata": {},
   "outputs": [],
   "source": [
    "f(3)\n",
    "f(3.5)"
   ]
  },
  {
   "cell_type": "markdown",
   "metadata": {},
   "source": [
    "Las funciones se pueden utilizar con argumentos de cualquier tipo (el tipo de los argumentos nunca se especifica). Si las operaciones llevadas a cabo no se permiten para el tipo que se provee, entonces *Python* regresa un error:"
   ]
  },
  {
   "cell_type": "code",
   "execution_count": null,
   "metadata": {},
   "outputs": [],
   "source": [
    "f(\"hola\")"
   ]
  },
  {
   "cell_type": "markdown",
   "metadata": {},
   "source": [
    "Las funciones pueden regresar varios resultados al juntarlos en un *tuple* (n-ada):"
   ]
  },
  {
   "cell_type": "code",
   "execution_count": null,
   "metadata": {},
   "outputs": [],
   "source": [
    "def f(x, y):\n",
    "    return 2*x, 3*y"
   ]
  },
  {
   "cell_type": "code",
   "execution_count": null,
   "metadata": {},
   "outputs": [],
   "source": [
    "f(3,4)"
   ]
  },
  {
   "cell_type": "markdown",
   "metadata": {},
   "source": [
    "#### **Ejercicio:** \n",
    "\n",
    "Escribe una función que tome como argumento un número entero y que regrese el factorial del mismo.\n",
    "\n",
    "<h4 align=\"center\">$\\displaystyle n! = \\prod_{i=1}^n i$</h4> \n",
    "\n",
    "Y pruebala para diferentes valores."
   ]
  },
  {
   "cell_type": "markdown",
   "metadata": {},
   "source": [
    "Se puede proporcionar una forma sencilla de documentación de una función al proporcionar un *docstring* (cadena de documentación):"
   ]
  },
  {
   "cell_type": "code",
   "execution_count": 69,
   "metadata": {},
   "outputs": [
    {
     "name": "stdout",
     "output_type": "stream",
     "text": [
      "120\n"
     ]
    }
   ],
   "source": [
    "N = 5\n",
    "n = 1\n",
    "\n",
    "for i in range(1,N+1):\n",
    "    n = n*i\n",
    "\n",
    "print(n)"
   ]
  },
  {
   "cell_type": "code",
   "execution_count": 74,
   "metadata": {},
   "outputs": [],
   "source": [
    "def cuad(x):\n",
    "    \"\"\"Funcion para elevar un numero al cuadrado.\n",
    "    Funciona siempre y cuando el tipo de x permita la multiplicacion.\"\"\"\n",
    "    return x*x"
   ]
  },
  {
   "cell_type": "markdown",
   "metadata": {},
   "source": [
    "Ahora si interrogamos al objeto `cuad` (con ipython o Jupyter):"
   ]
  },
  {
   "cell_type": "code",
   "execution_count": 75,
   "metadata": {},
   "outputs": [
    {
     "data": {
      "text/plain": [
       "\u001b[0;31mSignature:\u001b[0m \u001b[0mcuad\u001b[0m\u001b[0;34m(\u001b[0m\u001b[0mx\u001b[0m\u001b[0;34m)\u001b[0m\u001b[0;34m\u001b[0m\u001b[0;34m\u001b[0m\u001b[0m\n",
       "\u001b[0;31mDocstring:\u001b[0m\n",
       "Funcion para elevar un numero al cuadrado.\n",
       "Funciona siempre y cuando el tipo de x permita la multiplicacion.\n",
       "\u001b[0;31mFile:\u001b[0m      /tmp/ipykernel_4975/3810534958.py\n",
       "\u001b[0;31mType:\u001b[0m      function"
      ]
     },
     "metadata": {},
     "output_type": "display_data"
    }
   ],
   "source": [
    "cuad?"
   ]
  },
  {
   "cell_type": "markdown",
   "metadata": {},
   "source": [
    "nos da esta información. Si la función está definida en un archivo, entonces `cuad??` muestra el código de la definición de la función."
   ]
  },
  {
   "cell_type": "code",
   "execution_count": 76,
   "metadata": {},
   "outputs": [
    {
     "data": {
      "text/plain": [
       "\u001b[0;31mSignature:\u001b[0m \u001b[0mcuad\u001b[0m\u001b[0;34m(\u001b[0m\u001b[0mx\u001b[0m\u001b[0;34m)\u001b[0m\u001b[0;34m\u001b[0m\u001b[0;34m\u001b[0m\u001b[0m\n",
       "\u001b[0;31mSource:\u001b[0m   \n",
       "\u001b[0;32mdef\u001b[0m \u001b[0mcuad\u001b[0m\u001b[0;34m(\u001b[0m\u001b[0mx\u001b[0m\u001b[0;34m)\u001b[0m\u001b[0;34m:\u001b[0m\u001b[0;34m\u001b[0m\n",
       "\u001b[0;34m\u001b[0m    \u001b[0;34m\"\"\"Funcion para elevar un numero al cuadrado.\u001b[0m\n",
       "\u001b[0;34m    Funciona siempre y cuando el tipo de x permita la multiplicacion.\"\"\"\u001b[0m\u001b[0;34m\u001b[0m\n",
       "\u001b[0;34m\u001b[0m    \u001b[0;32mreturn\u001b[0m \u001b[0mx\u001b[0m\u001b[0;34m*\u001b[0m\u001b[0mx\u001b[0m\u001b[0;34m\u001b[0m\u001b[0;34m\u001b[0m\u001b[0m\n",
       "\u001b[0;31mFile:\u001b[0m      /tmp/ipykernel_4975/3810534958.py\n",
       "\u001b[0;31mType:\u001b[0m      function"
      ]
     },
     "metadata": {},
     "output_type": "display_data"
    }
   ],
   "source": [
    "cuad??"
   ]
  },
  {
   "cell_type": "markdown",
   "metadata": {},
   "source": [
    "#### **Ejercicio:** \n",
    "\n",
    "Supongamos, que tenemos un punto $p$ especificado en coordenadas cilíndricas $r$, $\\theta$, $z$. Escribe una función que tome como argumentos los valores de las cordenadas del punto ($r$,$\\theta$,$z$) para que regrese la distancia $d$ del origena a $p$ y pruebala para diferentes valores. \n",
    "\n",
    "*Hint:* La forma más sencilla es usar el teorema de Pitagoras."
   ]
  },
  {
   "cell_type": "code",
   "execution_count": null,
   "metadata": {},
   "outputs": [],
   "source": []
  },
  {
   "cell_type": "code",
   "execution_count": null,
   "metadata": {},
   "outputs": [],
   "source": []
  },
  {
   "cell_type": "code",
   "execution_count": null,
   "metadata": {},
   "outputs": [],
   "source": []
  },
  {
   "cell_type": "markdown",
   "metadata": {},
   "source": [
    "#### **Ejercicio:** \n",
    "\n",
    "Supongamos que tenemos un número entero $n$ y queremos saber sus **_factores primos_**. Los factores primos se pueden calcular con relativa facilidad dividiendo repetidamente por todos los números enteros desde 2 hasta $n$ y verificando si el resto es cero. \n",
    "\n",
    "Escribe una función que tome como argumento un número $n$ y devuelva una lista de sus factores primos."
   ]
  },
  {
   "cell_type": "code",
   "execution_count": null,
   "metadata": {},
   "outputs": [],
   "source": [
    "\n"
   ]
  },
  {
   "cell_type": "code",
   "execution_count": null,
   "metadata": {},
   "outputs": [],
   "source": []
  },
  {
   "cell_type": "code",
   "execution_count": null,
   "metadata": {},
   "outputs": [],
   "source": []
  },
  {
   "cell_type": "markdown",
   "metadata": {},
   "source": [
    "---\n",
    "\n",
    "## 1.1.3. Bibliotecas para cómputo científico y numérico\n",
    "$\\;$\n",
    "### BIBLIOTECAS.\n",
    "\n",
    "---\n",
    "\n",
    "\n",
    "Se puede escribir un script que solo tenga definiciones de funciones, a la cual puede considerarse una biblioteca propia, y también se puede importarse:\n",
    "\n",
    "`from mi_biblioteca import *`\n",
    "\n",
    "Así podemos llamar a esta biblioteca dentro de otro script y usar sus funciones dentro de este.\n",
    "\n",
    "O bien se puede importar desde el *interprete de comandos python* (o el entrono **ipython** o **Jupyter**) con lo que podemos llamar esas funciones o ver sus características coma ya mencionamos."
   ]
  },
  {
   "cell_type": "markdown",
   "metadata": {},
   "source": [
    "Es posible importar las funciones de una biblioteca, ya sea una por una conforme las vayamos necesitando:"
   ]
  },
  {
   "cell_type": "code",
   "execution_count": null,
   "metadata": {},
   "outputs": [],
   "source": [
    "from math import log\n",
    "from math import exp"
   ]
  },
  {
   "cell_type": "markdown",
   "metadata": {},
   "source": [
    "varias a la vez:"
   ]
  },
  {
   "cell_type": "code",
   "execution_count": null,
   "metadata": {},
   "outputs": [],
   "source": [
    "from math import log,exp\n",
    "from math import log,exp,sin,cos,sqrt,pi,e"
   ]
  },
  {
   "cell_type": "markdown",
   "metadata": {},
   "source": [
    "O bien, todas de una sola vez:"
   ]
  },
  {
   "cell_type": "code",
   "execution_count": null,
   "metadata": {},
   "outputs": [],
   "source": [
    "from math import *"
   ]
  },
  {
   "cell_type": "markdown",
   "metadata": {},
   "source": [
    "o de manera alternativa"
   ]
  },
  {
   "cell_type": "code",
   "execution_count": null,
   "metadata": {},
   "outputs": [],
   "source": [
    "import math "
   ]
  },
  {
   "cell_type": "markdown",
   "metadata": {},
   "source": [
    "Asimismo, podemos importar una función desde un módulo particular de una biblioteca, de la siguiente manera:"
   ]
  },
  {
   "cell_type": "code",
   "execution_count": null,
   "metadata": {},
   "outputs": [],
   "source": [
    "from numpy.linalg import inv"
   ]
  },
  {
   "cell_type": "markdown",
   "metadata": {},
   "source": [
    "Una forma muy comun de importar una biblioteca es poniendo un alias (sobrenombre), por ejemplo:"
   ]
  },
  {
   "cell_type": "code",
   "execution_count": null,
   "metadata": {},
   "outputs": [],
   "source": [
    "import math as mt"
   ]
  },
  {
   "cell_type": "markdown",
   "metadata": {},
   "source": [
    "Lo anterior nos permite importar varias bibliotecas a la vez, pero tener sus funcionalidades separadas, sin que se confundan\n"
   ]
  },
  {
   "cell_type": "code",
   "execution_count": 1,
   "metadata": {},
   "outputs": [],
   "source": [
    "import math as mt\n",
    "import numpy as np\n",
    "import matplotlib.pyplot as plt"
   ]
  },
  {
   "cell_type": "code",
   "execution_count": null,
   "metadata": {},
   "outputs": [],
   "source": [
    "np.pi"
   ]
  },
  {
   "cell_type": "code",
   "execution_count": null,
   "metadata": {},
   "outputs": [],
   "source": [
    "math.sin(np.pi/2)"
   ]
  },
  {
   "cell_type": "code",
   "execution_count": null,
   "metadata": {},
   "outputs": [],
   "source": [
    "plt.plot?"
   ]
  },
  {
   "cell_type": "markdown",
   "metadata": {},
   "source": [
    "---\n",
    "\n",
    "## 1.1.4 Entrada y Salida de datos.\n",
    "$\\;$\n",
    "### ENTRADA\n",
    "\n",
    "---\n",
    "\n",
    "\n",
    "Como ya hemos visto, se puede pedir información del usuario con `input()`"
   ]
  },
  {
   "cell_type": "code",
   "execution_count": 3,
   "metadata": {},
   "outputs": [
    {
     "name": "stdin",
     "output_type": "stream",
     "text": [
      "Dame el valor de a:  2000\n"
     ]
    },
    {
     "name": "stdout",
     "output_type": "stream",
     "text": [
      "El cuadrado de a es  4000000.0\n"
     ]
    }
   ],
   "source": [
    "a = float(input('Dame el valor de a: '))\n",
    "\n",
    "print(\"El cuadrado de a es \", a*a)"
   ]
  },
  {
   "cell_type": "markdown",
   "metadata": {},
   "source": [
    "Sin embargo, uno de los usos principales de Python para el cómputo científico es el de **procesar datos** generados en otro lado. Por lo tanto, es necesario saber cómo importar y exportar archivos."
   ]
  },
  {
   "cell_type": "markdown",
   "metadata": {},
   "source": [
    "#### Leer archivos\n",
    "\n",
    "Para leer un archivo, primero es necesario abrirlo para leerse. Supongamos que tenemos un archivo llamado *datos.dat*, entonces lo podemos abrir para su lectura con:"
   ]
  },
  {
   "cell_type": "code",
   "execution_count": 23,
   "metadata": {},
   "outputs": [],
   "source": [
    "entrada = open(\"datos.dat\", \"r\")    # esto es un buffer\n",
    "\n",
    "for linea in entrada:\n",
    "    datos = map(float,linea.split())"
   ]
  },
  {
   "cell_type": "code",
   "execution_count": 40,
   "metadata": {},
   "outputs": [
    {
     "data": {
      "text/plain": [
       "['0 \\t 8 \\n',\n",
       " '1 \\t 23 \\n',\n",
       " '2 \\t 48 \\n',\n",
       " '3 \\t 83 \\n',\n",
       " '4 \\t 128 \\n',\n",
       " '5 \\t 183 \\n',\n",
       " '6 \\t 248 \\n',\n",
       " '7 \\t 323 \\n',\n",
       " '8 \\t 408 \\n',\n",
       " '9 \\t 503 \\n',\n",
       " '10 \\t 608 \\n',\n",
       " '11 \\t 723 \\n',\n",
       " '12 \\t 848 \\n',\n",
       " '13 \\t 983 \\n',\n",
       " '14 \\t 1128 \\n',\n",
       " '15 \\t 1283 \\n',\n",
       " '16 \\t 1448 \\n',\n",
       " '17 \\t 1623 \\n',\n",
       " '18 \\t 1808 \\n',\n",
       " '19 \\t 2003 \\n',\n",
       " '20 \\t 2208 \\n',\n",
       " '21 \\t 2423 \\n',\n",
       " '22 \\t 2648 \\n',\n",
       " '23 \\t 2883 \\n',\n",
       " '24 \\t 3128 \\n',\n",
       " '25 \\t 3383 \\n',\n",
       " '26 \\t 3648 \\n',\n",
       " '27 \\t 3923 \\n',\n",
       " '28 \\t 4208 \\n',\n",
       " '29 \\t 4503 \\n',\n",
       " '30 \\t 4808 \\n',\n",
       " '31 \\t 5123 \\n',\n",
       " '32 \\t 5448 \\n',\n",
       " '33 \\t 5783 \\n',\n",
       " '34 \\t 6128 \\n',\n",
       " '35 \\t 6483 \\n',\n",
       " '36 \\t 6848 \\n',\n",
       " '37 \\t 7223 \\n',\n",
       " '38 \\t 7608 \\n',\n",
       " '39 \\t 8003 \\n',\n",
       " '40 \\t 8408 \\n',\n",
       " '41 \\t 8823 \\n',\n",
       " '42 \\t 9248 \\n',\n",
       " '43 \\t 9683 \\n',\n",
       " '44 \\t 10128 \\n',\n",
       " '45 \\t 10583 \\n',\n",
       " '46 \\t 11048 \\n',\n",
       " '47 \\t 11523 \\n',\n",
       " '48 \\t 12008 \\n',\n",
       " '49 \\t 12503 \\n',\n",
       " '50 \\t 13008 \\n',\n",
       " '51 \\t 13523 \\n',\n",
       " '52 \\t 14048 \\n',\n",
       " '53 \\t 14583 \\n',\n",
       " '54 \\t 15128 \\n',\n",
       " '55 \\t 15683 \\n',\n",
       " '56 \\t 16248 \\n',\n",
       " '57 \\t 16823 \\n',\n",
       " '58 \\t 17408 \\n',\n",
       " '59 \\t 18003 \\n',\n",
       " '60 \\t 18608 \\n',\n",
       " '61 \\t 19223 \\n',\n",
       " '62 \\t 19848 \\n',\n",
       " '63 \\t 20483 \\n',\n",
       " '64 \\t 21128 \\n',\n",
       " '65 \\t 21783 \\n',\n",
       " '66 \\t 22448 \\n',\n",
       " '67 \\t 23123 \\n',\n",
       " '68 \\t 23808 \\n',\n",
       " '69 \\t 24503 \\n',\n",
       " '70 \\t 25208 \\n',\n",
       " '71 \\t 25923 \\n',\n",
       " '72 \\t 26648 \\n',\n",
       " '73 \\t 27383 \\n',\n",
       " '74 \\t 28128 \\n',\n",
       " '75 \\t 28883 \\n',\n",
       " '76 \\t 29648 \\n',\n",
       " '77 \\t 30423 \\n',\n",
       " '78 \\t 31208 \\n',\n",
       " '79 \\t 32003 \\n',\n",
       " '80 \\t 32808 \\n',\n",
       " '81 \\t 33623 \\n',\n",
       " '82 \\t 34448 \\n',\n",
       " '83 \\t 35283 \\n',\n",
       " '84 \\t 36128 \\n',\n",
       " '85 \\t 36983 \\n',\n",
       " '86 \\t 37848 \\n',\n",
       " '87 \\t 38723 \\n',\n",
       " '88 \\t 39608 \\n',\n",
       " '89 \\t 40503 \\n',\n",
       " '90 \\t 41408 \\n',\n",
       " '91 \\t 42323 \\n',\n",
       " '92 \\t 43248 \\n',\n",
       " '93 \\t 44183 \\n',\n",
       " '94 \\t 45128 \\n',\n",
       " '95 \\t 46083 \\n',\n",
       " '96 \\t 47048 \\n',\n",
       " '97 \\t 48023 \\n',\n",
       " '98 \\t 49008 \\n',\n",
       " '99 \\t 50003 \\n']"
      ]
     },
     "execution_count": 40,
     "metadata": {},
     "output_type": "execute_result"
    }
   ],
   "source": [
    "datos = []\n",
    "entrada = open(\"datos.dat\",\"r\")\n",
    "for linea in entrada:\n",
    "    datos.append(linea)\n",
    "\n",
    "datos"
   ]
  },
  {
   "cell_type": "code",
   "execution_count": 25,
   "metadata": {},
   "outputs": [
    {
     "data": {
      "text/plain": [
       "['0', '8']"
      ]
     },
     "execution_count": 25,
     "metadata": {},
     "output_type": "execute_result"
    }
   ],
   "source": [
    "datos[0].split()"
   ]
  },
  {
   "cell_type": "code",
   "execution_count": 26,
   "metadata": {},
   "outputs": [
    {
     "data": {
      "text/plain": [
       "['0 \\t 8 \\n']"
      ]
     },
     "execution_count": 26,
     "metadata": {},
     "output_type": "execute_result"
    }
   ],
   "source": [
    "datos[0].split('/t')"
   ]
  },
  {
   "cell_type": "code",
   "execution_count": 35,
   "metadata": {},
   "outputs": [],
   "source": [
    "import numpy as np"
   ]
  },
  {
   "cell_type": "code",
   "execution_count": 37,
   "metadata": {},
   "outputs": [
    {
     "data": {
      "text/plain": [
       "array([0.0000e+00, 8.0000e+00, 1.0000e+00, 2.3000e+01, 2.0000e+00,\n",
       "       4.8000e+01, 3.0000e+00, 8.3000e+01, 4.0000e+00, 1.2800e+02,\n",
       "       5.0000e+00, 1.8300e+02, 6.0000e+00, 2.4800e+02, 7.0000e+00,\n",
       "       3.2300e+02, 8.0000e+00, 4.0800e+02, 9.0000e+00, 5.0300e+02,\n",
       "       1.0000e+01, 6.0800e+02, 1.1000e+01, 7.2300e+02, 1.2000e+01,\n",
       "       8.4800e+02, 1.3000e+01, 9.8300e+02, 1.4000e+01, 1.1280e+03,\n",
       "       1.5000e+01, 1.2830e+03, 1.6000e+01, 1.4480e+03, 1.7000e+01,\n",
       "       1.6230e+03, 1.8000e+01, 1.8080e+03, 1.9000e+01, 2.0030e+03,\n",
       "       2.0000e+01, 2.2080e+03, 2.1000e+01, 2.4230e+03, 2.2000e+01,\n",
       "       2.6480e+03, 2.3000e+01, 2.8830e+03, 2.4000e+01, 3.1280e+03,\n",
       "       2.5000e+01, 3.3830e+03, 2.6000e+01, 3.6480e+03, 2.7000e+01,\n",
       "       3.9230e+03, 2.8000e+01, 4.2080e+03, 2.9000e+01, 4.5030e+03,\n",
       "       3.0000e+01, 4.8080e+03, 3.1000e+01, 5.1230e+03, 3.2000e+01,\n",
       "       5.4480e+03, 3.3000e+01, 5.7830e+03, 3.4000e+01, 6.1280e+03,\n",
       "       3.5000e+01, 6.4830e+03, 3.6000e+01, 6.8480e+03, 3.7000e+01,\n",
       "       7.2230e+03, 3.8000e+01, 7.6080e+03, 3.9000e+01, 8.0030e+03,\n",
       "       4.0000e+01, 8.4080e+03, 4.1000e+01, 8.8230e+03, 4.2000e+01,\n",
       "       9.2480e+03, 4.3000e+01, 9.6830e+03, 4.4000e+01, 1.0128e+04,\n",
       "       4.5000e+01, 1.0583e+04, 4.6000e+01, 1.1048e+04, 4.7000e+01,\n",
       "       1.1523e+04, 4.8000e+01, 1.2008e+04, 4.9000e+01, 1.2503e+04,\n",
       "       5.0000e+01, 1.3008e+04, 5.1000e+01, 1.3523e+04, 5.2000e+01,\n",
       "       1.4048e+04, 5.3000e+01, 1.4583e+04, 5.4000e+01, 1.5128e+04,\n",
       "       5.5000e+01, 1.5683e+04, 5.6000e+01, 1.6248e+04, 5.7000e+01,\n",
       "       1.6823e+04, 5.8000e+01, 1.7408e+04, 5.9000e+01, 1.8003e+04,\n",
       "       6.0000e+01, 1.8608e+04, 6.1000e+01, 1.9223e+04, 6.2000e+01,\n",
       "       1.9848e+04, 6.3000e+01, 2.0483e+04, 6.4000e+01, 2.1128e+04,\n",
       "       6.5000e+01, 2.1783e+04, 6.6000e+01, 2.2448e+04, 6.7000e+01,\n",
       "       2.3123e+04, 6.8000e+01, 2.3808e+04, 6.9000e+01, 2.4503e+04,\n",
       "       7.0000e+01, 2.5208e+04, 7.1000e+01, 2.5923e+04, 7.2000e+01,\n",
       "       2.6648e+04, 7.3000e+01, 2.7383e+04, 7.4000e+01, 2.8128e+04,\n",
       "       7.5000e+01, 2.8883e+04, 7.6000e+01, 2.9648e+04, 7.7000e+01,\n",
       "       3.0423e+04, 7.8000e+01, 3.1208e+04, 7.9000e+01, 3.2003e+04,\n",
       "       8.0000e+01, 3.2808e+04, 8.1000e+01, 3.3623e+04, 8.2000e+01,\n",
       "       3.4448e+04, 8.3000e+01, 3.5283e+04, 8.4000e+01, 3.6128e+04,\n",
       "       8.5000e+01, 3.6983e+04, 8.6000e+01, 3.7848e+04, 8.7000e+01,\n",
       "       3.8723e+04, 8.8000e+01, 3.9608e+04, 8.9000e+01, 4.0503e+04,\n",
       "       9.0000e+01, 4.1408e+04, 9.1000e+01, 4.2323e+04, 9.2000e+01,\n",
       "       4.3248e+04, 9.3000e+01, 4.4183e+04, 9.4000e+01, 4.5128e+04,\n",
       "       9.5000e+01, 4.6083e+04, 9.6000e+01, 4.7048e+04, 9.7000e+01,\n",
       "       4.8023e+04, 9.8000e+01, 4.9008e+04, 9.9000e+01, 5.0003e+04])"
      ]
     },
     "execution_count": 37,
     "metadata": {},
     "output_type": "execute_result"
    }
   ],
   "source": [
    "numeros = []\n",
    "\n",
    "for dat in datos: \n",
    "    for i in dat.split():\n",
    "        numeros.append(float(i))\n",
    "\n",
    "numeros = np.array(numeros)\n",
    "numeros"
   ]
  },
  {
   "cell_type": "code",
   "execution_count": 39,
   "metadata": {},
   "outputs": [
    {
     "data": {
      "text/plain": [
       "array([0.0000e+00, 8.0000e+00, 1.0000e+00, 2.3000e+01, 2.0000e+00,\n",
       "       4.8000e+01, 3.0000e+00, 8.3000e+01, 4.0000e+00, 1.2800e+02,\n",
       "       5.0000e+00, 1.8300e+02, 6.0000e+00, 2.4800e+02, 7.0000e+00,\n",
       "       3.2300e+02, 8.0000e+00, 4.0800e+02, 9.0000e+00, 5.0300e+02,\n",
       "       1.0000e+01, 6.0800e+02, 1.1000e+01, 7.2300e+02, 1.2000e+01,\n",
       "       8.4800e+02, 1.3000e+01, 9.8300e+02, 1.4000e+01, 1.1280e+03,\n",
       "       1.5000e+01, 1.2830e+03, 1.6000e+01, 1.4480e+03, 1.7000e+01,\n",
       "       1.6230e+03, 1.8000e+01, 1.8080e+03, 1.9000e+01, 2.0030e+03,\n",
       "       2.0000e+01, 2.2080e+03, 2.1000e+01, 2.4230e+03, 2.2000e+01,\n",
       "       2.6480e+03, 2.3000e+01, 2.8830e+03, 2.4000e+01, 3.1280e+03,\n",
       "       2.5000e+01, 3.3830e+03, 2.6000e+01, 3.6480e+03, 2.7000e+01,\n",
       "       3.9230e+03, 2.8000e+01, 4.2080e+03, 2.9000e+01, 4.5030e+03,\n",
       "       3.0000e+01, 4.8080e+03, 3.1000e+01, 5.1230e+03, 3.2000e+01,\n",
       "       5.4480e+03, 3.3000e+01, 5.7830e+03, 3.4000e+01, 6.1280e+03,\n",
       "       3.5000e+01, 6.4830e+03, 3.6000e+01, 6.8480e+03, 3.7000e+01,\n",
       "       7.2230e+03, 3.8000e+01, 7.6080e+03, 3.9000e+01, 8.0030e+03,\n",
       "       4.0000e+01, 8.4080e+03, 4.1000e+01, 8.8230e+03, 4.2000e+01,\n",
       "       9.2480e+03, 4.3000e+01, 9.6830e+03, 4.4000e+01, 1.0128e+04,\n",
       "       4.5000e+01, 1.0583e+04, 4.6000e+01, 1.1048e+04, 4.7000e+01,\n",
       "       1.1523e+04, 4.8000e+01, 1.2008e+04, 4.9000e+01, 1.2503e+04,\n",
       "       5.0000e+01, 1.3008e+04, 5.1000e+01, 1.3523e+04, 5.2000e+01,\n",
       "       1.4048e+04, 5.3000e+01, 1.4583e+04, 5.4000e+01, 1.5128e+04,\n",
       "       5.5000e+01, 1.5683e+04, 5.6000e+01, 1.6248e+04, 5.7000e+01,\n",
       "       1.6823e+04, 5.8000e+01, 1.7408e+04, 5.9000e+01, 1.8003e+04,\n",
       "       6.0000e+01, 1.8608e+04, 6.1000e+01, 1.9223e+04, 6.2000e+01,\n",
       "       1.9848e+04, 6.3000e+01, 2.0483e+04, 6.4000e+01, 2.1128e+04,\n",
       "       6.5000e+01, 2.1783e+04, 6.6000e+01, 2.2448e+04, 6.7000e+01,\n",
       "       2.3123e+04, 6.8000e+01, 2.3808e+04, 6.9000e+01, 2.4503e+04,\n",
       "       7.0000e+01, 2.5208e+04, 7.1000e+01, 2.5923e+04, 7.2000e+01,\n",
       "       2.6648e+04, 7.3000e+01, 2.7383e+04, 7.4000e+01, 2.8128e+04,\n",
       "       7.5000e+01, 2.8883e+04, 7.6000e+01, 2.9648e+04, 7.7000e+01,\n",
       "       3.0423e+04, 7.8000e+01, 3.1208e+04, 7.9000e+01, 3.2003e+04,\n",
       "       8.0000e+01, 3.2808e+04, 8.1000e+01, 3.3623e+04, 8.2000e+01,\n",
       "       3.4448e+04, 8.3000e+01, 3.5283e+04, 8.4000e+01, 3.6128e+04,\n",
       "       8.5000e+01, 3.6983e+04, 8.6000e+01, 3.7848e+04, 8.7000e+01,\n",
       "       3.8723e+04, 8.8000e+01, 3.9608e+04, 8.9000e+01, 4.0503e+04,\n",
       "       9.0000e+01, 4.1408e+04, 9.1000e+01, 4.2323e+04, 9.2000e+01,\n",
       "       4.3248e+04, 9.3000e+01, 4.4183e+04, 9.4000e+01, 4.5128e+04,\n",
       "       9.5000e+01, 4.6083e+04, 9.6000e+01, 4.7048e+04, 9.7000e+01,\n",
       "       4.8023e+04, 9.8000e+01, 4.9008e+04, 9.9000e+01, 5.0003e+04,\n",
       "       0.0000e+00, 8.0000e+00, 1.0000e+00, 2.3000e+01, 2.0000e+00,\n",
       "       4.8000e+01, 3.0000e+00, 8.3000e+01, 4.0000e+00, 1.2800e+02,\n",
       "       5.0000e+00, 1.8300e+02, 6.0000e+00, 2.4800e+02, 7.0000e+00,\n",
       "       3.2300e+02, 8.0000e+00, 4.0800e+02, 9.0000e+00, 5.0300e+02,\n",
       "       1.0000e+01, 6.0800e+02, 1.1000e+01, 7.2300e+02, 1.2000e+01,\n",
       "       8.4800e+02, 1.3000e+01, 9.8300e+02, 1.4000e+01, 1.1280e+03,\n",
       "       1.5000e+01, 1.2830e+03, 1.6000e+01, 1.4480e+03, 1.7000e+01,\n",
       "       1.6230e+03, 1.8000e+01, 1.8080e+03, 1.9000e+01, 2.0030e+03,\n",
       "       2.0000e+01, 2.2080e+03, 2.1000e+01, 2.4230e+03, 2.2000e+01,\n",
       "       2.6480e+03, 2.3000e+01, 2.8830e+03, 2.4000e+01, 3.1280e+03,\n",
       "       2.5000e+01, 3.3830e+03, 2.6000e+01, 3.6480e+03, 2.7000e+01,\n",
       "       3.9230e+03, 2.8000e+01, 4.2080e+03, 2.9000e+01, 4.5030e+03,\n",
       "       3.0000e+01, 4.8080e+03, 3.1000e+01, 5.1230e+03, 3.2000e+01,\n",
       "       5.4480e+03, 3.3000e+01, 5.7830e+03, 3.4000e+01, 6.1280e+03,\n",
       "       3.5000e+01, 6.4830e+03, 3.6000e+01, 6.8480e+03, 3.7000e+01,\n",
       "       7.2230e+03, 3.8000e+01, 7.6080e+03, 3.9000e+01, 8.0030e+03,\n",
       "       4.0000e+01, 8.4080e+03, 4.1000e+01, 8.8230e+03, 4.2000e+01,\n",
       "       9.2480e+03, 4.3000e+01, 9.6830e+03, 4.4000e+01, 1.0128e+04,\n",
       "       4.5000e+01, 1.0583e+04, 4.6000e+01, 1.1048e+04, 4.7000e+01,\n",
       "       1.1523e+04, 4.8000e+01, 1.2008e+04, 4.9000e+01, 1.2503e+04,\n",
       "       5.0000e+01, 1.3008e+04, 5.1000e+01, 1.3523e+04, 5.2000e+01,\n",
       "       1.4048e+04, 5.3000e+01, 1.4583e+04, 5.4000e+01, 1.5128e+04,\n",
       "       5.5000e+01, 1.5683e+04, 5.6000e+01, 1.6248e+04, 5.7000e+01,\n",
       "       1.6823e+04, 5.8000e+01, 1.7408e+04, 5.9000e+01, 1.8003e+04,\n",
       "       6.0000e+01, 1.8608e+04, 6.1000e+01, 1.9223e+04, 6.2000e+01,\n",
       "       1.9848e+04, 6.3000e+01, 2.0483e+04, 6.4000e+01, 2.1128e+04,\n",
       "       6.5000e+01, 2.1783e+04, 6.6000e+01, 2.2448e+04, 6.7000e+01,\n",
       "       2.3123e+04, 6.8000e+01, 2.3808e+04, 6.9000e+01, 2.4503e+04,\n",
       "       7.0000e+01, 2.5208e+04, 7.1000e+01, 2.5923e+04, 7.2000e+01,\n",
       "       2.6648e+04, 7.3000e+01, 2.7383e+04, 7.4000e+01, 2.8128e+04,\n",
       "       7.5000e+01, 2.8883e+04, 7.6000e+01, 2.9648e+04, 7.7000e+01,\n",
       "       3.0423e+04, 7.8000e+01, 3.1208e+04, 7.9000e+01, 3.2003e+04,\n",
       "       8.0000e+01, 3.2808e+04, 8.1000e+01, 3.3623e+04, 8.2000e+01,\n",
       "       3.4448e+04, 8.3000e+01, 3.5283e+04, 8.4000e+01, 3.6128e+04,\n",
       "       8.5000e+01, 3.6983e+04, 8.6000e+01, 3.7848e+04, 8.7000e+01,\n",
       "       3.8723e+04, 8.8000e+01, 3.9608e+04, 8.9000e+01, 4.0503e+04,\n",
       "       9.0000e+01, 4.1408e+04, 9.1000e+01, 4.2323e+04, 9.2000e+01,\n",
       "       4.3248e+04, 9.3000e+01, 4.4183e+04, 9.4000e+01, 4.5128e+04,\n",
       "       9.5000e+01, 4.6083e+04, 9.6000e+01, 4.7048e+04, 9.7000e+01,\n",
       "       4.8023e+04, 9.8000e+01, 4.9008e+04, 9.9000e+01, 5.0003e+04])"
      ]
     },
     "execution_count": 39,
     "metadata": {},
     "output_type": "execute_result"
    }
   ],
   "source": [
    "daots = []\n",
    "numeros = []\n",
    "\n",
    "entrada = open(\"datos.dat\",\"r\")\n",
    "for linea in entrada:\n",
    "    datos.append(linea)\n",
    "\n",
    "for i in range(len(datos)):\n",
    "    for j in datos[i].split():\n",
    "        numeros.append(float(j))\n",
    "\n",
    "numeros = np.array(numeros)\n",
    "numeros"
   ]
  },
  {
   "cell_type": "code",
   "execution_count": null,
   "metadata": {},
   "outputs": [],
   "source": []
  },
  {
   "cell_type": "code",
   "execution_count": 60,
   "metadata": {},
   "outputs": [
    {
     "name": "stdout",
     "output_type": "stream",
     "text": [
      "[0.0, 1.0, 2.0, 3.0, 4.0, 5.0, 6.0, 7.0, 8.0, 9.0, 10.0, 11.0, 12.0, 13.0, 14.0, 15.0, 16.0, 17.0, 18.0, 19.0, 20.0, 21.0, 22.0, 23.0, 24.0, 25.0, 26.0, 27.0, 28.0, 29.0, 30.0, 31.0, 32.0, 33.0, 34.0, 35.0, 36.0, 37.0, 38.0, 39.0, 40.0, 41.0, 42.0, 43.0, 44.0, 45.0, 46.0, 47.0, 48.0, 49.0, 50.0, 51.0, 52.0, 53.0, 54.0, 55.0, 56.0, 57.0, 58.0, 59.0, 60.0, 61.0, 62.0, 63.0, 64.0, 65.0, 66.0, 67.0, 68.0, 69.0, 70.0, 71.0, 72.0, 73.0, 74.0, 75.0, 76.0, 77.0, 78.0, 79.0, 80.0, 81.0, 82.0, 83.0, 84.0, 85.0, 86.0, 87.0, 88.0, 89.0, 90.0, 91.0, 92.0, 93.0, 94.0, 95.0, 96.0, 97.0, 98.0, 99.0]\n",
      "[8.0, 23.0, 48.0, 83.0, 128.0, 183.0, 248.0, 323.0, 408.0, 503.0, 608.0, 723.0, 848.0, 983.0, 1128.0, 1283.0, 1448.0, 1623.0, 1808.0, 2003.0, 2208.0, 2423.0, 2648.0, 2883.0, 3128.0, 3383.0, 3648.0, 3923.0, 4208.0, 4503.0, 4808.0, 5123.0, 5448.0, 5783.0, 6128.0, 6483.0, 6848.0, 7223.0, 7608.0, 8003.0, 8408.0, 8823.0, 9248.0, 9683.0, 10128.0, 10583.0, 11048.0, 11523.0, 12008.0, 12503.0, 13008.0, 13523.0, 14048.0, 14583.0, 15128.0, 15683.0, 16248.0, 16823.0, 17408.0, 18003.0, 18608.0, 19223.0, 19848.0, 20483.0, 21128.0, 21783.0, 22448.0, 23123.0, 23808.0, 24503.0, 25208.0, 25923.0, 26648.0, 27383.0, 28128.0, 28883.0, 29648.0, 30423.0, 31208.0, 32003.0, 32808.0, 33623.0, 34448.0, 35283.0, 36128.0, 36983.0, 37848.0, 38723.0, 39608.0, 40503.0, 41408.0, 42323.0, 43248.0, 44183.0, 45128.0, 46083.0, 47048.0, 48023.0, 49008.0, 50003.0]\n"
     ]
    }
   ],
   "source": [
    "datos = []\n",
    "x = []\n",
    "y = []\n",
    "\n",
    "entrada = open(\"datos.dat\",\"r\")\n",
    "for linea in entrada:\n",
    "    datos.append(linea.split())\n",
    "\n",
    "for elemento in datos:\n",
    "    x.append(float(elemento[0]))\n",
    "    y.append(float(elemento[1]))\n",
    "\n",
    "print(x)\n",
    "print(y)"
   ]
  },
  {
   "cell_type": "code",
   "execution_count": 61,
   "metadata": {},
   "outputs": [
    {
     "name": "stdout",
     "output_type": "stream",
     "text": [
      "[ 0.  1.  2.  3.  4.  5.  6.  7.  8.  9. 10. 11. 12. 13. 14. 15. 16. 17.\n",
      " 18. 19. 20. 21. 22. 23. 24. 25. 26. 27. 28. 29. 30. 31. 32. 33. 34. 35.\n",
      " 36. 37. 38. 39. 40. 41. 42. 43. 44. 45. 46. 47. 48. 49. 50. 51. 52. 53.\n",
      " 54. 55. 56. 57. 58. 59. 60. 61. 62. 63. 64. 65. 66. 67. 68. 69. 70. 71.\n",
      " 72. 73. 74. 75. 76. 77. 78. 79. 80. 81. 82. 83. 84. 85. 86. 87. 88. 89.\n",
      " 90. 91. 92. 93. 94. 95. 96. 97. 98. 99.]\n",
      "[8.0000e+00 2.3000e+01 4.8000e+01 8.3000e+01 1.2800e+02 1.8300e+02\n",
      " 2.4800e+02 3.2300e+02 4.0800e+02 5.0300e+02 6.0800e+02 7.2300e+02\n",
      " 8.4800e+02 9.8300e+02 1.1280e+03 1.2830e+03 1.4480e+03 1.6230e+03\n",
      " 1.8080e+03 2.0030e+03 2.2080e+03 2.4230e+03 2.6480e+03 2.8830e+03\n",
      " 3.1280e+03 3.3830e+03 3.6480e+03 3.9230e+03 4.2080e+03 4.5030e+03\n",
      " 4.8080e+03 5.1230e+03 5.4480e+03 5.7830e+03 6.1280e+03 6.4830e+03\n",
      " 6.8480e+03 7.2230e+03 7.6080e+03 8.0030e+03 8.4080e+03 8.8230e+03\n",
      " 9.2480e+03 9.6830e+03 1.0128e+04 1.0583e+04 1.1048e+04 1.1523e+04\n",
      " 1.2008e+04 1.2503e+04 1.3008e+04 1.3523e+04 1.4048e+04 1.4583e+04\n",
      " 1.5128e+04 1.5683e+04 1.6248e+04 1.6823e+04 1.7408e+04 1.8003e+04\n",
      " 1.8608e+04 1.9223e+04 1.9848e+04 2.0483e+04 2.1128e+04 2.1783e+04\n",
      " 2.2448e+04 2.3123e+04 2.3808e+04 2.4503e+04 2.5208e+04 2.5923e+04\n",
      " 2.6648e+04 2.7383e+04 2.8128e+04 2.8883e+04 2.9648e+04 3.0423e+04\n",
      " 3.1208e+04 3.2003e+04 3.2808e+04 3.3623e+04 3.4448e+04 3.5283e+04\n",
      " 3.6128e+04 3.6983e+04 3.7848e+04 3.8723e+04 3.9608e+04 4.0503e+04\n",
      " 4.1408e+04 4.2323e+04 4.3248e+04 4.4183e+04 4.5128e+04 4.6083e+04\n",
      " 4.7048e+04 4.8023e+04 4.9008e+04 5.0003e+04]\n"
     ]
    }
   ],
   "source": [
    "x = np.array(x)\n",
    "y = np.array(y)\n",
    "\n",
    "print(x)\n",
    "print(y)"
   ]
  },
  {
   "cell_type": "markdown",
   "metadata": {},
   "source": [
    "Hagamos esto de nuevo pero ahora con Pandas"
   ]
  },
  {
   "cell_type": "code",
   "execution_count": 65,
   "metadata": {},
   "outputs": [],
   "source": [
    "import pandas as pd"
   ]
  },
  {
   "cell_type": "code",
   "execution_count": 90,
   "metadata": {},
   "outputs": [
    {
     "data": {
      "text/html": [
       "<div>\n",
       "<style scoped>\n",
       "    .dataframe tbody tr th:only-of-type {\n",
       "        vertical-align: middle;\n",
       "    }\n",
       "\n",
       "    .dataframe tbody tr th {\n",
       "        vertical-align: top;\n",
       "    }\n",
       "\n",
       "    .dataframe thead th {\n",
       "        text-align: right;\n",
       "    }\n",
       "</style>\n",
       "<table border=\"1\" class=\"dataframe\">\n",
       "  <thead>\n",
       "    <tr style=\"text-align: right;\">\n",
       "      <th></th>\n",
       "      <th>x</th>\n",
       "      <th>y</th>\n",
       "    </tr>\n",
       "  </thead>\n",
       "  <tbody>\n",
       "    <tr>\n",
       "      <th>0</th>\n",
       "      <td>0.0</td>\n",
       "      <td>8.0</td>\n",
       "    </tr>\n",
       "    <tr>\n",
       "      <th>1</th>\n",
       "      <td>1.0</td>\n",
       "      <td>23.0</td>\n",
       "    </tr>\n",
       "    <tr>\n",
       "      <th>2</th>\n",
       "      <td>2.0</td>\n",
       "      <td>48.0</td>\n",
       "    </tr>\n",
       "    <tr>\n",
       "      <th>3</th>\n",
       "      <td>3.0</td>\n",
       "      <td>83.0</td>\n",
       "    </tr>\n",
       "    <tr>\n",
       "      <th>4</th>\n",
       "      <td>4.0</td>\n",
       "      <td>128.0</td>\n",
       "    </tr>\n",
       "    <tr>\n",
       "      <th>...</th>\n",
       "      <td>...</td>\n",
       "      <td>...</td>\n",
       "    </tr>\n",
       "    <tr>\n",
       "      <th>95</th>\n",
       "      <td>95.0</td>\n",
       "      <td>46083.0</td>\n",
       "    </tr>\n",
       "    <tr>\n",
       "      <th>96</th>\n",
       "      <td>96.0</td>\n",
       "      <td>47048.0</td>\n",
       "    </tr>\n",
       "    <tr>\n",
       "      <th>97</th>\n",
       "      <td>97.0</td>\n",
       "      <td>48023.0</td>\n",
       "    </tr>\n",
       "    <tr>\n",
       "      <th>98</th>\n",
       "      <td>98.0</td>\n",
       "      <td>49008.0</td>\n",
       "    </tr>\n",
       "    <tr>\n",
       "      <th>99</th>\n",
       "      <td>99.0</td>\n",
       "      <td>50003.0</td>\n",
       "    </tr>\n",
       "  </tbody>\n",
       "</table>\n",
       "<p>100 rows × 2 columns</p>\n",
       "</div>"
      ],
      "text/plain": [
       "       x        y\n",
       "0    0.0      8.0\n",
       "1    1.0     23.0\n",
       "2    2.0     48.0\n",
       "3    3.0     83.0\n",
       "4    4.0    128.0\n",
       "..   ...      ...\n",
       "95  95.0  46083.0\n",
       "96  96.0  47048.0\n",
       "97  97.0  48023.0\n",
       "98  98.0  49008.0\n",
       "99  99.0  50003.0\n",
       "\n",
       "[100 rows x 2 columns]"
      ]
     },
     "execution_count": 90,
     "metadata": {},
     "output_type": "execute_result"
    }
   ],
   "source": [
    "datos = pd.read_csv(\"datos.dat\",sep='\\t',header=None,dtype='float')\n",
    "datos.columns=([\"x\",\"y\"])\n",
    "datos"
   ]
  },
  {
   "cell_type": "code",
   "execution_count": 91,
   "metadata": {},
   "outputs": [
    {
     "name": "stdout",
     "output_type": "stream",
     "text": [
      "[ 0.  1.  2.  3.  4.  5.  6.  7.  8.  9. 10. 11. 12. 13. 14. 15. 16. 17.\n",
      " 18. 19. 20. 21. 22. 23. 24. 25. 26. 27. 28. 29. 30. 31. 32. 33. 34. 35.\n",
      " 36. 37. 38. 39. 40. 41. 42. 43. 44. 45. 46. 47. 48. 49. 50. 51. 52. 53.\n",
      " 54. 55. 56. 57. 58. 59. 60. 61. 62. 63. 64. 65. 66. 67. 68. 69. 70. 71.\n",
      " 72. 73. 74. 75. 76. 77. 78. 79. 80. 81. 82. 83. 84. 85. 86. 87. 88. 89.\n",
      " 90. 91. 92. 93. 94. 95. 96. 97. 98. 99.]\n",
      "[8.0000e+00 2.3000e+01 4.8000e+01 8.3000e+01 1.2800e+02 1.8300e+02\n",
      " 2.4800e+02 3.2300e+02 4.0800e+02 5.0300e+02 6.0800e+02 7.2300e+02\n",
      " 8.4800e+02 9.8300e+02 1.1280e+03 1.2830e+03 1.4480e+03 1.6230e+03\n",
      " 1.8080e+03 2.0030e+03 2.2080e+03 2.4230e+03 2.6480e+03 2.8830e+03\n",
      " 3.1280e+03 3.3830e+03 3.6480e+03 3.9230e+03 4.2080e+03 4.5030e+03\n",
      " 4.8080e+03 5.1230e+03 5.4480e+03 5.7830e+03 6.1280e+03 6.4830e+03\n",
      " 6.8480e+03 7.2230e+03 7.6080e+03 8.0030e+03 8.4080e+03 8.8230e+03\n",
      " 9.2480e+03 9.6830e+03 1.0128e+04 1.0583e+04 1.1048e+04 1.1523e+04\n",
      " 1.2008e+04 1.2503e+04 1.3008e+04 1.3523e+04 1.4048e+04 1.4583e+04\n",
      " 1.5128e+04 1.5683e+04 1.6248e+04 1.6823e+04 1.7408e+04 1.8003e+04\n",
      " 1.8608e+04 1.9223e+04 1.9848e+04 2.0483e+04 2.1128e+04 2.1783e+04\n",
      " 2.2448e+04 2.3123e+04 2.3808e+04 2.4503e+04 2.5208e+04 2.5923e+04\n",
      " 2.6648e+04 2.7383e+04 2.8128e+04 2.8883e+04 2.9648e+04 3.0423e+04\n",
      " 3.1208e+04 3.2003e+04 3.2808e+04 3.3623e+04 3.4448e+04 3.5283e+04\n",
      " 3.6128e+04 3.6983e+04 3.7848e+04 3.8723e+04 3.9608e+04 4.0503e+04\n",
      " 4.1408e+04 4.2323e+04 4.3248e+04 4.4183e+04 4.5128e+04 4.6083e+04\n",
      " 4.7048e+04 4.8023e+04 4.9008e+04 5.0003e+04]\n"
     ]
    }
   ],
   "source": [
    "y = datos[\"y\"].values\n",
    "x = datos[\"x\"].values\n",
    "\n",
    "print(x)\n",
    "print(y)"
   ]
  },
  {
   "cell_type": "code",
   "execution_count": 114,
   "metadata": {},
   "outputs": [],
   "source": [
    "datosx = open(\"datos_clase.txt\",'w')"
   ]
  },
  {
   "cell_type": "code",
   "execution_count": 115,
   "metadata": {},
   "outputs": [],
   "source": [
    "for X,Y in zip(x,y):\n",
    "    datosx.write(\"%g\\t%g\\n\" % (X,Y)) # El \\n es un salto de línea (enter)"
   ]
  },
  {
   "cell_type": "code",
   "execution_count": 112,
   "metadata": {},
   "outputs": [
    {
     "data": {
      "text/plain": [
       "8"
      ]
     },
     "execution_count": 112,
     "metadata": {},
     "output_type": "execute_result"
    }
   ],
   "source": [
    "datosx.write(\"fasdlakd\")"
   ]
  },
  {
   "cell_type": "code",
   "execution_count": 116,
   "metadata": {},
   "outputs": [],
   "source": [
    "datosx.close()"
   ]
  },
  {
   "cell_type": "markdown",
   "metadata": {},
   "source": [
    "El segundo argumento, `\"r\"`, es para indicar que se va a leer (*“read”*) el archivo. \n",
    "\n",
    "El objeto `entrada` ahora representa el archivo."
   ]
  },
  {
   "cell_type": "markdown",
   "metadata": {},
   "source": [
    "Para leer del archivo abierto, hay varias posibilidades. \n",
    "Podemos leer todo de un golpe con `entrada.read()`, \n",
    "\n",
    "leer todo por líneas con `entrada.readlines()`, \n",
    "\n",
    "o línea por línea con `entrada.readline()`. \n",
    "\n",
    "Sin embargo, lo que se ha leído ya no se puede leer de nuevo sin cerrar el archivo con `entrada.close()` y volverlo a abrir.\n",
    "\n",
    "Por ejemplo, podemos utilizar"
   ]
  },
  {
   "cell_type": "code",
   "execution_count": 15,
   "metadata": {},
   "outputs": [
    {
     "name": "stdout",
     "output_type": "stream",
     "text": [
      "0 \t 8 \n",
      "\n",
      "1 \t 23 \n",
      "\n",
      "2 \t 48 \n",
      "\n",
      "3 \t 83 \n",
      "\n",
      "4 \t 128 \n",
      "\n",
      "5 \t 183 \n",
      "\n",
      "6 \t 248 \n",
      "\n",
      "7 \t 323 \n",
      "\n",
      "8 \t 408 \n",
      "\n",
      "9 \t 503 \n",
      "\n",
      "10 \t 608 \n",
      "\n",
      "11 \t 723 \n",
      "\n",
      "12 \t 848 \n",
      "\n",
      "13 \t 983 \n",
      "\n",
      "14 \t 1128 \n",
      "\n",
      "15 \t 1283 \n",
      "\n",
      "16 \t 1448 \n",
      "\n",
      "17 \t 1623 \n",
      "\n",
      "18 \t 1808 \n",
      "\n",
      "19 \t 2003 \n",
      "\n",
      "20 \t 2208 \n",
      "\n",
      "21 \t 2423 \n",
      "\n",
      "22 \t 2648 \n",
      "\n",
      "23 \t 2883 \n",
      "\n",
      "24 \t 3128 \n",
      "\n",
      "25 \t 3383 \n",
      "\n",
      "26 \t 3648 \n",
      "\n",
      "27 \t 3923 \n",
      "\n",
      "28 \t 4208 \n",
      "\n",
      "29 \t 4503 \n",
      "\n",
      "30 \t 4808 \n",
      "\n",
      "31 \t 5123 \n",
      "\n",
      "32 \t 5448 \n",
      "\n",
      "33 \t 5783 \n",
      "\n",
      "34 \t 6128 \n",
      "\n",
      "35 \t 6483 \n",
      "\n",
      "36 \t 6848 \n",
      "\n",
      "37 \t 7223 \n",
      "\n",
      "38 \t 7608 \n",
      "\n",
      "39 \t 8003 \n",
      "\n",
      "40 \t 8408 \n",
      "\n",
      "41 \t 8823 \n",
      "\n",
      "42 \t 9248 \n",
      "\n",
      "43 \t 9683 \n",
      "\n",
      "44 \t 10128 \n",
      "\n",
      "45 \t 10583 \n",
      "\n",
      "46 \t 11048 \n",
      "\n",
      "47 \t 11523 \n",
      "\n",
      "48 \t 12008 \n",
      "\n",
      "49 \t 12503 \n",
      "\n",
      "50 \t 13008 \n",
      "\n",
      "51 \t 13523 \n",
      "\n",
      "52 \t 14048 \n",
      "\n",
      "53 \t 14583 \n",
      "\n",
      "54 \t 15128 \n",
      "\n",
      "55 \t 15683 \n",
      "\n",
      "56 \t 16248 \n",
      "\n",
      "57 \t 16823 \n",
      "\n",
      "58 \t 17408 \n",
      "\n",
      "59 \t 18003 \n",
      "\n",
      "60 \t 18608 \n",
      "\n",
      "61 \t 19223 \n",
      "\n",
      "62 \t 19848 \n",
      "\n",
      "63 \t 20483 \n",
      "\n",
      "64 \t 21128 \n",
      "\n",
      "65 \t 21783 \n",
      "\n",
      "66 \t 22448 \n",
      "\n",
      "67 \t 23123 \n",
      "\n",
      "68 \t 23808 \n",
      "\n",
      "69 \t 24503 \n",
      "\n",
      "70 \t 25208 \n",
      "\n",
      "71 \t 25923 \n",
      "\n",
      "72 \t 26648 \n",
      "\n",
      "73 \t 27383 \n",
      "\n",
      "74 \t 28128 \n",
      "\n",
      "75 \t 28883 \n",
      "\n",
      "76 \t 29648 \n",
      "\n",
      "77 \t 30423 \n",
      "\n",
      "78 \t 31208 \n",
      "\n",
      "79 \t 32003 \n",
      "\n",
      "80 \t 32808 \n",
      "\n",
      "81 \t 33623 \n",
      "\n",
      "82 \t 34448 \n",
      "\n",
      "83 \t 35283 \n",
      "\n",
      "84 \t 36128 \n",
      "\n",
      "85 \t 36983 \n",
      "\n",
      "86 \t 37848 \n",
      "\n",
      "87 \t 38723 \n",
      "\n",
      "88 \t 39608 \n",
      "\n",
      "89 \t 40503 \n",
      "\n",
      "90 \t 41408 \n",
      "\n",
      "91 \t 42323 \n",
      "\n",
      "92 \t 43248 \n",
      "\n",
      "93 \t 44183 \n",
      "\n",
      "94 \t 45128 \n",
      "\n",
      "95 \t 46083 \n",
      "\n",
      "96 \t 47048 \n",
      "\n",
      "97 \t 48023 \n",
      "\n",
      "98 \t 49008 \n",
      "\n",
      "99 \t 50003 \n",
      "\n"
     ]
    }
   ],
   "source": [
    "for linea in entrada.readlines():\n",
    "    print(linea)"
   ]
  },
  {
   "cell_type": "markdown",
   "metadata": {},
   "source": [
    "Sin embargo, tal vez la opción más fácil e intuitiva es:"
   ]
  },
  {
   "cell_type": "code",
   "execution_count": 1,
   "metadata": {},
   "outputs": [],
   "source": [
    "for linea in entrada:\n",
    "    print(linea)"
   ]
  },
  {
   "cell_type": "markdown",
   "metadata": {},
   "source": [
    "Es decir, el archivo ¡se comporta como una secuencia!\n",
    "\n",
    "Ahora bien, la línea viene como una sola cadena, con espacios etc. Para extraer la información, primero necesitamos dividirlo en palabras:"
   ]
  },
  {
   "cell_type": "code",
   "execution_count": null,
   "metadata": {},
   "outputs": [],
   "source": [
    "palabras = linea.split()"
   ]
  },
  {
   "cell_type": "markdown",
   "metadata": {},
   "source": [
    "Si todos los datos en realidad son números, entonces tenemos que procesar cada palabra, convirtiéndola en un número:"
   ]
  },
  {
   "cell_type": "code",
   "execution_count": null,
   "metadata": {},
   "outputs": [],
   "source": [
    "datos = []\n",
    "for i in palabras:\n",
    "    datos.append(float(i))"
   ]
  },
  {
   "cell_type": "markdown",
   "metadata": {},
   "source": [
    "Resulta que hay una manera más fácil, de más alto nivel y más rápida de hacer esto:"
   ]
  },
  {
   "cell_type": "code",
   "execution_count": null,
   "metadata": {},
   "outputs": [],
   "source": [
    "map(float, palabras)"
   ]
  },
  {
   "cell_type": "markdown",
   "metadata": {},
   "source": [
    "Eso literalmente mapea la función float sobre la lista palabras."
   ]
  },
  {
   "cell_type": "markdown",
   "metadata": {},
   "source": [
    "Combinando todo, podemos escribir:"
   ]
  },
  {
   "cell_type": "code",
   "execution_count": 4,
   "metadata": {},
   "outputs": [],
   "source": [
    "entrada = open(\"datos.dat\", \"r\")\n",
    "\n",
    "for linea in entrada:\n",
    "    datos = map(float, linea.split())"
   ]
  },
  {
   "cell_type": "markdown",
   "metadata": {},
   "source": [
    "Y ya dentro del bucle podemos manipular los datos como queramos."
   ]
  },
  {
   "cell_type": "markdown",
   "metadata": {},
   "source": [
    "#### **Ejercicio:** \n",
    "\n",
    "Escribe un programa que lea el archivo `datos.dat` y guarde en una arreglo de `numpy` los datos de la primera columna y en otro diferente los datos de la segunda columna."
   ]
  },
  {
   "cell_type": "code",
   "execution_count": 4,
   "metadata": {},
   "outputs": [],
   "source": [
    "datos = []\n",
    "entrada = open(\"datos.dat\", \"r\")\n",
    "\n",
    "for linea in entrada:     # creamos un bufer y guardamos cada linea en la lista datos\n",
    "    datos.append(linea)"
   ]
  },
  {
   "cell_type": "code",
   "execution_count": 9,
   "metadata": {},
   "outputs": [],
   "source": [
    "A = []\n",
    "B = []\n",
    "\n",
    "for d in datos:        # para cada linea en la lista datos\n",
    "    data = d.split('\\t')     # separamos los datos por tabulador, resultando en un vector de dos estradas\n",
    "    A.append(float(data[0].strip()))     # quitamos a la primera entrada los espacios y otros caracteres y lo guardamos como flotante en la lista A\n",
    "    B.append(float(data[1].strip()))     # lo mismo para la segunda entrada y la lista B\n",
    "\n",
    "A = np.array(A)    # finalmente transformamos la listas A y B, en arreglos de numpy\n",
    "B = np.array(B)"
   ]
  },
  {
   "cell_type": "code",
   "execution_count": null,
   "metadata": {},
   "outputs": [],
   "source": []
  },
  {
   "cell_type": "markdown",
   "metadata": {},
   "source": [
    "### SALIDA\n",
    "\n",
    "Como ya hemos visto en el *interprete de comandos python*, en *ipython* o *Jupyter*, para mandar un resultado a la salida simplemente hay que definirlo y después escribirlo y presionar enter."
   ]
  },
  {
   "cell_type": "code",
   "execution_count": null,
   "metadata": {},
   "outputs": [],
   "source": [
    "a = 17.3\n",
    "a"
   ]
  },
  {
   "cell_type": "code",
   "execution_count": null,
   "metadata": {},
   "outputs": [],
   "source": [
    "b = \"hola\"\n",
    "b"
   ]
  },
  {
   "cell_type": "markdown",
   "metadata": {},
   "source": [
    "Adicionalmente se puede utilizar el comando `print()`"
   ]
  },
  {
   "cell_type": "code",
   "execution_count": null,
   "metadata": {},
   "outputs": [],
   "source": [
    "print(\"imprimiendo datos\", a, b)"
   ]
  },
  {
   "cell_type": "markdown",
   "metadata": {},
   "source": [
    "También, como ya lo vimos, si ejecutamos nuestro codigo como un *script* (de python) desde la terminal (**_bash_**), podemos mandar las salida del programa a un archivo con:\n",
    "\n",
    "`python script.py > salida.dat`"
   ]
  },
  {
   "cell_type": "markdown",
   "metadata": {},
   "source": [
    "El método de redirigir la salida es rápido y fácil. Sin embargo, no es de ninguna manera flexible, por ejemplo no podemos especificar desde nuestro programa el nombre del archivo de salida, ni escribir en dos archivos diferentes. Para hacer eso, necesitamos poder abrir un archivo para escribirse:"
   ]
  },
  {
   "cell_type": "code",
   "execution_count": null,
   "metadata": {},
   "outputs": [],
   "source": [
    "salida = open(\"resultados.dat\", \"w\")  # Esto es un buffer de salida"
   ]
  },
  {
   "cell_type": "markdown",
   "metadata": {},
   "source": [
    "La parte más complicada viene al momento de escribir en el archivo. Para hacerlo, ocupamos la función:\n",
    "\n",
    "`salida.write()`"
   ]
  },
  {
   "cell_type": "markdown",
   "metadata": {},
   "source": [
    "Sin embargo, esta función puede escribir solamente cadenas. Por lo tanto, si queremos escribir números contenidos en variables, es necesario convertirlos primero a la forma de cadena.\n",
    "\n",
    "Una manera de hacer eso es con la función str(), y concatenar (juntar) distintas cadenas con +:\n",
    "\n"
   ]
  },
  {
   "cell_type": "code",
   "execution_count": null,
   "metadata": {},
   "outputs": [],
   "source": [
    "a = 3\n",
    "s = \"El valor de a es \" + str(a)\n",
    "\n",
    "print(s)"
   ]
  },
  {
   "cell_type": "markdown",
   "metadata": {},
   "source": [
    "Sin embargo, para largas secuencias de datos eso se vuelve latoso."
   ]
  },
  {
   "cell_type": "markdown",
   "metadata": {},
   "source": [
    "La manera más elegante de hacerlo es con la sustitución de variables en cadenas . En una cadena ponemos una secuencia especial de caracteres, empezando por `%`, que indica que se sustituirá el valor de una variable:"
   ]
  },
  {
   "cell_type": "code",
   "execution_count": null,
   "metadata": {},
   "outputs": [],
   "source": [
    "a = 3\n",
    "s = \"El valor de a es %d\" % a\n",
    "\n",
    "b = 3.5; c = 10.1\n",
    "s = \"b = %g; c = %g\" % (b, c)"
   ]
  },
  {
   "cell_type": "markdown",
   "metadata": {},
   "source": [
    "El carácter después del `%` indica el tipo de variable que incluir en la cadena: \n",
    "\n",
    "- **`d`** corresponde a un _**entero**_, \n",
    "\n",
    "\n",
    "- **`g`**  o **`f`**  a un _**flotante**_ y \n",
    "\n",
    "\n",
    "- **`s`**  a _**otra cadena**_.\n",
    "\n",
    "\n",
    "Finalmente ahora podemos imprimir en el archivo, por ejemplo:"
   ]
  },
  {
   "cell_type": "code",
   "execution_count": null,
   "metadata": {},
   "outputs": [],
   "source": [
    "salida.write(\" %g\\t %g\" % (a,b) )"
   ]
  },
  {
   "cell_type": "markdown",
   "metadata": {},
   "source": [
    "Aquí, **`\\t`** representa un tabulador, y **`\\n`** una nueva línea."
   ]
  },
  {
   "cell_type": "markdown",
   "metadata": {},
   "source": [
    "#### Ejemplo"
   ]
  },
  {
   "cell_type": "code",
   "execution_count": 120,
   "metadata": {},
   "outputs": [],
   "source": [
    "def fibonacci(n):\n",
    "    \n",
    "    output = []\n",
    "    \n",
    "    f1,f2 = 1,1\n",
    "\n",
    "    while f2 < n:\n",
    "        output.append(f2)        \n",
    "        f1,f2 = f2,f1+f2\n",
    "    \n",
    "    return output"
   ]
  },
  {
   "cell_type": "code",
   "execution_count": 125,
   "metadata": {},
   "outputs": [
    {
     "name": "stdout",
     "output_type": "stream",
     "text": [
      "[1, 2, 3, 5, 8, 13, 21, 34, 55, 89, 144, 233, 377, 610, 987, 1597, 2584, 4181, 6765]\n"
     ]
    },
    {
     "data": {
      "text/plain": [
       "19"
      ]
     },
     "execution_count": 125,
     "metadata": {},
     "output_type": "execute_result"
    }
   ],
   "source": [
    "print(fibonacci(10000))\n",
    "len(fibonacci(10000))"
   ]
  },
  {
   "cell_type": "code",
   "execution_count": 126,
   "metadata": {},
   "outputs": [],
   "source": [
    "fibo = fibonacci(10000)\n",
    "\n",
    "outputBuff = open(\"fibonaccioso.dat\", \"w\") # Va a abrir un buffer de escritura\n",
    "\n",
    "for n in fibo:\n",
    "    outputBuff.write(\"%d \\n\" % n) # d = entero\n",
    "#     outputBuff.write(\"%f \\n\" % n)\n",
    "\n",
    "outputBuff.close()"
   ]
  },
  {
   "cell_type": "code",
   "execution_count": 134,
   "metadata": {},
   "outputs": [],
   "source": [
    "# Esto ya no sobrescribe; pone el texto seguido de lo último dentro\n",
    "\n",
    "fibo2 = fibonacci(10000)\n",
    "\n",
    "with open(\"fibonaccioso2.dat\", 'a') as out:\n",
    "    for n in fibo2:\n",
    "        out.write(str(n) + '\\n')\n"
   ]
  },
  {
   "cell_type": "markdown",
   "metadata": {},
   "source": [
    "## Scripts de Python."
   ]
  },
  {
   "cell_type": "markdown",
   "metadata": {},
   "source": [
    "Una vez que las secuencias de comandos se complican, podría pasar que queramos repetir la misma secuencia varias veces o bien reusar algunas secuencias de comandos, sin embargo esto significaría reescribir todo nuevamente en el interprete de comandos, o estar editando y volviendo a correr las celdas en *Jupyter*.\n",
    "\n",
    "Entonces sería conveniente poder guardar bloques de instrucciones completos y correrlos de una sola vez.\n",
    "Esto es posible realizando un *programa*, o _**script**_. \n",
    "\n",
    "Esto consiste en un **archivo de texto**, cuyo nombre termina en **.py**, en el cual se escribe y guarda la secuencia de comandos.\n",
    "\n",
    "Por ejemplo, consideremos el siguiente código: "
   ]
  },
  {
   "cell_type": "code",
   "execution_count": null,
   "metadata": {},
   "outputs": [],
   "source": [
    "from fractions import Fraction\n",
    "\n",
    "a = Fraction(3, 5)\n",
    "b = Fraction(1)\n",
    "c = a + b\n",
    "d = Fraction(4, 6)\n",
    "d \n",
    "e = a + d\n",
    "print(a,b,c,d,e)"
   ]
  },
  {
   "cell_type": "markdown",
   "metadata": {},
   "source": [
    "podemos escribirlo en un editor de textos y salvarlo como un archivo cuad.py. Y así entonces podemos correr el código desde **ipython** o _**Jupyter Notebook**_, de la siguiente manera:"
   ]
  },
  {
   "cell_type": "code",
   "execution_count": null,
   "metadata": {},
   "outputs": [],
   "source": [
    "run cuad.py"
   ]
  },
  {
   "cell_type": "markdown",
   "metadata": {},
   "source": [
    "**Nota:** si no estamos en el mismo directorio donde se guardo el archivo script.py, habrá que especificar la ruta relativa o absoluta según sea el caso."
   ]
  },
  {
   "cell_type": "markdown",
   "metadata": {},
   "source": [
    "Alternativamente, podemos tratar el script como un *programa* (en Linux) en sí, y **ejecutarlo desde el shell**:\n",
    "\n",
    "**`$>`**`python cuad.py`\n",
    "\n",
    "**Nota:** Al terminar, el control regresa al shell, y perdemos la información adentro del script."
   ]
  },
  {
   "cell_type": "markdown",
   "metadata": {},
   "source": [
    "Aunque no hay una forma rígida de programar, para escribir un buen script (programa) se puede seguir la siguiente estructura:\n",
    "\n",
    "- `Comentarios generales del programa`\n",
    "\n",
    "\n",
    "- `Importar bibliotecas (librerías o módulos)`\n",
    "\n",
    "\n",
    "- `Definir funciones`\n",
    "\n",
    "\n",
    "- `Definir variables globales`\n",
    "\n",
    "\n",
    "- `Comandos de entrada por parte del usuario (si es necesario)`\n",
    "\n",
    "\n",
    "- `Estructuras de control y/o cálculos`\n",
    "\n",
    "\n",
    "- `Comandos de salida (si es necesario)`"
   ]
  },
  {
   "cell_type": "markdown",
   "metadata": {},
   "source": [
    "Finalmente, es posible exportar los _**Cuadernos de Jupyter**_, como **scripts**, desde el menu *File*.\n",
    "Intentalo ..."
   ]
  },
  {
   "cell_type": "code",
   "execution_count": null,
   "metadata": {},
   "outputs": [],
   "source": []
  }
 ],
 "metadata": {
  "@webio": {
   "lastCommId": null,
   "lastKernelId": null
  },
  "kernelspec": {
   "display_name": "Python 3 (ipykernel)",
   "language": "python",
   "name": "python3"
  },
  "language_info": {
   "codemirror_mode": {
    "name": "ipython",
    "version": 3
   },
   "file_extension": ".py",
   "mimetype": "text/x-python",
   "name": "python",
   "nbconvert_exporter": "python",
   "pygments_lexer": "ipython3",
   "version": "3.13.3"
  }
 },
 "nbformat": 4,
 "nbformat_minor": 4
}
